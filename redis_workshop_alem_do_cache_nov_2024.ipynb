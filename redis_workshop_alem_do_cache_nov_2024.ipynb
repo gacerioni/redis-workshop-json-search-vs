{
  "cells": [
    {
      "cell_type": "markdown",
      "metadata": {
        "id": "view-in-github",
        "colab_type": "text"
      },
      "source": [
        "<a href=\"https://colab.research.google.com/github/gacerioni/redis-workshop-json-search-vs/blob/master/redis_workshop_alem_do_cache_nov_2024.ipynb\" target=\"_parent\"><img src=\"https://colab.research.google.com/assets/colab-badge.svg\" alt=\"Open In Colab\"/></a>"
      ]
    },
    {
      "cell_type": "markdown",
      "metadata": {
        "id": "LDFnzeLwjmXL"
      },
      "source": [
        "# Workshop - Redis muito além do Cache - 2024\n",
        "\n",
        "![Redis](https://redis.io/wp-content/uploads/2024/04/Logotype.svg?auto=webp&quality=85,75&width=120)\n",
        "\n",
        "\n",
        "\n",
        "Bem-vindo ao workshop hands-on \"Redis Muito Além do Cache\"! Aqui, você terá uma experiência prática com os principais data types do Redis, explorando além do uso básico como cache. Vamos focar em como o Redis pode ser usado como um banco de dados completo e versátil.\n",
        "\n",
        "\n",
        "Para uma experiência premium, como a que eu quero que vocês tenham, recomendo MUITO utilizar o Redis Insight (App ou Web) pra apoiar na visualização dos dados.\n",
        "\n",
        "https://redis.com/redis-enterprise/redis-insight/"
      ]
    },
    {
      "cell_type": "markdown",
      "source": [
        "## Objetivos do Workshop\n",
        "\n",
        "O objetivo deste notebook é apresentar as principais estruturas de dados do Redis e proporcionar uma prática interativa com cada uma delas. Nosso foco será na execução de comandos e na manipulação de dados em tempo real, com exemplos que você pode adaptar para suas próprias aplicações.\n",
        "\n",
        "**Nota**: Já configuramos um ambiente de desenvolvimento no Google Colab para você começar imediatamente."
      ],
      "metadata": {
        "id": "4qTOaeeMjwzo"
      }
    },
    {
      "cell_type": "markdown",
      "source": [
        "## Setup Inicial\n",
        "\n",
        "Antes de começar a explorar, vamos configurar o ambiente e garantir que você esteja pronto para executar comandos Redis diretamente no Google Colab."
      ],
      "metadata": {
        "id": "Px9l1ToXAD90"
      }
    },
    {
      "cell_type": "code",
      "execution_count": 23,
      "metadata": {
        "id": "maAiICvM-cTX",
        "outputId": "4016d69d-c22c-426c-d3ea-aec3331ed72a",
        "colab": {
          "base_uri": "https://localhost:8080/"
        }
      },
      "outputs": [
        {
          "output_type": "stream",
          "name": "stdout",
          "text": [
            "W: Skipping acquire of configured file 'main/source/Sources' as repository 'https://r2u.stat.illinois.edu/ubuntu jammy InRelease' does not seem to provide it (sources.list entry misspelt?)\n",
            "PONG\n",
            "Conexão com o Redis bem-sucedida!\n"
          ]
        }
      ],
      "source": [
        "# Instala a biblioteca Redis para Python\n",
        "!pip install -q redis\n",
        "\n",
        "# Instala a CLI do Redis (redis-tools) para executar comandos diretamente\n",
        "!apt-get update -qq\n",
        "!apt-get install -y -qq redis-tools\n",
        "\n",
        "# Configuração da conexão com o Redis Cloud (preencha com suas credenciais)\n",
        "import os\n",
        "\n",
        "REDIS_HOST = \"redis-18443.c309.us-east-2-1.ec2.redns.redis-cloud.com\"  # Exemplo: \"redis-12345.c1.sa-east-1-3.ec2.cloud.redislabs.com\"\n",
        "REDIS_PORT = 18443             # Porta do seu Redis\n",
        "REDIS_PASSWORD = \"Secret@42\"   # Senha do Redis\n",
        "\n",
        "# Definindo a variável de ambiente para usar a redis-cli\n",
        "os.environ[\"REDIS_CONN\"] = f\"-h {REDIS_HOST} -p {REDIS_PORT} -a {REDIS_PASSWORD} --no-auth-warning\"\n",
        "\n",
        "# Testando a conexão com o Redis Cloud\n",
        "!redis-cli $REDIS_CONN PING\n",
        "\n",
        "# Importando a biblioteca redis-py e testando a conexão\n",
        "import redis\n",
        "\n",
        "r = redis.Redis(\n",
        "    host=REDIS_HOST,\n",
        "    port=REDIS_PORT,\n",
        "    password=REDIS_PASSWORD,\n",
        "    decode_responses=True\n",
        ")\n",
        "\n",
        "# Testando a conexão com o Redis usando redis-py\n",
        "if r.ping():\n",
        "    print(\"Conexão com o Redis bem-sucedida!\")\n",
        "else:\n",
        "    print(\"Erro ao conectar com o Redis.\")"
      ]
    },
    {
      "cell_type": "markdown",
      "source": [
        "Agora que você está com tudo configurado, vamos começar a explorar os data types básicos do Redis e realizar alguns exercícios interativos para entender como eles funcionam na prática."
      ],
      "metadata": {
        "id": "AgroIVknws6b"
      }
    },
    {
      "cell_type": "markdown",
      "source": [
        "# Data Types Básicos no Redis\n",
        "\n",
        "**O Redis oferece uma variedade de estruturas de dados, cada uma otimizada para diferentes cenários de uso. Aqui, vamos explorar os principais data types com exemplos rápidos para entender suas funcionalidades.**\n",
        "\n",
        "## 1. Strings\n",
        "As **Strings** são o data type mais simples no Redis, armazenando qualquer sequência de bytes, como texto ou números. Elas são amplamente usadas para contadores, sessões de usuário, e caching de valores simples.\n",
        "\n",
        "**Exemplo de Caso de Uso**: Cache Aside, contadores e KV-stores, Lock Distribuído, Rate Limiter, Session Storage, Feature Flags, Gaming, etc.\n",
        "\n",
        "### Exemplo com Strings\n",
        "\n"
      ],
      "metadata": {
        "id": "arosv6wAmV1P"
      }
    },
    {
      "cell_type": "code",
      "source": [
        "# Armazenar um valor simples (pode ser uma configuração ou dado de cache)\n",
        "r.set(\"config:modo\", \"produção\")\n",
        "print(\"Modo atual:\", r.get(\"config:modo\"))\n",
        "\n",
        "# Atualizar o valor (simular uma mudança de configuração)\n",
        "r.set(\"config:modo\", \"manutenção\")\n",
        "print(\"Modo atualizado:\", r.get(\"config:modo\"))\n",
        "\n",
        "# Usar Strings como um contador para likes em um post\n",
        "r.set(\"post:123:likes\", 10)\n",
        "print(\"Likes iniciais:\", r.get(\"post:123:likes\"))\n",
        "\n",
        "# Incrementar e decrementar o contador de likes\n",
        "r.incr(\"post:123:likes\")\n",
        "print(\"Likes após um incremento:\", r.get(\"post:123:likes\"))\n",
        "r.decr(\"post:123:likes\")\n",
        "print(\"Likes após um decremento:\", r.get(\"post:123:likes\"))\n",
        "\n",
        "# Simular uma expiração (TTL) para uma sessão de usuário\n",
        "r.setex(\"sessao:usuario:456\", 30, \"ativo\")\n",
        "print(\"Sessão de usuário criada com TTL de 30 segundos.\")"
      ],
      "metadata": {
        "id": "jRZ3JNnPt0qQ",
        "colab": {
          "base_uri": "https://localhost:8080/"
        },
        "outputId": "bcab41b8-6528-4d61-87a0-a2481e865288"
      },
      "execution_count": 24,
      "outputs": [
        {
          "output_type": "stream",
          "name": "stdout",
          "text": [
            "Modo atual: produção\n",
            "Modo atualizado: manutenção\n",
            "Likes iniciais: 10\n",
            "Likes após um incremento: 11\n",
            "Likes após um decremento: 10\n",
            "Sessão de usuário criada com TTL de 30 segundos.\n"
          ]
        }
      ]
    },
    {
      "cell_type": "markdown",
      "source": [
        "## 2. Lists\n",
        "\n",
        "As **Lists** são coleções ordenadas de strings, úteis para filas de tarefas ou logs. Podem funcionar como uma fila (FIFO) ou uma pilha (LIFO). A API do Redis fornece muitos comandos seguros, atômicos e previsíveis para você implementar arquiteturas e filas robustas e prontas para PROD. Simples é bem diferente de frágil. 90% de todas as transações financeiras que você faz em um dia passaram por um Redis.\n",
        "\n",
        "Caso de Uso: Implementar filas simples de mensagens, arquiteturas desacopladas, arquiteturas assíncronas, sistemas de vazão, integração com Lambdas, Triggers, Filas de Trabalho, etc.\n",
        "\n",
        "### Exemplo com Lists\n"
      ],
      "metadata": {
        "id": "Q0O6WwbeAKAA"
      }
    },
    {
      "cell_type": "code",
      "source": [
        "# Simular uma fila de tarefas com LPUSH e RPOP (FIFO)\n",
        "r.lpush(\"fila:tarefas\", \"tarefa1\", \"tarefa2\", \"tarefa3\")\n",
        "print(\"Tarefas na fila (FIFO):\", r.lrange(\"fila:tarefas\", 0, -1))\n",
        "\n",
        "# Remover e processar a tarefa mais antiga\n",
        "tarefa = r.rpop(\"fila:tarefas\")\n",
        "print(\"Processando:\", tarefa)\n",
        "print(\"Tarefas restantes na fila:\", r.lrange(\"fila:tarefas\", 0, -1))\n",
        "\n",
        "# Simular uma pilha de mensagens (LIFO)\n",
        "r.rpush(\"pilha:mensagens\", \"mensagem1\", \"mensagem2\", \"mensagem3\")\n",
        "print(\"Mensagens na pilha (LIFO):\", r.lrange(\"pilha:mensagens\", 0, -1))\n",
        "\n",
        "# Remover e processar a mensagem mais recente\n",
        "mensagem = r.rpop(\"pilha:mensagens\")\n",
        "print(\"Processando mensagem:\", mensagem)\n",
        "print(\"Mensagens restantes na pilha:\", r.lrange(\"pilha:mensagens\", 0, -1))"
      ],
      "metadata": {
        "colab": {
          "base_uri": "https://localhost:8080/"
        },
        "id": "RFbo0bebAq8b",
        "outputId": "edc84a43-71f4-4300-e263-f22468deff45"
      },
      "execution_count": 25,
      "outputs": [
        {
          "output_type": "stream",
          "name": "stdout",
          "text": [
            "Tarefas na fila (FIFO): ['tarefa3', 'tarefa2', 'tarefa1', 'tarefa3', 'tarefa2']\n",
            "Processando: tarefa2\n",
            "Tarefas restantes na fila: ['tarefa3', 'tarefa2', 'tarefa1', 'tarefa3']\n",
            "Mensagens na pilha (LIFO): ['mensagem1', 'mensagem2', 'mensagem1', 'mensagem2', 'mensagem3']\n",
            "Processando mensagem: mensagem3\n",
            "Mensagens restantes na pilha: ['mensagem1', 'mensagem2', 'mensagem1', 'mensagem2']\n"
          ]
        }
      ]
    },
    {
      "cell_type": "markdown",
      "source": [
        "## 3. Sets\n",
        "\n",
        "Os **Sets** são coleções de strings únicas, ideais para armazenar elementos sem duplicatas. São úteis para deduplicação, gerenciamento de IDs únicos, ou até para operações de conjuntos, como interseção e união.\n",
        "\n",
        "Caso de Uso: Listar usuários únicos online em uma aplicação, deduplicar itens, aplicar teoria dos conjuntos, ou até criar índices secundários personalizados.\n",
        "\n",
        "### Exemplo com Sets"
      ],
      "metadata": {
        "id": "Scy_-4rZBat3"
      }
    },
    {
      "cell_type": "code",
      "source": [
        "# Adicionar usuários únicos online\n",
        "r.sadd(\"usuarios:online\", \"alice\", \"bob\", \"carol\")\n",
        "print(\"Usuários online:\", r.smembers(\"usuarios:online\"))\n",
        "\n",
        "# Adicionar um usuário duplicado (não será adicionado novamente)\n",
        "r.sadd(\"usuarios:online\", \"alice\")\n",
        "print(\"Usuários online (após tentativa de duplicação):\", r.smembers(\"usuarios:online\"))\n",
        "\n",
        "# Remover um usuário que saiu\n",
        "r.srem(\"usuarios:online\", \"bob\")\n",
        "print(\"Usuários online (após saída de Bob):\", r.smembers(\"usuarios:online\"))\n",
        "\n",
        "# Operações de conjuntos: Simular interseção com outro set de usuários\n",
        "r.sadd(\"usuarios:ativos\", \"alice\", \"dave\", \"carol\")\n",
        "interseccao = r.sinter(\"usuarios:online\", \"usuarios:ativos\")\n",
        "print(\"Usuários online e ativos:\", interseccao)"
      ],
      "metadata": {
        "colab": {
          "base_uri": "https://localhost:8080/"
        },
        "id": "ft-yeq0XB4vR",
        "outputId": "6881caca-dffa-4f57-a340-0d66fd795473"
      },
      "execution_count": 26,
      "outputs": [
        {
          "output_type": "stream",
          "name": "stdout",
          "text": [
            "Usuários online: {'carol', 'bob', 'alice'}\n",
            "Usuários online (após tentativa de duplicação): {'carol', 'bob', 'alice'}\n",
            "Usuários online (após saída de Bob): {'carol', 'alice'}\n",
            "Usuários online e ativos: {'carol', 'alice'}\n"
          ]
        }
      ]
    },
    {
      "cell_type": "markdown",
      "source": [
        "## 4. Sorted Sets\n",
        "\n",
        "Os **Sorted Sets** são como sets, mas com uma pontuação associada a cada elemento, o que permite manter os elementos ordenados. Eles são ideais para rankings, agendamentos, e qualquer caso em que a ordem baseada em pontuação seja importante.\n",
        "\n",
        "Caso de Uso: Classificação de jogadores em um jogo, leaderboards em geral, análises em tempo real, agendamento de tarefas, ou filas de prioridade.\n",
        "\n",
        "### Exemplo com Sorted Sets\n",
        "\n"
      ],
      "metadata": {
        "id": "CEh0v3F4G2T2"
      }
    },
    {
      "cell_type": "code",
      "source": [
        "# Adicionar jogadores com suas pontuações\n",
        "r.zadd(\"jogo:ranking\", {\"player1\": 1500, \"player2\": 3000, \"player3\": 2500})\n",
        "print(\"Ranking dos jogadores (do menor para o maior):\", r.zrange(\"jogo:ranking\", 0, -1, withscores=True))\n",
        "\n",
        "# Consultar o ranking em ordem decrescente (do maior para o menor)\n",
        "print(\"Ranking dos jogadores (do maior para o menor):\", r.zrevrange(\"jogo:ranking\", 0, -1, withscores=True))\n",
        "\n",
        "# Atualizar a pontuação de um jogador\n",
        "r.zincrby(\"jogo:ranking\", 500, \"player1\")\n",
        "print(\"Ranking atualizado (do maior para o menor):\", r.zrevrange(\"jogo:ranking\", 0, -1, withscores=True))\n",
        "\n",
        "# Consultar a posição de um jogador\n",
        "posicao = r.zrevrank(\"jogo:ranking\", \"player1\")\n",
        "print(\"Posição do player1 no ranking:\", posicao + 1)  # +1 para uma posição humana (começando do 1)\n",
        "\n",
        "# Remover um jogador do ranking\n",
        "r.zrem(\"jogo:ranking\", \"player2\")\n",
        "print(\"Ranking após remoção de player2:\", r.zrevrange(\"jogo:ranking\", 0, -1, withscores=True))"
      ],
      "metadata": {
        "colab": {
          "base_uri": "https://localhost:8080/"
        },
        "id": "bF92VOkyHZeN",
        "outputId": "dccc7d24-92fb-4363-b74d-2316817f13b3"
      },
      "execution_count": 27,
      "outputs": [
        {
          "output_type": "stream",
          "name": "stdout",
          "text": [
            "Ranking dos jogadores (do menor para o maior): [('player1', 1500.0), ('player3', 2500.0), ('player2', 3000.0)]\n",
            "Ranking dos jogadores (do maior para o menor): [('player2', 3000.0), ('player3', 2500.0), ('player1', 1500.0)]\n",
            "Ranking atualizado (do maior para o menor): [('player2', 3000.0), ('player3', 2500.0), ('player1', 2000.0)]\n",
            "Posição do player1 no ranking: 3\n",
            "Ranking após remoção de player2: [('player3', 2500.0), ('player1', 2000.0)]\n"
          ]
        }
      ]
    },
    {
      "cell_type": "markdown",
      "source": [
        "## 5. Hashes\n",
        "\n",
        "Os **Hashes** são coleções de pares campo-valor, úteis para armazenar objetos, como perfis de usuários ou configurações. Você também pode setar TTLs para cada sub-key, abrindo ainda mais possibilidades e controle.\n",
        "\n",
        "Caso de Uso: Armazenar informações de usuário de maneira estruturada, banco de dados primário, NoSQL, ORM, Session Storage, AIML Feature Stores, etc.\n",
        "\n",
        "### Exemplo com Hashes"
      ],
      "metadata": {
        "id": "BtylAtpoH7LG"
      }
    },
    {
      "cell_type": "code",
      "source": [
        "# Criar um hash com informações de usuário\n",
        "r.hset(\"usuario:1001\", mapping={\"nome\": \"Gabriel\", \"email\": \"gabriel@example.com\", \"idade\": \"32\"})\n",
        "print(\"Perfil do usuário:\", r.hgetall(\"usuario:1001\"))\n",
        "\n",
        "# Recuperar apenas um campo específico (email)\n",
        "email = r.hget(\"usuario:1001\", \"email\")\n",
        "print(\"Email do usuário:\", email)\n",
        "\n",
        "# Atualizar a idade do usuário\n",
        "r.hset(\"usuario:1001\", \"idade\", \"33\")\n",
        "print(\"Perfil atualizado:\", r.hgetall(\"usuario:1001\"))\n",
        "\n",
        "# Remover um campo do hash (por exemplo, o email)\n",
        "r.hdel(\"usuario:1001\", \"email\")\n",
        "print(\"Perfil após remoção do email:\", r.hgetall(\"usuario:1001\"))\n",
        "\n",
        "# Definir um TTL para a chave do usuário (expira após 60 segundos)\n",
        "r.expire(\"usuario:1001\", 60)\n",
        "print(\"TTL definido para a chave 'usuario:1001' (60 segundos)\")"
      ],
      "metadata": {
        "colab": {
          "base_uri": "https://localhost:8080/"
        },
        "id": "CiOWSc3oJrJi",
        "outputId": "3a0d1051-ca85-4bdd-d6c9-b184cbf3cb72"
      },
      "execution_count": 28,
      "outputs": [
        {
          "output_type": "stream",
          "name": "stdout",
          "text": [
            "Perfil do usuário: {'nome': 'Gabriel', 'email': 'gabriel@example.com', 'idade': '32'}\n",
            "Email do usuário: gabriel@example.com\n",
            "Perfil atualizado: {'nome': 'Gabriel', 'email': 'gabriel@example.com', 'idade': '33'}\n",
            "Perfil após remoção do email: {'nome': 'Gabriel', 'idade': '33'}\n",
            "TTL definido para a chave 'usuario:1001' (60 segundos)\n"
          ]
        }
      ]
    },
    {
      "cell_type": "markdown",
      "source": [
        "### Exercício com Hashes - HASH Sub-Key Expiration\n",
        "\n",
        "Com o Redis 7.4, é possível aplicar expirações (TTL) a campos individuais, o que abre novas possibilidades para gerenciar dados temporários."
      ],
      "metadata": {
        "id": "K1-HnzT4Juc2"
      }
    },
    {
      "cell_type": "code",
      "source": [
        "# Criar um hash simulando dados de sessão do usuário\n",
        "r.hset(\"sessao:usuario:1337\", mapping={\n",
        "    \"nome\": \"Gabriel\",\n",
        "    \"sobrenome\": \"Cerioni\",\n",
        "    \"token\": \"super-token-secreto<....>\",            # Token que expira\n",
        "    \"ultimo_login\": \"2024-11-04\",\n",
        "    \"pais_origem\": \"BRA\",\n",
        "    \"geoloc_estimado\": \"-46.63389,-23.55028\",        # Praça da Sé, SP\n",
        "    \"user_tier_level\": 3                             # Imagine um sistema de Tier de 0-10 (noob to VIP)\n",
        "})\n",
        "print(\"Dados da sessão:\", r.hgetall(\"sessao:usuario:1337\"))\n",
        "\n",
        "# Aplicar um TTL de 30 segundos apenas ao campo 'token' usando HEXPIRE\n",
        "r.execute_command(\"HEXPIRE\", \"sessao:usuario:1337\", 30, \"FIELDS\", 1, \"token\")\n",
        "print(\"TTL de 30 segundos definido para o campo 'token'.\")\n",
        "\n",
        "# Verificar os dados da sessão (o token ainda está presente)\n",
        "print(\"Dados da sessão (após definir TTL):\")\n",
        "for campo, valor in r.hgetall(\"sessao:usuario:1337\").items():\n",
        "    print(f\"{campo}: {valor}\")\n",
        "\n",
        "# Após 30 segundos, o campo 'token' será automaticamente removido. Aguarde para ver o efeito.\n",
        "\n",
        "# OPCIONAL - Remover o TTL do campo 'token', tornando-o persistente novamente\n",
        "#r.execute_command(\"HPERSIST\", \"sessao:usuario:1337\", \"FIELDS\", 1, \"token\")\n",
        "#print(\"O campo 'token' agora é persistente novamente:\", r.hgetall(\"sessao:usuario:1337\"))"
      ],
      "metadata": {
        "colab": {
          "base_uri": "https://localhost:8080/"
        },
        "id": "tGMcwDmHJ5Jj",
        "outputId": "b2f46c97-6c4c-4d91-f49f-d888b46ddb66"
      },
      "execution_count": 29,
      "outputs": [
        {
          "output_type": "stream",
          "name": "stdout",
          "text": [
            "Dados da sessão: {'nome': 'Gabriel', 'ultimo_login': '2024-11-04', 'sobrenome': 'Cerioni', 'pais_origem': 'BRA', 'geoloc_estimado': '-46.63389,-23.55028', 'user_tier_level': '3', 'token': 'super-token-secreto<....>'}\n",
            "TTL de 30 segundos definido para o campo 'token'.\n",
            "Dados da sessão (após definir TTL):\n",
            "token: super-token-secreto<....>\n",
            "nome: Gabriel\n",
            "ultimo_login: 2024-11-04\n",
            "sobrenome: Cerioni\n",
            "pais_origem: BRA\n",
            "geoloc_estimado: -46.63389,-23.55028\n",
            "user_tier_level: 3\n"
          ]
        }
      ]
    },
    {
      "cell_type": "markdown",
      "source": [
        "### Teaser de Indexação com RediSearch\n",
        "#### *Calma, você ainda vai aprender a usar o `Redis Search and Query Engine`!*\n",
        "\n",
        "Agora que você aprendeu a manipular dados estruturados com Hashes, imagine o poder de realizar buscas otimizadas e complexas. No **Redis**, com **RediSearch**, é possível indexar campos de forma poderosa e eficiente, como neste exemplo rápido de indexação e busca que veremos mais a fundo na próxima sessão:\n",
        "\n",
        "\n",
        "\n"
      ],
      "metadata": {
        "id": "fIk-xpkXOGdi"
      }
    },
    {
      "cell_type": "code",
      "source": [
        "from redis.commands.search.field import TagField, NumericField, GeoField\n",
        "from redis.commands.search.indexDefinition import IndexDefinition, IndexType\n",
        "from redis.commands.search.query import Query\n",
        "\n",
        "# 1. Deletar o índice se ele já existir, para garantir que começamos do zero\n",
        "try:\n",
        "    r.ft(\"idx:sessao_usuarios\").dropindex(delete_documents=False)\n",
        "except:\n",
        "    pass\n",
        "\n",
        "# 2. Criar o índice para o hash 'sessao:usuario:'\n",
        "r.ft(\"idx:sessao_usuarios\").create_index(\n",
        "    [\n",
        "        TagField(\"pais_origem\"),\n",
        "        NumericField(\"user_tier_level\"),\n",
        "        GeoField(\"geoloc_estimado\")\n",
        "    ],\n",
        "    definition=IndexDefinition(prefix=[\"sessao:usuario:\"], index_type=IndexType.HASH)\n",
        ")\n",
        "\n",
        "# 3. Indexar um hash de exemplo com dados de sessão do usuário\n",
        "r.hset(\"sessao:usuario:1337\", mapping={\n",
        "    \"nome\": \"Gabriel\",\n",
        "    \"sobrenome\": \"Cerioni\",\n",
        "    \"token\": \"super-token-secreto<....>\",\n",
        "    \"ultimo_login\": \"2024-11-04\",\n",
        "    \"pais_origem\": \"BRA\",\n",
        "    \"geoloc_estimado\": \"-46.63389,-23.55028\",  # Praça da Sé, SP\n",
        "    \"user_tier_level\": 3\n",
        "})\n",
        "print(\"✅ Dados de sessão indexados com sucesso!\")\n",
        "\n",
        "# 4. Executar uma busca única: usuários do Brasil, nível de tier entre 2 e 5, próximos ao centro de SP\n",
        "query = Query(\"@pais_origem:{BRA} @user_tier_level:[2 5] @geoloc_estimado:[-46.63389 -23.55028 5 km]\")\n",
        "\n",
        "# 5. Executar a busca e exibir os resultados\n",
        "res = r.ft(\"idx:sessao_usuarios\").search(query)\n",
        "print(\"🔍 Resultado da busca com RediSearch:\")\n",
        "for doc in res.docs:\n",
        "    print(doc.__dict__)"
      ],
      "metadata": {
        "colab": {
          "base_uri": "https://localhost:8080/"
        },
        "id": "8LEM5q4uOzL7",
        "outputId": "a818f0fd-ab47-4c5b-f5d8-767cbaaa5d87"
      },
      "execution_count": 30,
      "outputs": [
        {
          "output_type": "stream",
          "name": "stdout",
          "text": [
            "✅ Dados de sessão indexados com sucesso!\n",
            "🔍 Resultado da busca com RediSearch:\n",
            "{'id': 'sessao:usuario:1337', 'payload': None, 'nome': 'Gabriel', 'ultimo_login': '2024-11-04', 'sobrenome': 'Cerioni', 'pais_origem': 'BRA', 'geoloc_estimado': '-46.63389,-23.55028', 'user_tier_level': '3', 'token': 'super-token-secreto<....>'}\n"
          ]
        }
      ]
    },
    {
      "cell_type": "markdown",
      "source": [
        "# Data Types Avançados no Redis\n",
        "\n",
        "Agora que você já conhece os tipos de dados básicos no Redis, chegou a hora de explorar algumas das funcionalidades mais poderosas e avançadas. Esses data types são perfeitos para cenários que exigem alta performance, escalabilidade e funcionalidades que vão muito além de simples caches.\n",
        "\n",
        "Prepare-se para ver o Redis como um verdadeiro *Canivete Suíço* de soluções de dados, desde mensageria em tempo real até armazenamento eficiente de documentos JSON, e tudo isso com exemplos práticos que você poderá adaptar para seus projetos."
      ],
      "metadata": {
        "id": "sHhNGfjERDPM"
      }
    },
    {
      "cell_type": "markdown",
      "source": [
        "## RedisJSON - Redis como um NoSQL Primário\n",
        "\n",
        "O **RedisJSON** é um módulo que permite armazenar, consultar e modificar documentos JSON diretamente no Redis. Ele é especialmente útil para quem precisa trabalhar com dados hierárquicos e quer a flexibilidade de documentos JSON, mas com a performance do Redis.\n",
        "\n",
        "Ele é um bom candidato a ser o seu NoSQL Primário. Integra-se nativamente com ferramentais de CDC e ORM, onde sua aplicação considera o Redis como um DAO Repository ou algo similar, assim como qualquer outro banco de dados NoSQL.\n",
        "\n",
        "### Caso de Uso: Catálogo de Produtos\n",
        "\n",
        "Imagine que você esteja criando um catálogo de produtos para um e-commerce. Você pode armazenar informações complexas como detalhes do produto, preço, inventário e reviews em formato JSON. Isso permite consultas eficientes e a capacidade de atualizar dados específicos de maneira atômica."
      ],
      "metadata": {
        "id": "oFVQ1xtWROOM"
      }
    },
    {
      "cell_type": "code",
      "source": [
        "# Importando a biblioteca para trabalhar com JSON no Redis\n",
        "import redis\n",
        "from redis.commands.json.path import Path\n",
        "\n",
        "# Conectando ao Redis (ajuste as credenciais conforme necessário)\n",
        "r = redis.Redis(\n",
        "    host=REDIS_HOST,\n",
        "    port=REDIS_PORT,\n",
        "    password=REDIS_PASSWORD,\n",
        "    decode_responses=True\n",
        ")\n",
        "\n",
        "# 1. Criar um documento JSON para um produto no catálogo\n",
        "produto = {\n",
        "    \"id\": \"123\",\n",
        "    \"nome\": \"Fone de Ouvido Bluetooth\",\n",
        "    \"marca\": \"MarcaX\",\n",
        "    \"preco\": 299.99,\n",
        "    \"estoque\": 50,\n",
        "    \"reviews\": [\n",
        "        {\"usuario\": \"Alice\", \"comentario\": \"Ótimo produto!\", \"nota\": 5},\n",
        "        {\"usuario\": \"Bob\", \"comentario\": \"Bom custo-benefício.\", \"nota\": 4}\n",
        "    ]\n",
        "}\n",
        "\n",
        "# 2. Armazenar o documento JSON no Redis\n",
        "r.json().set(\"produto:123\", Path.root_path(), produto)\n",
        "print(\"✅ Produto armazenado com sucesso!\")\n",
        "\n",
        "# 3. Consultar o nome e o preço do produto\n",
        "nome = r.json().get(\"produto:123\", Path(\".nome\"))\n",
        "preco = r.json().get(\"produto:123\", Path(\".preco\"))\n",
        "print(f\"Nome: {nome}, Preço: R${preco}\")\n",
        "\n",
        "# 4. Atualizar o preço do produto\n",
        "r.json().set(\"produto:123\", Path(\".preco\"), 279.99)\n",
        "print(\"💰 Preço atualizado para R$279.99!\")\n",
        "\n",
        "# 5. Adicionar um novo review ao produto\n",
        "novo_review = {\"usuario\": \"Carlos\", \"comentario\": \"Funciona muito bem!\", \"nota\": 5}\n",
        "r.json().arrappend(\"produto:123\", Path(\".reviews\"), novo_review)\n",
        "print(\"📝 Novo review adicionado!\")\n",
        "\n",
        "# 6. Consultar o documento atualizado\n",
        "produto_atualizado = r.json().get(\"produto:123\")\n",
        "print(\"🔍 Produto atualizado:\", produto_atualizado)"
      ],
      "metadata": {
        "colab": {
          "base_uri": "https://localhost:8080/"
        },
        "id": "zIrZLIdBR6M-",
        "outputId": "450f4765-2044-4b2f-e12e-26f544a1b473"
      },
      "execution_count": 31,
      "outputs": [
        {
          "output_type": "stream",
          "name": "stdout",
          "text": [
            "✅ Produto armazenado com sucesso!\n",
            "Nome: Fone de Ouvido Bluetooth, Preço: R$299.99\n",
            "💰 Preço atualizado para R$279.99!\n",
            "📝 Novo review adicionado!\n",
            "🔍 Produto atualizado: {'id': '123', 'nome': 'Fone de Ouvido Bluetooth', 'marca': 'MarcaX', 'preco': 279.99, 'estoque': 50, 'reviews': [{'usuario': 'Alice', 'comentario': 'Ótimo produto!', 'nota': 5}, {'usuario': 'Bob', 'comentario': 'Bom custo-benefício.', 'nota': 4}, {'usuario': 'Carlos', 'comentario': 'Funciona muito bem!', 'nota': 5}]}\n"
          ]
        }
      ]
    },
    {
      "cell_type": "markdown",
      "source": [
        "## Redis Pub/Sub - Mensageria em Tempo Real\n",
        "\n",
        "O **Pub/Sub** do Redis é uma ferramenta poderosa para sistemas de mensageria. Ele permite que aplicações publiquem mensagens em canais específicos e que outros sistemas ou serviços se inscrevam (subscribe) para receber essas mensagens em tempo real. Isso é muito útil para criar sistemas distribuídos, notificações em tempo real, ou arquiteturas de eventos.\n",
        "\n",
        "### Caso de Uso: Notificações em Tempo Real\n",
        "\n",
        "Imagine que você tem um sistema de monitoramento em uma aplicação de e-commerce, onde precisa alertar os usuários sobre mudanças de preço, eventos ou novas promoções. O **Redis Pub/Sub** facilita a comunicação em tempo real entre diferentes componentes do sistema.\n",
        "\n",
        "### Exemplo com Pub/Sub\n",
        "\n",
        "No exemplo abaixo, criaremos um simples sistema de publicação e assinatura:"
      ],
      "metadata": {
        "id": "XzgiaM8gS2gJ"
      }
    },
    {
      "cell_type": "code",
      "source": [
        "import threading\n",
        "import time\n",
        "\n",
        "# Função para o assinante\n",
        "def subscriber():\n",
        "    pubsub = r.pubsub()\n",
        "    pubsub.subscribe(\"notificacoes\")\n",
        "\n",
        "    print(\"📡 Assinante aguardando mensagens no canal 'notificacoes'...\")\n",
        "\n",
        "    for mensagem in pubsub.listen():\n",
        "        if mensagem[\"type\"] == \"message\":\n",
        "            print(f\"🔔 Nova mensagem recebida: {mensagem['data']}\")\n",
        "\n",
        "# Iniciar o assinante em uma thread separada\n",
        "assinante_thread = threading.Thread(target=subscriber)\n",
        "assinante_thread.start()\n",
        "\n",
        "# Simular o publicador que envia mensagens\n",
        "time.sleep(2)  # Simula um atraso antes de enviar a mensagem\n",
        "r.publish(\"notificacoes\", \"Promoção: 50% de desconto em todos os produtos!\")\n",
        "time.sleep(1)\n",
        "r.publish(\"notificacoes\", \"Novidade: Lançamos uma nova coleção de verão!\")"
      ],
      "metadata": {
        "colab": {
          "base_uri": "https://localhost:8080/"
        },
        "id": "TgcJ5YLeTCCf",
        "outputId": "59608089-0db8-417b-8ed4-437a65cd3d08"
      },
      "execution_count": 35,
      "outputs": [
        {
          "output_type": "stream",
          "name": "stdout",
          "text": [
            "📡 Assinante aguardando mensagens no canal 'notificacoes'...\n",
            "🔔 Nova mensagem recebida: Promoção: 50% de desconto em todos os produtos!🔔 Nova mensagem recebida: Promoção: 50% de desconto em todos os produtos!\n",
            "\n",
            "🔔 Nova mensagem recebida: Promoção: 50% de desconto em todos os produtos!\n",
            "🔔 Nova mensagem recebida: Novidade: Lançamos uma nova coleção de verão!\n",
            "🔔 Nova mensagem recebida: Novidade: Lançamos uma nova coleção de verão!\n"
          ]
        },
        {
          "output_type": "execute_result",
          "data": {
            "text/plain": [
              "3"
            ]
          },
          "metadata": {},
          "execution_count": 35
        },
        {
          "output_type": "stream",
          "name": "stdout",
          "text": [
            "🔔 Nova mensagem recebida: Novidade: Lançamos uma nova coleção de verão!\n"
          ]
        }
      ]
    },
    {
      "cell_type": "markdown",
      "source": [
        "## Redis Streams - Comunicação Eficiente e Processamento de Dados\n",
        "\n",
        "O **Redis Stream** é uma estrutura de dados poderosa que permite capturar e distribuir eventos em tempo real. Ele é útil em casos como processamento de logs, filas de eventos distribuídas, ou qualquer aplicação que precise de alta disponibilidade e escalabilidade.\n",
        "\n",
        "### Caso de Uso: Sistema de Processamento de Pedidos\n",
        "\n",
        "Imagine um e-commerce processando pedidos em tempo real. Cada pedido pode ser registrado como uma mensagem na Stream, e grupos de consumidores podem processar esses pedidos em paralelo, distribuindo a carga de trabalho de maneira eficiente.\n",
        "\n",
        "### Exemplo com Redis Streams\n",
        "\n",
        "#### 1. Adicionando Mensagens à Stream\n",
        "\n",
        "Vamos criar uma Stream e adicionar mensagens que representam pedidos de um sistema de e-commerce.\n"
      ],
      "metadata": {
        "id": "WCQPyR3yUKdn"
      }
    },
    {
      "cell_type": "code",
      "source": [
        "# 1. Adicionando Mensagens à Stream\n",
        "print(\"### Adicionando Mensagens à Stream ###\")\n",
        "r.delete(\"pedidos_stream\")  # Deletar a Stream se já existir\n",
        "\n",
        "# Adicionar mensagens\n",
        "r.xadd(\"pedidos_stream\", {\"pedido_id\": \"001\", \"cliente\": \"Gabs\", \"valor\": \"100.00\"})\n",
        "r.xadd(\"pedidos_stream\", {\"pedido_id\": \"002\", \"cliente\": \"Magro\", \"valor\": \"250.50\"})\n",
        "r.xadd(\"pedidos_stream\", {\"pedido_id\": \"003\", \"cliente\": \"Bart\", \"valor\": \"89.99\"})\n",
        "\n",
        "# Verificar mensagens na Stream\n",
        "entradas = r.xrange(\"pedidos_stream\", \"-\", \"+\")\n",
        "print(\"Entradas na Stream de Pedidos:\")\n",
        "for entrada in entradas:\n",
        "    print(f\"ID: {entrada[0]}, Dados: {entrada[1]}\")\n"
      ],
      "metadata": {
        "colab": {
          "base_uri": "https://localhost:8080/"
        },
        "id": "SnG8WH34Uc9f",
        "outputId": "d5ba68f6-8e7d-43a3-be6d-4bf2c6d5bf43"
      },
      "execution_count": 45,
      "outputs": [
        {
          "output_type": "stream",
          "name": "stdout",
          "text": [
            "### Adicionando Mensagens à Stream ###\n",
            "Entradas na Stream de Pedidos:\n",
            "ID: 1730743236942-0, Dados: {'pedido_id': '001', 'cliente': 'Gabs', 'valor': '100.00'}\n",
            "ID: 1730743236964-0, Dados: {'pedido_id': '002', 'cliente': 'Magro', 'valor': '250.50'}\n",
            "ID: 1730743236985-0, Dados: {'pedido_id': '003', 'cliente': 'Bart', 'valor': '89.99'}\n"
          ]
        }
      ]
    },
    {
      "cell_type": "markdown",
      "source": [
        "#### 2. Criando um Grupo de Consumidores\n",
        "\n",
        "Vamos criar um grupo de consumidores chamado grupo_pedidos para processar as mensagens."
      ],
      "metadata": {
        "id": "NeLSXvWnUg_g"
      }
    },
    {
      "cell_type": "code",
      "source": [
        "# 2. Criando um Grupo de Consumidores\n",
        "print(\"\\n### Criando um Grupo de Consumidores ###\")\n",
        "try:\n",
        "    r.xgroup_create(\"pedidos_stream\", \"grupo_pedidos\", id=\"0\", mkstream=True)\n",
        "    print(\"Grupo de consumidores 'grupo_pedidos' criado com sucesso!\")\n",
        "except redis.exceptions.ResponseError:\n",
        "    print(\"Grupo de consumidores já existe, prosseguindo...\")"
      ],
      "metadata": {
        "colab": {
          "base_uri": "https://localhost:8080/"
        },
        "id": "YElmdBi5Ukwn",
        "outputId": "af23789c-b353-45ca-b537-08f07cefd0e6"
      },
      "execution_count": 47,
      "outputs": [
        {
          "output_type": "stream",
          "name": "stdout",
          "text": [
            "\n",
            "### Criando um Grupo de Consumidores ###\n",
            "Grupo de consumidores já existe, prosseguindo...\n"
          ]
        }
      ]
    },
    {
      "cell_type": "markdown",
      "source": [
        "#### 3. Consumindo Mensagens com um Consumidor\n",
        "\n",
        "Vamos usar o `XREADGROUP` para consumir mensagens no grupo de consumidores."
      ],
      "metadata": {
        "id": "l_Qs7wZJUo6d"
      }
    },
    {
      "cell_type": "code",
      "source": [
        "# 3. Consumindo Mensagens com um Consumidor\n",
        "print(\"\\n### Consumindo Mensagens com consumer1 ###\")\n",
        "entradas = r.xreadgroup(\"grupo_pedidos\", \"consumer1\", {\"pedidos_stream\": \">\"}, count=2, block=5000)\n",
        "\n",
        "if entradas:\n",
        "    print(\"Mensagens lidas pelo consumer1:\")\n",
        "    for stream, mensagens in entradas:\n",
        "        for msg_id, dados in mensagens:\n",
        "            print(f\"ID: {msg_id}, Dados: {dados}\")\n",
        "            # Confirmar (acknowledge) o processamento da mensagem\n",
        "            r.xack(\"pedidos_stream\", \"grupo_pedidos\", msg_id)\n",
        "            print(f\"Mensagem {msg_id} reconhecida (acknowledged) pelo consumer1.\")\n",
        "else:\n",
        "    print(\"Nenhuma mensagem disponível para consumer1.\")"
      ],
      "metadata": {
        "colab": {
          "base_uri": "https://localhost:8080/"
        },
        "id": "N5N4TT1pUof5",
        "outputId": "989f9c79-de3d-466c-bbaf-c8e264230086"
      },
      "execution_count": 48,
      "outputs": [
        {
          "output_type": "stream",
          "name": "stdout",
          "text": [
            "\n",
            "### Consumindo Mensagens com consumer1 ###\n",
            "Mensagens lidas pelo consumer1:\n",
            "ID: 1730743236942-0, Dados: {'pedido_id': '001', 'cliente': 'Gabs', 'valor': '100.00'}\n",
            "Mensagem 1730743236942-0 reconhecida (acknowledged) pelo consumer1.\n",
            "ID: 1730743236964-0, Dados: {'pedido_id': '002', 'cliente': 'Magro', 'valor': '250.50'}\n",
            "Mensagem 1730743236964-0 reconhecida (acknowledged) pelo consumer1.\n"
          ]
        }
      ]
    },
    {
      "cell_type": "markdown",
      "source": [
        "#### 4. Gerenciamento de Mensagens Pendentes\n",
        "\n",
        "Podemos verificar mensagens pendentes que ainda não foram processadas e transferi-las para outro consumidor, se necessário.\n"
      ],
      "metadata": {
        "id": "swk3krjcUzpK"
      }
    },
    {
      "cell_type": "code",
      "source": [
        "# 4. Gerenciamento de Mensagens Pendentes\n",
        "print(\"\\n### Gerenciamento de Mensagens Pendentes ###\")\n",
        "pendentes = r.xpending(\"pedidos_stream\", \"grupo_pedidos\")\n",
        "print(\"Mensagens pendentes no grupo 'grupo_pedidos':\", pendentes)"
      ],
      "metadata": {
        "colab": {
          "base_uri": "https://localhost:8080/"
        },
        "id": "ACdiJiLUU2Mj",
        "outputId": "ebc0c8db-54be-47fe-f20c-8ac430bfe492"
      },
      "execution_count": 51,
      "outputs": [
        {
          "output_type": "stream",
          "name": "stdout",
          "text": [
            "\n",
            "### Gerenciamento de Mensagens Pendentes ###\n",
            "Mensagens pendentes no grupo 'grupo_pedidos': {'pending': 0, 'min': None, 'max': None, 'consumers': []}\n"
          ]
        }
      ]
    }
  ],
  "metadata": {
    "colab": {
      "provenance": [],
      "include_colab_link": true
    },
    "kernelspec": {
      "display_name": "Python 3",
      "name": "python3"
    },
    "language_info": {
      "name": "python",
      "version": "3.9.6"
    }
  },
  "nbformat": 4,
  "nbformat_minor": 0
}