{
  "cells": [
    {
      "cell_type": "markdown",
      "metadata": {
        "id": "view-in-github",
        "colab_type": "text"
      },
      "source": [
        "<a href=\"https://colab.research.google.com/github/gacerioni/redis-workshop-json-search-vs/blob/master/redis_workshop_alem_do_cache_nov_2024.ipynb\" target=\"_parent\"><img src=\"https://colab.research.google.com/assets/colab-badge.svg\" alt=\"Open In Colab\"/></a>"
      ]
    },
    {
      "cell_type": "markdown",
      "metadata": {
        "id": "LDFnzeLwjmXL"
      },
      "source": [
        "# Workshop - Redis muito além do Cache - 2024\n",
        "\n",
        "![Redis](https://redis.io/wp-content/uploads/2024/04/Logotype.svg?auto=webp&quality=85,75&width=120)\n",
        "\n",
        "\n",
        "\n",
        "Bem-vindo ao workshop hands-on \"Redis Muito Além do Cache\"! Aqui, você terá uma experiência prática com os principais data types do Redis, explorando além do uso básico como cache. Vamos focar em como o Redis pode ser usado como um banco de dados completo e versátil.\n",
        "\n",
        "\n",
        "Para uma experiência premium, como a que eu quero que vocês tenham, recomendo MUITO utilizar o Redis Insight (App ou Web) pra apoiar na visualização dos dados.\n",
        "\n",
        "https://redis.com/redis-enterprise/redis-insight/"
      ]
    },
    {
      "cell_type": "markdown",
      "source": [
        "## Objetivos do Workshop\n",
        "\n",
        "O objetivo deste notebook é apresentar as principais estruturas de dados do Redis e proporcionar uma prática interativa com cada uma delas. Nosso foco será na execução de comandos e na manipulação de dados em tempo real, com exemplos que você pode adaptar para suas próprias aplicações.\n",
        "\n",
        "**Nota**: Já configuramos um ambiente de desenvolvimento no Google Colab para você começar imediatamente."
      ],
      "metadata": {
        "id": "4qTOaeeMjwzo"
      }
    },
    {
      "cell_type": "markdown",
      "source": [
        "## Setup Inicial\n",
        "\n",
        "Antes de começar a explorar, vamos configurar o ambiente e garantir que você esteja pronto para executar comandos Redis diretamente no Google Colab."
      ],
      "metadata": {
        "id": "Px9l1ToXAD90"
      }
    },
    {
      "cell_type": "code",
      "execution_count": 1,
      "metadata": {
        "id": "maAiICvM-cTX",
        "outputId": "a7d0d940-07a0-4de3-c7d2-9cda818c5025",
        "colab": {
          "base_uri": "https://localhost:8080/"
        }
      },
      "outputs": [
        {
          "output_type": "stream",
          "name": "stdout",
          "text": [
            "\u001b[?25l   \u001b[90m━━━━━━━━━━━━━━━━━━━━━━━━━━━━━━━━━━━━━━━━\u001b[0m \u001b[32m0.0/261.4 kB\u001b[0m \u001b[31m?\u001b[0m eta \u001b[36m-:--:--\u001b[0m\r\u001b[2K   \u001b[91m━━━━━━━━━━━━━━━━━━━━━━━━━━━━\u001b[0m\u001b[90m╺\u001b[0m\u001b[90m━━━━━━━━━━━\u001b[0m \u001b[32m184.3/261.4 kB\u001b[0m \u001b[31m6.3 MB/s\u001b[0m eta \u001b[36m0:00:01\u001b[0m\r\u001b[2K   \u001b[90m━━━━━━━━━━━━━━━━━━━━━━━━━━━━━━━━━━━━━━━━\u001b[0m \u001b[32m261.4/261.4 kB\u001b[0m \u001b[31m3.7 MB/s\u001b[0m eta \u001b[36m0:00:00\u001b[0m\n",
            "\u001b[?25hW: Skipping acquire of configured file 'main/source/Sources' as repository 'https://r2u.stat.illinois.edu/ubuntu jammy InRelease' does not seem to provide it (sources.list entry misspelt?)\n",
            "Selecting previously unselected package libjemalloc2:amd64.\n",
            "(Reading database ... 123623 files and directories currently installed.)\n",
            "Preparing to unpack .../0-libjemalloc2_5.2.1-4ubuntu1_amd64.deb ...\n",
            "Unpacking libjemalloc2:amd64 (5.2.1-4ubuntu1) ...\n",
            "Selecting previously unselected package liblua5.1-0:amd64.\n",
            "Preparing to unpack .../1-liblua5.1-0_5.1.5-8.1build4_amd64.deb ...\n",
            "Unpacking liblua5.1-0:amd64 (5.1.5-8.1build4) ...\n",
            "Selecting previously unselected package liblzf1:amd64.\n",
            "Preparing to unpack .../2-liblzf1_3.6-3_amd64.deb ...\n",
            "Unpacking liblzf1:amd64 (3.6-3) ...\n",
            "Selecting previously unselected package lua-bitop:amd64.\n",
            "Preparing to unpack .../3-lua-bitop_1.0.2-5_amd64.deb ...\n",
            "Unpacking lua-bitop:amd64 (1.0.2-5) ...\n",
            "Selecting previously unselected package lua-cjson:amd64.\n",
            "Preparing to unpack .../4-lua-cjson_2.1.0+dfsg-2.1_amd64.deb ...\n",
            "Unpacking lua-cjson:amd64 (2.1.0+dfsg-2.1) ...\n",
            "Selecting previously unselected package redis-tools.\n",
            "Preparing to unpack .../5-redis-tools_5%3a6.0.16-1ubuntu1_amd64.deb ...\n",
            "Unpacking redis-tools (5:6.0.16-1ubuntu1) ...\n",
            "Setting up libjemalloc2:amd64 (5.2.1-4ubuntu1) ...\n",
            "Setting up lua-cjson:amd64 (2.1.0+dfsg-2.1) ...\n",
            "Setting up liblzf1:amd64 (3.6-3) ...\n",
            "Setting up lua-bitop:amd64 (1.0.2-5) ...\n",
            "Setting up liblua5.1-0:amd64 (5.1.5-8.1build4) ...\n",
            "Setting up redis-tools (5:6.0.16-1ubuntu1) ...\n",
            "Processing triggers for man-db (2.10.2-1) ...\n",
            "Processing triggers for libc-bin (2.35-0ubuntu3.4) ...\n",
            "/sbin/ldconfig.real: /usr/local/lib/libtbbbind_2_0.so.3 is not a symbolic link\n",
            "\n",
            "/sbin/ldconfig.real: /usr/local/lib/libur_adapter_level_zero.so.0 is not a symbolic link\n",
            "\n",
            "/sbin/ldconfig.real: /usr/local/lib/libur_loader.so.0 is not a symbolic link\n",
            "\n",
            "/sbin/ldconfig.real: /usr/local/lib/libtbbbind_2_5.so.3 is not a symbolic link\n",
            "\n",
            "/sbin/ldconfig.real: /usr/local/lib/libur_adapter_opencl.so.0 is not a symbolic link\n",
            "\n",
            "/sbin/ldconfig.real: /usr/local/lib/libtbb.so.12 is not a symbolic link\n",
            "\n",
            "/sbin/ldconfig.real: /usr/local/lib/libhwloc.so.15 is not a symbolic link\n",
            "\n",
            "/sbin/ldconfig.real: /usr/local/lib/libtcm.so.1 is not a symbolic link\n",
            "\n",
            "/sbin/ldconfig.real: /usr/local/lib/libtbbmalloc_proxy.so.2 is not a symbolic link\n",
            "\n",
            "/sbin/ldconfig.real: /usr/local/lib/libtbbbind.so.3 is not a symbolic link\n",
            "\n",
            "/sbin/ldconfig.real: /usr/local/lib/libumf.so.0 is not a symbolic link\n",
            "\n",
            "/sbin/ldconfig.real: /usr/local/lib/libtbbmalloc.so.2 is not a symbolic link\n",
            "\n",
            "/sbin/ldconfig.real: /usr/local/lib/libtcm_debug.so.1 is not a symbolic link\n",
            "\n",
            "PONG\n",
            "Conexão com o Redis bem-sucedida!\n"
          ]
        }
      ],
      "source": [
        "# Instala a biblioteca Redis para Python\n",
        "!pip install -q redis\n",
        "\n",
        "# Instala a CLI do Redis (redis-tools) para executar comandos diretamente\n",
        "!apt-get update -qq\n",
        "!apt-get install -y -qq redis-tools\n",
        "\n",
        "# Configuração da conexão com o Redis Cloud (preencha com suas credenciais)\n",
        "import os\n",
        "\n",
        "REDIS_HOST = \"redis-18443.c309.us-east-2-1.ec2.redns.redis-cloud.com\"  # Exemplo: \"redis-12345.c1.sa-east-1-3.ec2.cloud.redislabs.com\"\n",
        "REDIS_PORT = 18443             # Porta do seu Redis\n",
        "REDIS_PASSWORD = \"Secret@42\"   # Senha do Redis\n",
        "\n",
        "# Definindo a variável de ambiente para usar a redis-cli\n",
        "os.environ[\"REDIS_CONN\"] = f\"-h {REDIS_HOST} -p {REDIS_PORT} -a {REDIS_PASSWORD} --no-auth-warning\"\n",
        "\n",
        "# Testando a conexão com o Redis Cloud\n",
        "!redis-cli $REDIS_CONN PING\n",
        "\n",
        "# Importando a biblioteca redis-py e testando a conexão\n",
        "import redis\n",
        "\n",
        "r = redis.Redis(\n",
        "    host=REDIS_HOST,\n",
        "    port=REDIS_PORT,\n",
        "    password=REDIS_PASSWORD,\n",
        "    decode_responses=True\n",
        ")\n",
        "\n",
        "# Testando a conexão com o Redis usando redis-py\n",
        "if r.ping():\n",
        "    print(\"Conexão com o Redis bem-sucedida!\")\n",
        "else:\n",
        "    print(\"Erro ao conectar com o Redis.\")"
      ]
    },
    {
      "cell_type": "markdown",
      "source": [
        "Agora que você está com tudo configurado, vamos começar a explorar os data types básicos do Redis e realizar alguns exercícios interativos para entender como eles funcionam na prática."
      ],
      "metadata": {
        "id": "AgroIVknws6b"
      }
    },
    {
      "cell_type": "markdown",
      "source": [
        "# Data Types Básicos no Redis\n",
        "\n",
        "**O Redis oferece uma variedade de estruturas de dados, cada uma otimizada para diferentes cenários de uso. Aqui, vamos explorar os principais data types com exemplos rápidos para entender suas funcionalidades.**\n",
        "\n",
        "## 1. Strings\n",
        "As **Strings** são o data type mais simples no Redis, armazenando qualquer sequência de bytes, como texto ou números. Elas são amplamente usadas para contadores, sessões de usuário, e caching de valores simples.\n",
        "\n",
        "**Exemplo de Caso de Uso**: Cache Aside, contadores e KV-stores, Lock Distribuído, Rate Limiter, Session Storage, Feature Flags, Gaming, etc.\n",
        "\n",
        "### Exemplo com Strings\n",
        "\n"
      ],
      "metadata": {
        "id": "arosv6wAmV1P"
      }
    },
    {
      "cell_type": "code",
      "source": [
        "# Armazenar um valor simples (pode ser uma configuração ou dado de cache)\n",
        "r.set(\"config:modo\", \"produção\")\n",
        "print(\"Modo atual:\", r.get(\"config:modo\"))\n",
        "\n",
        "# Atualizar o valor (simular uma mudança de configuração)\n",
        "r.set(\"config:modo\", \"manutenção\")\n",
        "print(\"Modo atualizado:\", r.get(\"config:modo\"))\n",
        "\n",
        "# Usar Strings como um contador para likes em um post\n",
        "r.set(\"post:123:likes\", 10)\n",
        "print(\"Likes iniciais:\", r.get(\"post:123:likes\"))\n",
        "\n",
        "# Incrementar e decrementar o contador de likes\n",
        "r.incr(\"post:123:likes\")\n",
        "print(\"Likes após um incremento:\", r.get(\"post:123:likes\"))\n",
        "r.decr(\"post:123:likes\")\n",
        "print(\"Likes após um decremento:\", r.get(\"post:123:likes\"))\n",
        "\n",
        "# Simular uma expiração (TTL) para uma sessão de usuário\n",
        "r.setex(\"sessao:usuario:456\", 30, \"ativo\")\n",
        "print(\"Sessão de usuário criada com TTL de 30 segundos.\")"
      ],
      "metadata": {
        "id": "jRZ3JNnPt0qQ",
        "colab": {
          "base_uri": "https://localhost:8080/"
        },
        "outputId": "19ec87c4-c9a0-4a26-b233-5ced2fdd48ff"
      },
      "execution_count": 6,
      "outputs": [
        {
          "output_type": "stream",
          "name": "stdout",
          "text": [
            "Modo atual: produção\n",
            "Modo atualizado: manutenção\n",
            "Likes iniciais: 10\n",
            "Likes após um incremento: 11\n",
            "Likes após um decremento: 10\n",
            "Sessão de usuário criada com TTL de 30 segundos.\n"
          ]
        }
      ]
    },
    {
      "cell_type": "markdown",
      "source": [
        "## 2. Lists\n",
        "\n",
        "As **Lists** são coleções ordenadas de strings, úteis para filas de tarefas ou logs. Podem funcionar como uma fila (FIFO) ou uma pilha (LIFO). A API do Redis fornece muitos comandos seguros, atômicos e previsíveis para você implementar arquiteturas e filas robustas e prontas para PROD. Simples é bem diferente de frágil. 90% de todas as transações financeiras que você faz em um dia passaram por um Redis.\n",
        "\n",
        "Caso de Uso: Implementar filas simples de mensagens, arquiteturas desacopladas, arquiteturas assíncronas, sistemas de vazão, integração com Lambdas, Triggers, Filas de Trabalho, etc.\n",
        "\n",
        "### Exemplo com Lists\n"
      ],
      "metadata": {
        "id": "Q0O6WwbeAKAA"
      }
    },
    {
      "cell_type": "code",
      "source": [
        "# Simular uma fila de tarefas com LPUSH e RPOP (FIFO)\n",
        "r.lpush(\"fila:tarefas\", \"tarefa1\", \"tarefa2\", \"tarefa3\")\n",
        "print(\"Tarefas na fila (FIFO):\", r.lrange(\"fila:tarefas\", 0, -1))\n",
        "\n",
        "# Remover e processar a tarefa mais antiga\n",
        "tarefa = r.rpop(\"fila:tarefas\")\n",
        "print(\"Processando:\", tarefa)\n",
        "print(\"Tarefas restantes na fila:\", r.lrange(\"fila:tarefas\", 0, -1))\n",
        "\n",
        "# Simular uma pilha de mensagens (LIFO)\n",
        "r.rpush(\"pilha:mensagens\", \"mensagem1\", \"mensagem2\", \"mensagem3\")\n",
        "print(\"Mensagens na pilha (LIFO):\", r.lrange(\"pilha:mensagens\", 0, -1))\n",
        "\n",
        "# Remover e processar a mensagem mais recente\n",
        "mensagem = r.rpop(\"pilha:mensagens\")\n",
        "print(\"Processando mensagem:\", mensagem)\n",
        "print(\"Mensagens restantes na pilha:\", r.lrange(\"pilha:mensagens\", 0, -1))"
      ],
      "metadata": {
        "colab": {
          "base_uri": "https://localhost:8080/"
        },
        "id": "RFbo0bebAq8b",
        "outputId": "47d18c79-e880-4cce-e396-9744d137e6fa"
      },
      "execution_count": 7,
      "outputs": [
        {
          "output_type": "stream",
          "name": "stdout",
          "text": [
            "Tarefas na fila (FIFO): ['tarefa3', 'tarefa2', 'tarefa1']\n",
            "Processando: tarefa1\n",
            "Tarefas restantes na fila: ['tarefa3', 'tarefa2']\n",
            "Mensagens na pilha (LIFO): ['mensagem1', 'mensagem2', 'mensagem3']\n",
            "Processando mensagem: mensagem3\n",
            "Mensagens restantes na pilha: ['mensagem1', 'mensagem2']\n"
          ]
        }
      ]
    },
    {
      "cell_type": "markdown",
      "source": [
        "## 3. Sets\n",
        "\n",
        "Os **Sets** são coleções de strings únicas, ideais para armazenar elementos sem duplicatas. São úteis para deduplicação, gerenciamento de IDs únicos, ou até para operações de conjuntos, como interseção e união.\n",
        "\n",
        "Caso de Uso: Listar usuários únicos online em uma aplicação, deduplicar itens, aplicar teoria dos conjuntos, ou até criar índices secundários personalizados.\n",
        "\n",
        "### Exemplo com Sets"
      ],
      "metadata": {
        "id": "Scy_-4rZBat3"
      }
    },
    {
      "cell_type": "code",
      "source": [
        "# Adicionar usuários únicos online\n",
        "r.sadd(\"usuarios:online\", \"alice\", \"bob\", \"carol\")\n",
        "print(\"Usuários online:\", r.smembers(\"usuarios:online\"))\n",
        "\n",
        "# Adicionar um usuário duplicado (não será adicionado novamente)\n",
        "r.sadd(\"usuarios:online\", \"alice\")\n",
        "print(\"Usuários online (após tentativa de duplicação):\", r.smembers(\"usuarios:online\"))\n",
        "\n",
        "# Remover um usuário que saiu\n",
        "r.srem(\"usuarios:online\", \"bob\")\n",
        "print(\"Usuários online (após saída de Bob):\", r.smembers(\"usuarios:online\"))\n",
        "\n",
        "# Operações de conjuntos: Simular interseção com outro set de usuários\n",
        "r.sadd(\"usuarios:ativos\", \"alice\", \"dave\", \"carol\")\n",
        "interseccao = r.sinter(\"usuarios:online\", \"usuarios:ativos\")\n",
        "print(\"Usuários online e ativos:\", interseccao)"
      ],
      "metadata": {
        "colab": {
          "base_uri": "https://localhost:8080/"
        },
        "id": "ft-yeq0XB4vR",
        "outputId": "7c445e0c-d137-4bdf-d330-aacc8c4ab2d0"
      },
      "execution_count": 8,
      "outputs": [
        {
          "output_type": "stream",
          "name": "stdout",
          "text": [
            "Usuários online: {'carol', 'bob', 'alice'}\n",
            "Usuários online (após tentativa de duplicação): {'carol', 'bob', 'alice'}\n",
            "Usuários online (após saída de Bob): {'carol', 'alice'}\n",
            "Usuários online e ativos: {'carol', 'alice'}\n"
          ]
        }
      ]
    },
    {
      "cell_type": "markdown",
      "source": [
        "## 4. Sorted Sets\n",
        "\n",
        "Os **Sorted Sets** são como sets, mas com uma pontuação associada a cada elemento, o que permite manter os elementos ordenados. Eles são ideais para rankings, agendamentos, e qualquer caso em que a ordem baseada em pontuação seja importante.\n",
        "\n",
        "Caso de Uso: Classificação de jogadores em um jogo, leaderboards em geral, análises em tempo real, agendamento de tarefas, ou filas de prioridade.\n",
        "\n",
        "### Exemplo com Sorted Sets\n",
        "\n"
      ],
      "metadata": {
        "id": "CEh0v3F4G2T2"
      }
    },
    {
      "cell_type": "code",
      "source": [
        "# Adicionar jogadores com suas pontuações\n",
        "r.zadd(\"jogo:ranking\", {\"player1\": 1500, \"player2\": 3000, \"player3\": 2500})\n",
        "print(\"Ranking dos jogadores (do menor para o maior):\", r.zrange(\"jogo:ranking\", 0, -1, withscores=True))\n",
        "\n",
        "# Consultar o ranking em ordem decrescente (do maior para o menor)\n",
        "print(\"Ranking dos jogadores (do maior para o menor):\", r.zrevrange(\"jogo:ranking\", 0, -1, withscores=True))\n",
        "\n",
        "# Atualizar a pontuação de um jogador\n",
        "r.zincrby(\"jogo:ranking\", 500, \"player1\")\n",
        "print(\"Ranking atualizado (do maior para o menor):\", r.zrevrange(\"jogo:ranking\", 0, -1, withscores=True))\n",
        "\n",
        "# Consultar a posição de um jogador\n",
        "posicao = r.zrevrank(\"jogo:ranking\", \"player1\")\n",
        "print(\"Posição do player1 no ranking:\", posicao + 1)  # +1 para uma posição humana (começando do 1)\n",
        "\n",
        "# Remover um jogador do ranking\n",
        "r.zrem(\"jogo:ranking\", \"player2\")\n",
        "print(\"Ranking após remoção de player2:\", r.zrevrange(\"jogo:ranking\", 0, -1, withscores=True))"
      ],
      "metadata": {
        "colab": {
          "base_uri": "https://localhost:8080/"
        },
        "id": "bF92VOkyHZeN",
        "outputId": "3b1414de-7544-4ef4-d379-c82349a2d21a"
      },
      "execution_count": 9,
      "outputs": [
        {
          "output_type": "stream",
          "name": "stdout",
          "text": [
            "Ranking dos jogadores (do menor para o maior): [('player1', 1500.0), ('player3', 2500.0), ('player2', 3000.0)]\n",
            "Ranking dos jogadores (do maior para o menor): [('player2', 3000.0), ('player3', 2500.0), ('player1', 1500.0)]\n",
            "Ranking atualizado (do maior para o menor): [('player2', 3000.0), ('player3', 2500.0), ('player1', 2000.0)]\n",
            "Posição do player1 no ranking: 3\n",
            "Ranking após remoção de player2: [('player3', 2500.0), ('player1', 2000.0)]\n"
          ]
        }
      ]
    },
    {
      "cell_type": "markdown",
      "source": [
        "## 5. Hashes\n",
        "\n",
        "Os **Hashes** são coleções de pares campo-valor, úteis para armazenar objetos, como perfis de usuários ou configurações. Você também pode setar TTLs para cada sub-key, abrindo ainda mais possibilidades e controle.\n",
        "\n",
        "Caso de Uso: Armazenar informações de usuário de maneira estruturada, banco de dados primário, NoSQL, ORM, Session Storage, AIML Feature Stores, etc.\n",
        "\n",
        "### Exemplo com Hashes"
      ],
      "metadata": {
        "id": "BtylAtpoH7LG"
      }
    },
    {
      "cell_type": "code",
      "source": [
        "# Criar um hash com informações de usuário\n",
        "r.hset(\"usuario:1001\", mapping={\"nome\": \"Gabriel\", \"email\": \"gabriel@example.com\", \"idade\": \"32\"})\n",
        "print(\"Perfil do usuário:\", r.hgetall(\"usuario:1001\"))\n",
        "\n",
        "# Recuperar apenas um campo específico (email)\n",
        "email = r.hget(\"usuario:1001\", \"email\")\n",
        "print(\"Email do usuário:\", email)\n",
        "\n",
        "# Atualizar a idade do usuário\n",
        "r.hset(\"usuario:1001\", \"idade\", \"33\")\n",
        "print(\"Perfil atualizado:\", r.hgetall(\"usuario:1001\"))\n",
        "\n",
        "# Remover um campo do hash (por exemplo, o email)\n",
        "r.hdel(\"usuario:1001\", \"email\")\n",
        "print(\"Perfil após remoção do email:\", r.hgetall(\"usuario:1001\"))\n",
        "\n",
        "# Definir um TTL para a chave do usuário (expira após 60 segundos)\n",
        "r.expire(\"usuario:1001\", 60)\n",
        "print(\"TTL definido para a chave 'usuario:1001' (60 segundos)\")"
      ],
      "metadata": {
        "colab": {
          "base_uri": "https://localhost:8080/"
        },
        "id": "CiOWSc3oJrJi",
        "outputId": "13911318-0270-4d29-8687-00af122ff295"
      },
      "execution_count": 10,
      "outputs": [
        {
          "output_type": "stream",
          "name": "stdout",
          "text": [
            "Perfil do usuário: {'nome': 'Gabriel', 'email': 'gabriel@example.com', 'idade': '32'}\n",
            "Email do usuário: gabriel@example.com\n",
            "Perfil atualizado: {'nome': 'Gabriel', 'email': 'gabriel@example.com', 'idade': '33'}\n",
            "Perfil após remoção do email: {'nome': 'Gabriel', 'idade': '33'}\n",
            "TTL definido para a chave 'usuario:1001' (60 segundos)\n"
          ]
        }
      ]
    },
    {
      "cell_type": "markdown",
      "source": [
        "### Exercício com Hashes - HASH Sub-Key Expiration\n",
        "\n",
        "Com o Redis 7.4, é possível aplicar expirações (TTL) a campos individuais, o que abre novas possibilidades para gerenciar dados temporários."
      ],
      "metadata": {
        "id": "K1-HnzT4Juc2"
      }
    },
    {
      "cell_type": "code",
      "source": [
        "# Criar um hash simulando dados de sessão do usuário\n",
        "r.hset(\"sessao:usuario:1337\", mapping={\n",
        "    \"nome\": \"Gabriel\",\n",
        "    \"sobrenome\": \"Cerioni\",\n",
        "    \"token\": \"super-token-secreto<....>\",            # Token que expira\n",
        "    \"ultimo_login\": \"2024-11-04\",\n",
        "    \"pais_origem\": \"BRA\",\n",
        "    \"geoloc_estimado\": \"-46.63389,-23.55028\",        # Praça da Sé, SP\n",
        "    \"user_tier_level\": 3                             # Imagine um sistema de Tier de 0-10 (noob to VIP)\n",
        "})\n",
        "print(\"Dados da sessão:\", r.hgetall(\"sessao:usuario:1337\"))\n",
        "\n",
        "# Aplicar um TTL de 30 segundos apenas ao campo 'token' usando HEXPIRE\n",
        "r.execute_command(\"HEXPIRE\", \"sessao:usuario:1337\", 30, \"FIELDS\", 1, \"token\")\n",
        "print(\"TTL de 30 segundos definido para o campo 'token'.\")\n",
        "\n",
        "# Verificar os dados da sessão (o token ainda está presente)\n",
        "print(\"Dados da sessão (após definir TTL):\")\n",
        "for campo, valor in r.hgetall(\"sessao:usuario:1337\").items():\n",
        "    print(f\"{campo}: {valor}\")\n",
        "\n",
        "# Após 30 segundos, o campo 'token' será automaticamente removido. Aguarde para ver o efeito.\n",
        "\n",
        "# OPCIONAL - Remover o TTL do campo 'token', tornando-o persistente novamente\n",
        "#r.execute_command(\"HPERSIST\", \"sessao:usuario:1337\", \"FIELDS\", 1, \"token\")\n",
        "#print(\"O campo 'token' agora é persistente novamente:\", r.hgetall(\"sessao:usuario:1337\"))"
      ],
      "metadata": {
        "colab": {
          "base_uri": "https://localhost:8080/"
        },
        "id": "tGMcwDmHJ5Jj",
        "outputId": "e9b63488-b6b7-4194-f849-3163c40a2bae"
      },
      "execution_count": 20,
      "outputs": [
        {
          "output_type": "stream",
          "name": "stdout",
          "text": [
            "Dados da sessão: {'nome': 'Gabriel', 'ultimo_login': '2024-11-04', 'sobrenome': 'Cerioni', 'pais_origem': 'BRA', 'geoloc_estimado': '-46.63389,-23.55028', 'user_tier_level': '3', 'token': 'super-token-secreto<....>'}\n",
            "TTL de 30 segundos definido para o campo 'token'.\n",
            "Dados da sessão (após definir TTL):\n",
            "token: super-token-secreto<....>\n",
            "nome: Gabriel\n",
            "ultimo_login: 2024-11-04\n",
            "sobrenome: Cerioni\n",
            "pais_origem: BRA\n",
            "geoloc_estimado: -46.63389,-23.55028\n",
            "user_tier_level: 3\n"
          ]
        }
      ]
    },
    {
      "cell_type": "markdown",
      "source": [
        "### Teaser de Indexação com RediSearch\n",
        "#### *Calma, você ainda vai aprender a usar o `Redis Search and Query Engine`!*\n",
        "\n",
        "Agora que você aprendeu a manipular dados estruturados com Hashes, imagine o poder de realizar buscas otimizadas e complexas. No **Redis**, com **RediSearch**, é possível indexar campos de forma poderosa e eficiente, como neste exemplo rápido de indexação e busca que veremos mais a fundo na próxima sessão:\n",
        "\n",
        "\n",
        "\n"
      ],
      "metadata": {
        "id": "fIk-xpkXOGdi"
      }
    },
    {
      "cell_type": "code",
      "source": [
        "from redis.commands.search.field import TagField, NumericField, GeoField\n",
        "from redis.commands.search.indexDefinition import IndexDefinition, IndexType\n",
        "from redis.commands.search.query import Query\n",
        "\n",
        "# 1. Deletar o índice se ele já existir, para garantir que começamos do zero\n",
        "try:\n",
        "    r.ft(\"idx:sessao_usuarios\").dropindex(delete_documents=False)\n",
        "except:\n",
        "    pass\n",
        "\n",
        "# 2. Criar o índice para o hash 'sessao:usuario:'\n",
        "r.ft(\"idx:sessao_usuarios\").create_index(\n",
        "    [\n",
        "        TagField(\"pais_origem\"),\n",
        "        NumericField(\"user_tier_level\"),\n",
        "        GeoField(\"geoloc_estimado\")\n",
        "    ],\n",
        "    definition=IndexDefinition(prefix=[\"sessao:usuario:\"], index_type=IndexType.HASH)\n",
        ")\n",
        "\n",
        "# 3. Indexar um hash de exemplo com dados de sessão do usuário\n",
        "r.hset(\"sessao:usuario:1337\", mapping={\n",
        "    \"nome\": \"Gabriel\",\n",
        "    \"sobrenome\": \"Cerioni\",\n",
        "    \"token\": \"super-token-secreto<....>\",\n",
        "    \"ultimo_login\": \"2024-11-04\",\n",
        "    \"pais_origem\": \"BRA\",\n",
        "    \"geoloc_estimado\": \"-46.63389,-23.55028\",  # Praça da Sé, SP\n",
        "    \"user_tier_level\": 3\n",
        "})\n",
        "print(\"✅ Dados de sessão indexados com sucesso!\")\n",
        "\n",
        "# 4. Executar uma busca única: usuários do Brasil, nível de tier entre 2 e 5, próximos ao centro de SP\n",
        "query = Query(\"@pais_origem:{BRA} @user_tier_level:[2 5] @geoloc_estimado:[-46.63389 -23.55028 5 km]\")\n",
        "\n",
        "# 5. Executar a busca e exibir os resultados\n",
        "res = r.ft(\"idx:sessao_usuarios\").search(query)\n",
        "print(\"🔍 Resultado da busca com RediSearch:\")\n",
        "for doc in res.docs:\n",
        "    print(doc.__dict__)"
      ],
      "metadata": {
        "colab": {
          "base_uri": "https://localhost:8080/"
        },
        "id": "8LEM5q4uOzL7",
        "outputId": "ea8a70dc-0d3f-44d1-87cb-4b489c6a13b6"
      },
      "execution_count": 22,
      "outputs": [
        {
          "output_type": "stream",
          "name": "stdout",
          "text": [
            "✅ Dados de sessão indexados com sucesso!\n",
            "🔍 Resultado da busca com RediSearch:\n",
            "{'id': 'sessao:usuario:1337', 'payload': None, 'nome': 'Gabriel', 'ultimo_login': '2024-11-04', 'sobrenome': 'Cerioni', 'pais_origem': 'BRA', 'geoloc_estimado': '-46.63389,-23.55028', 'user_tier_level': '3', 'token': 'super-token-secreto<....>'}\n"
          ]
        }
      ]
    }
  ],
  "metadata": {
    "colab": {
      "provenance": [],
      "include_colab_link": true
    },
    "kernelspec": {
      "display_name": "Python 3",
      "name": "python3"
    },
    "language_info": {
      "name": "python",
      "version": "3.9.6"
    }
  },
  "nbformat": 4,
  "nbformat_minor": 0
}