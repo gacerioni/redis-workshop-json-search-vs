{
  "cells": [
    {
      "cell_type": "markdown",
      "metadata": {
        "id": "view-in-github",
        "colab_type": "text"
      },
      "source": [
        "<a href=\"https://colab.research.google.com/github/gacerioni/redis-workshop-json-search-vs/blob/master/redis-workshop-json-search.ipynb\" target=\"_parent\"><img src=\"https://colab.research.google.com/assets/colab-badge.svg\" alt=\"Open In Colab\"/></a>"
      ]
    },
    {
      "cell_type": "markdown",
      "metadata": {
        "id": "LDFnzeLwjmXL"
      },
      "source": [
        "# Workshop - Redis JSON, Search and Query, e Vector Search (soon)\n",
        "\n",
        "![Redis](https://redis.io/wp-content/uploads/2024/04/Logotype.svg?auto=webp&quality=85,75&width=120)\n",
        "\n",
        "\n",
        "Bem-vind[ao]s ao Workshop! Vamos ter uma experiência hands-on sobre alguns temas centrais do Redis, bem além do Caching.\n",
        "\n",
        "\n",
        "Para uma experiência premium, como a que eu quero que vocês tenham, recomendo MUITO utilizar o Redis Insight (App ou Web) pra apoiar na visualização dos dados.\n",
        "\n",
        "https://redis.com/redis-enterprise/redis-insight/"
      ]
    },
    {
      "cell_type": "markdown",
      "source": [
        "## Objetivos do Workshop\n",
        "\n",
        "Este notebook irá fazer uma breve introdução ao **Hash** e o **JSON** (data types nativos) para o **Redis**.\\\n",
        "Feito isso, vamos entender as diferenças entre **buscas de texto** VS **buscas semânticas**, e o conceito de **Vector Databases**.\n",
        "\n",
        "Entretanto, o foco deste workshop permanece no `JSON + Search and Query`, e como vocês podem utilizar o Redis como Banco de Dados de Documentos, primário, com toda a durabilidade e confiabilidade que esperam de um Banco de Dados Enterprise.\n",
        "`\n",
        "\n",
        "Espero que gostem! 🖖"
      ],
      "metadata": {
        "id": "4qTOaeeMjwzo"
      }
    },
    {
      "cell_type": "markdown",
      "source": [
        "## Setup Rápido - e testes pra ver se tá tudo redondo antes de iniciar o lab"
      ],
      "metadata": {
        "id": "Px9l1ToXAD90"
      }
    },
    {
      "cell_type": "code",
      "execution_count": null,
      "metadata": {
        "id": "maAiICvM-cTX"
      },
      "outputs": [],
      "source": [
        "# Vamos instalar a lib do redis escolhida para o teste\n",
        "!pip install -q redis\n",
        "\n",
        "# E instalar a CLI, via redis-tools, que inclui a famosa redis-cli\n",
        "!apt-get update\n",
        "!apt-get install -y redis-tools"
      ]
    },
    {
      "cell_type": "markdown",
      "source": [
        "#### Configurando e testando a conexão com o seu Redis Cloud\n",
        "\n",
        "Coloque o endpoint host, port, e as credenciais pertinentes ao seu setup.\n",
        "\n",
        "Vou deixar o meu DB mesmo aqui, como referência."
      ],
      "metadata": {
        "id": "3_JImFuHlQmb"
      }
    },
    {
      "cell_type": "code",
      "execution_count": null,
      "metadata": {
        "id": "x47s7mlR_zYB"
      },
      "outputs": [],
      "source": [
        "# Testando a redis-cli\n",
        "import os\n",
        "\n",
        "# Coloque aqui os dados do seu DB do Redis Cloud\n",
        "REDIS_HOST=\"redis-19581.c308.sa-east-1-1.ec2.redns.redis-cloud.com\"\n",
        "REDIS_PORT=19581\n",
        "REDIS_PASSWORD=\"nhtuquVSLbh2kUt2I86z5QwGu3KrcaYx\"\n",
        "\n",
        "# Caso o SSL esteja ativo pro endpoint, adicione --tls\n",
        "# Recomendo não misturar lé com cré aqui, visto que não vamos ter nenhuma informação sensível passando pelo fio.\n",
        "if REDIS_PASSWORD!=\"\":\n",
        "  os.environ[\"REDIS_CONN\"]=f\"-h {REDIS_HOST} -p {REDIS_PORT} -a {REDIS_PASSWORD} --no-auth-warning\"\n",
        "else:\n",
        "  os.environ[\"REDIS_CONN\"]=f\"-h {REDIS_HOST} -p {REDIS_PORT}\"\n",
        "\n",
        "# Caso o SSL esteja ativo pro endpoint, use rediss:// como o URL prefix\n",
        "REDIS_URL = f\"redis://:{REDIS_PASSWORD}@{REDIS_HOST}:{REDIS_PORT}\"\n",
        "INDEX_NAME = f\"qna:idx\"\n",
        "\n",
        "# Test a Redis connection\n",
        "!redis-cli $REDIS_CONN PING\n",
        "\n",
        "# DANGER ZONE - CASO QUEIRA DAR UM REFRESH GERAL\n",
        "# este comando abaixo ficará comentado, pois ele deleta todos os dados da sua base do Redis Cloud\n",
        "!redis-cli $REDIS_CONN FLUSHDB"
      ]
    },
    {
      "cell_type": "code",
      "execution_count": null,
      "metadata": {
        "id": "DbKb8mnWQO-5"
      },
      "outputs": [],
      "source": [
        "# Testando via Python (redis-py)\n",
        "import redis\n",
        "r = redis.Redis(\n",
        "  host=REDIS_HOST,\n",
        "  port=REDIS_PORT,\n",
        "  password=REDIS_PASSWORD)\n",
        "r.ping()"
      ]
    },
    {
      "cell_type": "markdown",
      "source": [
        "# Hashes e JSON - Dois velhos amigos\n",
        "\n",
        "**No Redis, Hashes e JSON são tipos de dados nativamente suportados que oferecem estruturas eficientes para armazenar e manipular informações complexas.**\n",
        "\n",
        "Um `Hash` no Redis é uma coleção de pares de campo-valor, semelhante a uma tabela de hash em outras linguagens de programação. Eu imagino ele como um mini redis, ou como um \"JSON FLAT\".\\\n",
        "Ideal para representar objetos com vários atributos, como um usuário com campos como nome, email e idade, Hashes são otimizados para operações rápidas de leitura e escrita, permitindo que cada campo dentro do hash seja acessado e modificado individualmente sem a necessidade de alterar toda a estrutura.\n",
        "\n",
        "O `JSON` também é um data type nativo para o Redis. Nele, a utilização do tipo de dado JSON permite armazenar objetos completos e realizar consultas complexas diretamente na estrutura JSON armazenada. Isso é especialmente útil para aplicações que lidam com dados hierárquicos ou aninhados, como configurações de aplicativos, documentos ou dados de resposta de APIs, proporcionando uma maneira natural e flexível de gerenciar dados complexos dentro do Redis.\\\n",
        "Naturalmente, você pode manipular partes específicas do JSON, como vamos ver durante o Workshop.\n",
        "\n",
        "**Importante:** Ambos data types suportam Indexação, habilitando eles para servirem de schema/model, e também para **Search and Query**.\n",
        "\n",
        "\n",
        "## Redis Hash\n",
        "\n",
        "No Redis, `Hashes` são coleções de pares de campo-valor, semelhantes a um `dicionário` em Python ou um `Map` em Java.\n",
        "\n",
        "Eles são ideais para representar objetos com vários atributos, como um usuário com campos como nome, email e idade. Hashes são otimizados para operações rápidas de leitura e escrita, permitindo que cada campo dentro do hash seja acessado e modificado individualmente sem a necessidade de alterar toda a estrutura.\n",
        "\n",
        "### Hands-on: Exercícios com Hashes no Redis\n",
        "\n",
        "Vamos começar com alguns exemplos e comandos para praticar o uso de Hashes no Redis. Você pode executar esses comandos tanto no notebook quanto no Redis Insight.\n",
        "\n",
        "#### Criar e manipular um Hash\n",
        "\n",
        "**HSET:** Salva variáveis como campos em um hash no Redis.\n",
        "\n",
        "\n",
        "```\n",
        "# Execute no Redis Insights\n",
        "HSET mvp:1 name \"Ayrton\" last_name \"Senna\" email \"senninha@f1.io\" age 34\n",
        "```\n",
        "\n",
        "\n"
      ],
      "metadata": {
        "id": "arosv6wAmV1P"
      }
    },
    {
      "cell_type": "code",
      "source": [
        "# Crie outro MVP utilizando o redis-cli por aqui mesmo:\n",
        "!redis-cli $REDIS_CONN HSET mvp:2 name \"Edson\" last_name \"Arantes do Nascimento\" apelido \"Pelé\" email \"pele@santosfc.com\" age 82"
      ],
      "metadata": {
        "id": "jRZ3JNnPt0qQ"
      },
      "execution_count": null,
      "outputs": []
    },
    {
      "cell_type": "markdown",
      "source": [
        "#### Recuperar múltiplos valores de um hash\n",
        "\n",
        "**HMGET:** Recupera múltiplos valores de um hash. Vamos pegar apenas alguns campos específicos, como nome, apelido e idade.\n",
        "\n",
        "```\n",
        "# Execute no Redis Insights\n",
        "HMGET mvp:2 name apelido age\n",
        "```\n",
        "\n",
        "Vamos fazer o mesmo por aqui. Desta vez com o Python, nativamente."
      ],
      "metadata": {
        "id": "mIn_Eq9W1Els"
      }
    },
    {
      "cell_type": "code",
      "source": [
        "import redis\n",
        "\n",
        "# Conectar ao Redis\n",
        "r = redis.Redis(\n",
        "  host=REDIS_HOST,\n",
        "  port=REDIS_PORT,\n",
        "  password=REDIS_PASSWORD,\n",
        "  encoding=\"utf-8\",\n",
        "  decode_responses=True\n",
        "  )\n",
        "\n",
        "# HMGET: Recuperar múltiplos valores\n",
        "valores = r.hmget(\"mvp:2\", \"name\", \"apelido\", \"age\")\n",
        "print(valores)"
      ],
      "metadata": {
        "id": "vwxvq4jh2Dpd"
      },
      "execution_count": null,
      "outputs": []
    },
    {
      "cell_type": "markdown",
      "source": [
        "#### Incrementar o valor de um campo numérico\n",
        "\n",
        "Vamos usar o comando HINCRBY para incrementar o valor do campo age no hash.\n",
        "\n",
        "**HINCRBY:** Incrementa o valor de um campo numérico. Um inteiro, neste caso.\n",
        "\n",
        "Neste exemplo, Pelé já vai sair com 1000 gols.\n",
        "Note que este campo `gol` nem existia antes no Hash `mvp:2`. Não é necessário um round-trip para definir este campo.\n",
        "\n",
        "```\n",
        "# Execute no Redis Insights, um por vez.\n",
        "# Se quiser executar múltiplos, de uma vez, vá para a aba `Workbench` no Redis Insights.\n",
        "HINCRBY mvp:2 gols 999\n",
        "HINCRBY mvp:2 gols 2\n",
        "HINCRBY mvp:2 gols -1\n",
        "\n",
        "# E um get lazy mesmo, pra gente ver como está o nosso amigo Pelé:\n",
        "HGETALL mvp:2\n",
        "```"
      ],
      "metadata": {
        "id": "nykHzQCR2kRh"
      }
    },
    {
      "cell_type": "markdown",
      "source": [
        "#### Deletar um campo de um hash\n",
        "\n",
        "Como o Pelé ainda está fazendo gols no céu, acho difícil a gente tentar controlar isso aqui no Redis. Vamos resolver isso.\n",
        "\n",
        "Vamos usar o comando `HDEL` para deletar o campo gols do hash `mvp:2`.\n",
        "\n",
        "**HDEL:** Deleta um campo de um hash.\n"
      ],
      "metadata": {
        "id": "T5XpjxR46Uxu"
      }
    },
    {
      "cell_type": "code",
      "source": [
        "import redis\n",
        "\n",
        "# Conectar ao Redis\n",
        "r = redis.Redis(\n",
        "  host=REDIS_HOST,\n",
        "  port=REDIS_PORT,\n",
        "  password=REDIS_PASSWORD,\n",
        "  decode_responses=True,\n",
        "  )\n",
        "\n",
        "# HDEL: Deletar o campo 'gols' do hash 'mvp:2'\n",
        "r.hdel(\"mvp:2\", \"gols\")\n",
        "\n",
        "# Verificar todos os campos do hash 'mvp:2' para confirmar a deleção\n",
        "pelezinho = r.hgetall(\"mvp:2\")\n",
        "print(\"Hash mvp:2 = \", pelezinho)\n",
        "\n",
        "# Notem que o Python já está parseando a saida como um dict, e os bytes como string\n",
        "print(type(pelezinho))\n",
        "print(type(pelezinho['apelido']))\n"
      ],
      "metadata": {
        "id": "sE_KFem96UVB"
      },
      "execution_count": null,
      "outputs": []
    },
    {
      "cell_type": "markdown",
      "source": [
        "#### Deletar um hash completamente\n",
        "\n",
        "Para deletar o hash `mvp:2` completamente, você pode usar o comando `DEL` via redis-cli, por exemplo.\n",
        "\n",
        "**DEL:** Deleta a chave especificada e todos os seus campos.\n",
        "\n",
        "Execute o comando abaixo no **redis-cli** para deletar o hash `mvp:2`:"
      ],
      "metadata": {
        "id": "Svyqbd5v8Tty"
      }
    },
    {
      "cell_type": "code",
      "source": [
        "!redis-cli $REDIS_CONN DEL mvp:2"
      ],
      "metadata": {
        "id": "pbTkBQQa8u47"
      },
      "execution_count": null,
      "outputs": []
    },
    {
      "cell_type": "markdown",
      "metadata": {
        "id": "x1V1E2Nmjva4"
      },
      "source": [
        "## RedisJSON\n",
        "\n",
        "**RedisJSON** adiciona o tipo de dado **JSON** ao Redis para que você possa trabalhar com dados JSON **nativamente** no Redis, sem tratar o JSON inteiro como uma grande string e constantemente serializar/desserializar JSON no cliente.\n",
        "\n",
        "Isso também significa que eu estou criando um **modelo/schema**. Os campos do JSON são tipados e possuem metacaracterísticas que vão ajudar muito vocês na hora de buscar dados no Redis. Buscas multi-facetadas, de vetor, de geolocalização, com filtros e transoformações que ocorrerão do lado do Redis, evitando multiplos round trips para o backend.\n",
        "\n",
        "*Em outras palavras, você tira o que quer do Redis indo só uma vez até ele, inclusive filtrando exatamente o que você quer que passe pelo fio até sua aplicação.*\n",
        "\n",
        "\n",
        "-----\n",
        "\n",
        "\n",
        "Com uma biblioteca cliente como Python, você pode usar comandos como `redis.json().get()` e `redis.json().set()`, e no Redis CLI, JSON.GET, JSON.SET entre outros.\n",
        "\n",
        "Eu, particularmente, prefiro usar as bibliotecas de Object Mapping, como a [REDISOM](https://redis.io/docs/latest/integrate/redisom-for-python/).\n",
        "\n",
        "-----\n",
        "\n",
        "Veja a lista completa de comandos do RedisJSON aqui: https://redis.io/commands/?group=json\n",
        "\n",
        "Documentação Python: https://redis-py.readthedocs.io/en/stable/redismodules.html#redisjson-commands\n"
      ]
    },
    {
      "cell_type": "markdown",
      "source": [
        "### Hands-on: Exercícios com Hashes no Redis\n",
        "\n",
        "#### Criar um Objeto JSON\n",
        "\n",
        "Vamos começar com um exemplo de um colégio em Curitiba e salvar esse objeto JSON no Redis.\n",
        "\n"
      ],
      "metadata": {
        "id": "l69paJqR9-3v"
      }
    },
    {
      "cell_type": "code",
      "source": [
        "import redis\n",
        "from redis.commands.json.path import Path\n",
        "\n",
        "# Conectar ao Redis\n",
        "r = redis.Redis(\n",
        "  host=REDIS_HOST,\n",
        "  port=REDIS_PORT,\n",
        "  password=REDIS_PASSWORD,\n",
        "  decode_responses=True)\n",
        "\n",
        "# JSON.SET: Criar um objeto JSON para um colégio em Curitiba\n",
        "colegio = {\n",
        "    \"name\": \"Colégio Positivo\",\n",
        "    \"description\": \"Localizado em Curitiba, o Colégio Positivo é conhecido por seu currículo abrangente e inovador, com foco em tecnologia e excelência acadêmica.\",\n",
        "    \"class\": \"particular\",\n",
        "    \"type\": [\"moderno\"],\n",
        "    \"address\": {\"city\": \"Curitiba\", \"street\": \"Rua Prof. Pedro Viriato Parigot de Souza\"},\n",
        "    \"students\": 1500,\n",
        "    \"location\": \"-49.275437,-25.428356\",\n",
        "    \"status_log\": [\"novo\", \"em operação\"],\n",
        "    \"teachers\": [\n",
        "        {\n",
        "            \"name\": \"Maria Oliveira\",\n",
        "            \"subjects\": [\"Biologia\", \"Química\"]\n",
        "        },\n",
        "        {\n",
        "            \"name\": \"João Lima\",\n",
        "            \"subjects\": [\"Matemática\", \"Física\"]\n",
        "        }\n",
        "    ],\n",
        "    \"tags\": \"excelência acadêmica, inovação, tecnologia\"\n",
        "}\n",
        "\n",
        "# Salvar o objeto JSON no Redis com a chave 'colegio:42'\n",
        "r.json().set(\"colegio:42\", '$', colegio)\n",
        "\n",
        "# Verificar se o objeto foi salvo corretamente\n",
        "colegio_salvo = r.json().get(\"colegio:42\")\n",
        "print(colegio_salvo)\n"
      ],
      "metadata": {
        "id": "749uO-HW__Ce"
      },
      "execution_count": null,
      "outputs": []
    },
    {
      "cell_type": "markdown",
      "source": [
        "#### Read: Exemplos de Leitura de JSON no Redis\n",
        "\n",
        "Neste bloco, vamos usar comandos via redis-cli, por aqui mesmo. Poderíamos estar usando o Python, a API, etc.\n",
        "\n",
        "Vamos usar o objeto JSON do \"Colégio Positivo\" em Curitiba que criamos anteriormente. Execute os seguintes comandos no redis-cli para ler de diversas maneiras interessantes.\n"
      ],
      "metadata": {
        "id": "ODU5zTlfBTFi"
      }
    },
    {
      "cell_type": "code",
      "source": [
        "# 1. Pegar o JSON inteiro\n",
        "# Este comando retorna todo o objeto JSON armazenado na chave 'colegio:42'\n",
        "!redis-cli $REDIS_CONN JSON.GET colegio:42\n",
        "\n",
        "# 2. Pegar propriedades específicas\n",
        "# Aqui, pegamos apenas as propriedades 'name' e 'address.city' do objeto JSON\n",
        "!redis-cli $REDIS_CONN JSON.GET colegio:42 $.name $.address.city\n",
        "\n",
        "# 3. Pegar uma propriedade aninhada\n",
        "# Este comando retorna o nome do primeiro professor na lista de professores\n",
        "!redis-cli $REDIS_CONN JSON.GET colegio:42 $.teachers[0].name\n",
        "\n",
        "# 4. Pegar o primeiro elemento de um array\n",
        "# Este comando retorna o primeiro status do log de status\n",
        "!redis-cli $REDIS_CONN JSON.GET colegio:42 $.status_log[0]"
      ],
      "metadata": {
        "id": "SpjPCnYyBweV"
      },
      "execution_count": null,
      "outputs": []
    },
    {
      "cell_type": "markdown",
      "source": [
        "#### Write: Exemplos de Escrita de JSON no Redis\n",
        "\n",
        "Vamos mostrar como interagir com campos específicos do seu JSON. Olha que interessante (vamos de Python dessa vez):\n",
        "\n"
      ],
      "metadata": {
        "id": "HlockdydCxDE"
      }
    },
    {
      "cell_type": "code",
      "source": [
        "import redis\n",
        "from redis.commands.json.path import Path\n",
        "\n",
        "# Conectar ao Redis (usando variáveis de ambiente configuradas)\n",
        "r = redis.Redis(\n",
        "  host=REDIS_HOST,\n",
        "  port=REDIS_PORT,\n",
        "  password=REDIS_PASSWORD,\n",
        "  decode_responses=True\n",
        ")\n",
        "\n",
        "# Imprimir o estado inicial do array status_log e do campo students\n",
        "status_inicial = r.json().get(\"colegio:42\", Path(\"$.status_log\"))\n",
        "alunos_iniciais = r.json().get(\"colegio:42\", Path(\"$.students\"))\n",
        "print(\"Status inicial:\", status_inicial)\n",
        "print(\"Número de alunos inicial:\", alunos_iniciais)\n",
        "\n",
        "print(\"----------------------------------------------------------------\")\n",
        "\n",
        "# 6. Adicionar um novo status ao array status_log\n",
        "r.json().arrappend(\"colegio:42\", Path(\"$.status_log\"), \"em expansão\")\n",
        "status_atualizado = r.json().get(\"colegio:42\", Path(\"$.status_log\"))\n",
        "print(\"Status atualizado:\", status_atualizado)\n",
        "\n",
        "# 7. Incrementar o número de alunos em 10\n",
        "r.json().numincrby(\"colegio:42\", Path(\"$.students\"), 10)\n",
        "alunos_atualizados = r.json().get(\"colegio:42\", Path(\"$.students\"))\n",
        "print(\"Número de alunos atualizado:\", alunos_atualizados)"
      ],
      "metadata": {
        "id": "tsCwWpuLDBJh"
      },
      "execution_count": null,
      "outputs": []
    },
    {
      "cell_type": "markdown",
      "source": [
        "# Search and Query: vamos começar a navegar pelo mundo das consultas avançadas\n",
        "\n",
        "Vamos iniciar carregando alguns outros Colégios conhecidos por nós, Brasileiros.\n",
        "\n",
        "Basta executar o próximo bloco, e vamos em frente."
      ],
      "metadata": {
        "id": "CGrKjgp_Dj-6"
      }
    },
    {
      "cell_type": "code",
      "execution_count": null,
      "metadata": {
        "id": "dMtz_Ak7VOTk"
      },
      "outputs": [],
      "source": [
        "schools = [\n",
        "    {\n",
        "        \"name\": \"Colégio Bandeirantes\",\n",
        "        \"description\": \"Abrangendo 10 estados, o currículo premiado desta escola inclui um sistema de leitura abrangente (do reconhecimento de letras e fonética à leitura de livros completos), além de matemática, ciências, estudos sociais e até filosofia.\",\n",
        "        \"class\": \"independente\",\n",
        "        \"type\": [\"tradicional\"],\n",
        "        \"address\": {\"city\": \"São Paulo\", \"street\": \"Rua Estela\"},\n",
        "        \"students\": 342,\n",
        "        \"location\": \"-46.633308,-23.550520\",\n",
        "        \"status_log\": [\"novo\", \"em operação\"],\n",
        "        \"teachers\": [\n",
        "            {\n",
        "                \"name\": \"Ana Silva\",\n",
        "                \"subjects\": [\"Matemática\", \"Física\"]\n",
        "            },\n",
        "            {\n",
        "                \"name\": \"Carlos Souza\",\n",
        "                \"subjects\": [\"História\", \"Geografia\"]\n",
        "            }\n",
        "        ],\n",
        "        \"tags\": \"excelência acadêmica, tecnologia, inovação, java\"\n",
        "    },\n",
        "    {\n",
        "        \"name\": \"Escola Maria Imaculada\",\n",
        "        \"description\": \"A Garden School é uma nova e inovadora experiência de ensino e aprendizado ao ar livre, oferecendo atividades ricas e variadas em um ambiente natural para crianças e famílias.\",\n",
        "        \"class\": \"estadual\",\n",
        "        \"type\": [\"floresta\", \"montessori\"],\n",
        "        \"address\": {\"city\": \"São Paulo\", \"street\": \"Avenida Vicente Rao\"},\n",
        "        \"students\": 1452,\n",
        "        \"location\": \"-46.699687,-23.621993\",\n",
        "        \"status_log\": [\"novo\", \"em operação\"],\n",
        "        \"teachers\": [\n",
        "            {\n",
        "                \"name\": \"Mariana Costa\",\n",
        "                \"subjects\": [\"Biologia\", \"Química\"]\n",
        "            },\n",
        "            {\n",
        "                \"name\": \"Rafael Lima\",\n",
        "                \"subjects\": [\"Português\", \"Literatura\"]\n",
        "            }\n",
        "        ],\n",
        "        \"tags\": \"educação ao ar livre, inovação, sustentabilidade\"\n",
        "    },\n",
        "    {\n",
        "        \"name\": \"Colégio São Luís\",\n",
        "        \"description\": \"A Gillford School é um centro de aprendizado inclusivo que acolhe pessoas de todos os estilos de vida, convidando-as a assumir seu papel como agentes regenerativos, criando novos caminhos para o futuro e incitando um movimento internacional de transformação cultural, territorial e social.\",\n",
        "        \"class\": \"privada\",\n",
        "        \"type\": [\"democrática\", \"waldorf\"],\n",
        "        \"address\": {\"city\": \"Rio de Janeiro\", \"street\": \"Rua Haddock Lobo\"},\n",
        "        \"students\": 721,\n",
        "        \"location\": \"-46.660213,-23.558704\",\n",
        "        \"status_log\": [\"novo\", \"em operação\", \"fechada\"],\n",
        "        \"teachers\": [\n",
        "            {\n",
        "                \"name\": \"Beatriz Mendes\",\n",
        "                \"subjects\": [\"Filosofia\", \"Sociologia\"]\n",
        "            },\n",
        "            {\n",
        "                \"name\": \"Fernando Almeida\",\n",
        "                \"subjects\": [\"Artes\", \"Educação Física\"]\n",
        "            }\n",
        "        ],\n",
        "        \"tags\": \"inclusão, transformação social, interdisciplinaridade\"\n",
        "    },\n",
        "    {\n",
        "        \"name\": \"Escola Sesc de Ensino\",\n",
        "        \"description\": \"A filosofia por trás da Forest School baseia-se no desejo de proporcionar às crianças pequenas uma educação que incentive a apreciação do mundo amplo na natureza, enquanto alcançam independência, confiança e alta autoestima.\",\n",
        "        \"class\": \"independente\",\n",
        "        \"type\": [\"floresta\", \"montessori\", \"democrática\"],\n",
        "        \"address\": {\"city\": \"Rio de Janeiro\", \"street\": \"Rua Jacarepaguá\"},\n",
        "        \"students\": 1000,\n",
        "        \"location\": \"-43.375162,-22.972250\",\n",
        "        \"status_log\": [\"novo\", \"em operação\"],\n",
        "        \"teachers\": [\n",
        "            {\n",
        "                \"name\": \"Luciana Oliveira\",\n",
        "                \"subjects\": [\"Ciências\", \"Matemática\"]\n",
        "            },\n",
        "            {\n",
        "                \"name\": \"Paulo Santos\",\n",
        "                \"subjects\": [\"História\", \"Geografia\"]\n",
        "            }\n",
        "        ],\n",
        "        \"tags\": \"natureza, independência, confiança\"\n",
        "    },\n",
        "    {\n",
        "        \"name\": \"Colégio Móbile - Perfeito\",\n",
        "        \"description\": \"A Escola Móbile oferece um programa acadêmico rigoroso combinado com foco em pensamento crítico e criatividade, preparando os alunos para o ensino superior e além.\",\n",
        "        \"class\": \"privada\",\n",
        "        \"type\": [\"tradicional\"],\n",
        "        \"address\": {\"city\": \"Curitiba\", \"street\": \"Rua Cotovia\"},\n",
        "        \"students\": 600,\n",
        "        \"location\": \"-46.676201,-23.592920\",\n",
        "        \"status_log\": [\"novo\", \"em operação\"],\n",
        "        \"teachers\": [\n",
        "            {\n",
        "                \"name\": \"Juliana Pereira\",\n",
        "                \"subjects\": [\"Química\", \"Biologia\"]\n",
        "            },\n",
        "            {\n",
        "                \"name\": \"Ricardo Fernandes\",\n",
        "                \"subjects\": [\"Português\", \"Inglês\"]\n",
        "            }\n",
        "        ],\n",
        "        \"tags\": \"rigor acadêmico, pensamento crítico, criatividade\"\n",
        "    },\n",
        "    {\n",
        "        \"name\": \"Colégio Santa Cruz\",\n",
        "        \"description\": \"O Colégio Santa Cruz é conhecido por seu forte desempenho acadêmico e compromisso com a responsabilidade social, promovendo um senso de comunidade entre os alunos.\",\n",
        "        \"class\": \"privada\",\n",
        "        \"type\": [\"tradicional\", \"religiosa\"],\n",
        "        \"address\": {\"city\": \"Belo Horizonte\", \"street\": \"Rua Orobó\"},\n",
        "        \"students\": 300,\n",
        "        \"location\": \"-46.712750,-23.547680\",\n",
        "        \"status_log\": [\"novo\", \"em operação\"],\n",
        "        \"teachers\": [\n",
        "            {\n",
        "                \"name\": \"Gabriela Rocha\",\n",
        "                \"subjects\": [\"Religião\", \"Filosofia\"]\n",
        "            },\n",
        "            {\n",
        "                \"name\": \"Eduardo Matos\",\n",
        "                \"subjects\": [\"Educação Física\", \"Ciências\"]\n",
        "            }\n",
        "        ],\n",
        "        \"tags\": \"desempenho acadêmico, responsabilidade social, comunidade\"\n",
        "    },\n",
        "    {\n",
        "        \"name\": \"Colégio Rio Branco\",\n",
        "        \"description\": \"O Colégio Rio Branco oferece um currículo diversificado com forte ênfase em línguas, artes e ciências, preparando os alunos para a cidadania global.\",\n",
        "        \"class\": \"privada\",\n",
        "        \"type\": [\"internacional\"],\n",
        "        \"address\": {\"city\": \"São Paulo\", \"street\": \"Rua Alves Guimarães\"},\n",
        "        \"students\": 50,\n",
        "        \"location\": \"-46.670912,-23.555451\",\n",
        "        \"status_log\": [\"novo\", \"em operação\"],\n",
        "        \"teachers\": [\n",
        "            {\n",
        "                \"name\": \"Marcelo Andrade\",\n",
        "                \"subjects\": [\"Inglês\", \"Espanhol\"]\n",
        "            },\n",
        "            {\n",
        "                \"name\": \"Sofia Ribeiro\",\n",
        "                \"subjects\": [\"Artes\", \"História\"]\n",
        "            }\n",
        "        ],\n",
        "        \"tags\": \"línguas, artes, cidadania global, java\"\n",
        "    }\n",
        "]\n",
        "\n",
        "\n",
        "\n",
        "# carregar os dados do Redis... algumas escolas do Brasilzão\n",
        "for id, school in enumerate(schools):\n",
        "    #print(school)\n",
        "    r.json().set(f\"school_json:{id}\", '.', school)"
      ]
    },
    {
      "cell_type": "markdown",
      "source": [
        "Execute estes dois comandos abaixo, para alguns exemplos e testes simples:"
      ],
      "metadata": {
        "id": "7bXJpKYR3WRF"
      }
    },
    {
      "cell_type": "code",
      "execution_count": null,
      "metadata": {
        "id": "5NtYQYlPXCIO"
      },
      "outputs": [],
      "source": [
        "# Pegar um JSON inteiro, via JSON.GET, da raiz $\n",
        "!redis-cli $REDIS_CONN JSON.GET school_json:1 $\n",
        "# Listar as keys do schema school_json que criamos juntos no python acima\n",
        "!redis-cli $REDIS_CONN keys 'school_json:*'"
      ]
    },
    {
      "cell_type": "markdown",
      "source": [
        "Agora algo equivalente, mas com Python! Bem simples, né?"
      ],
      "metadata": {
        "id": "wJ-xqmkJ3x1V"
      }
    },
    {
      "cell_type": "code",
      "execution_count": null,
      "metadata": {
        "id": "TaXmD2TFap-t"
      },
      "outputs": [],
      "source": [
        "# Agora com Python!\n",
        "# Pegue um JSON direto, desde a raiz com $\n",
        "res=r.json().get('school_json:0','$')\n",
        "print(res)\n"
      ]
    },
    {
      "cell_type": "markdown",
      "source": [
        "Seguindo com Python, mas com alguns exemplos mais legais"
      ],
      "metadata": {
        "id": "U6Tb-6Wf34s6"
      }
    },
    {
      "cell_type": "code",
      "execution_count": null,
      "metadata": {
        "id": "PUfj0epdWGbz"
      },
      "outputs": [],
      "source": [
        "# Retorne apenas a propriedade nome\n",
        "res=r.json().get('school_json:0','$.name')\n",
        "print(res)\n",
        "\n",
        "# Embedded object ($.address) - Um Address pertence a uma Escola - 1:1\n",
        "res=r.json().get('school_json:0','$.address')\n",
        "print(res)\n",
        "\n",
        "# E agora um elemento de um array - o primeiro elemento\n",
        "res=r.json().get('school_json:0','$.status_log[0]')\n",
        "print(res)"
      ]
    },
    {
      "cell_type": "code",
      "execution_count": null,
      "metadata": {
        "id": "u9kw-6QdbfpV"
      },
      "outputs": [],
      "source": [
        "# Ler a quantidade de students de uma escola X. Neste caso, a primeira!\n",
        "students=r.json().get('school_json:0','$.students')\n",
        "print(students)\n",
        "\n",
        "# Mudar pra 350 alunos e refazer o mesmo comando.\n",
        "# sempre atomico, sempre O(1).\n",
        "r.json().set('school_json:0','$.students',350)\n",
        "r.json().get('school_json:0','$.students')"
      ]
    },
    {
      "cell_type": "code",
      "execution_count": null,
      "metadata": {
        "id": "09i6hh4acIh_"
      },
      "outputs": [],
      "source": [
        "# Incremento atomico do numero de estudandes da escola-alvo... sempre O(1)\n",
        "# Pode clicar algumas vezes! O numincrby vai retornar o novo numero de Estudantes da Escola, assim como na CLI/API.\n",
        "r.json().numincrby('school_json:0','$.students',1)"
      ]
    },
    {
      "cell_type": "markdown",
      "metadata": {
        "id": "jpJW1d87lIJr"
      },
      "source": [
        "## RediSearch - Dando mais poderes para o que já é brabo\n",
        "\n",
        "**RediSearch** adiciona a capacidade de consultar dados nas suas estruturas de dados **HASH** ou **JSON**, **essencialmente transformando o Redis em um banco de dados de documentos.** Sim.\n",
        "\n",
        "Com o RediSearch, você declara índices uma vez e, em seguida, cada objeto de banco de dados que corresponder ao prefixo definido no índice será automaticamente e em tempo real adicionado ao índice.\n",
        "\n",
        "Naturalmente, o que já estiver no Redis será indexado também, a não ser que você não queira. Existem vários designs diferentes para esse tema, incluindo indices pequenos de com curto lifespan. Alguns clientes usam esse modelo para tornar a experiencia de um cliente mais fluida e com menor percepção de latência.\\\n",
        "*Por exemplo, você cria um determinado indice que só vai servir durante a jornada de um cliente logado, até o checkout, e depois vc manda o índice pro beleléu.*\n",
        "\n",
        "\n",
        "-----\n",
        "\n",
        "Para a lista completa de comandos do RediSearch, veja: https://redis.io/commands/?group=search\n",
        "\n",
        "Documentação Python: https://redis-py.readthedocs.io/en/stable/redismodules.html#redisearch-commands"
      ]
    },
    {
      "cell_type": "markdown",
      "source": [
        "### Configurando o Índice no Redis (com tudo, incluindo Geolocation)\n",
        "\n",
        "Vamos criar um **Index** no Redis. Vamos mostrar como configurar o Redis para tratar JSONs como objetos, considerando seus diferentes atributos e propriedades.\n",
        "\n",
        "Aqui, além de configurar campos de texto, tags e numéricos, vamos também configurar o campo de geolocalização.\n",
        "\n",
        "Vamos começar excluindo qualquer índice existente para evitar conflitos. Em seguida, criaremos um novo índice com um esquema completinho.\n",
        "\n",
        "---\n",
        "**Disclaimers:**\n",
        "\n",
        "Sobre o Geolocation, que veremos apenas lá no fim: Este campo permitirá consultas baseadas em coordenadas geográficas, como buscar escolas dentro de um determinado raio a partir de um ponto específico.\n",
        "\n",
        "*Este exemplo não inclui campos de vetor (Redis como um VectorDB) ainda, para manter o foco. Vamos explorar vetores em exercícios futuros.*\n",
        "\n",
        "---\n",
        "\n",
        "Então, vamos lá!"
      ],
      "metadata": {
        "id": "SdJs-gAsEXbF"
      }
    },
    {
      "cell_type": "code",
      "execution_count": null,
      "metadata": {
        "id": "O_2g-lCadPsB"
      },
      "outputs": [],
      "source": [
        "# Aqui eu quero trazer a sua atencao para o schema.\n",
        "# Notem como eu explico para o Redis como tratar o JSON como um objeto mesmo, considerando seus atributos/propriedades.\n",
        "# estamos apenas comecando! esse indice nem vetor (ainda, rsrs, vamos ver juntos em breve)\n",
        "# PORÉM, AQUI, eu já vou parsear o campo de GEOLOCATION, como uma tupla de (longitude,latitude)\n",
        "\n",
        "from redis.commands.search.field import (\n",
        "    NumericField,\n",
        "    TagField,\n",
        "    TextField,\n",
        "    VectorField,\n",
        "    GeoField,\n",
        "\n",
        ")\n",
        "from redis.commands.search.indexDefinition import IndexDefinition, IndexType\n",
        "from redis.commands.search.query import Query\n",
        "\n",
        "# Excluir o índice se ele já existir\n",
        "try:\n",
        "    r.ft(\"idx:schools_json\").dropindex(delete_documents=False)\n",
        "except:\n",
        "    pass\n",
        "\n",
        "# E aqui criamos o index pra valer. Nem vou colocar vector e geoloc agora, pra gente nao confundir.\n",
        "schema = (\n",
        "    TextField(\"$.name\", as_name=\"name\"),\n",
        "    TextField(\"$.description\", as_name=\"description\"),\n",
        "    TagField(\"$.address.city\", as_name=\"city\"),\n",
        "    NumericField(\"$.students\", as_name=\"students\"),\n",
        "    TagField(\"$.tags\", as_name=\"tags\", separator=\",\"),\n",
        "    GeoField(\"$.location\", as_name=\"location\")\n",
        "    )\n",
        "r.ft(\"idx:schools_json\").create_index(schema,\n",
        "                    definition=IndexDefinition(prefix=[\"school_json:\"],\n",
        "                    index_type=IndexType.JSON)\n",
        "                    )"
      ]
    },
    {
      "cell_type": "markdown",
      "source": [
        "### Testando o Setup com uma Full-Text search\n",
        "\n",
        "Não quero te confundir agora, mas os casos de uso vão do básico até avançadíssimos, como você pode ver [aqui](https://redis.io/docs/latest/develop/interact/search-and-query/advanced-concepts/).\n",
        "\n",
        "No exemplo a seguir, vamos realizar uma Full-Text Search buscando pelo termo `rigoroso`.\n",
        "\n",
        "Como o campo `Description` do nosso schema `School` está sendo indexado como **TextField**, vamos enctontrar o Colégio que possui esse termo lá.\n"
      ],
      "metadata": {
        "id": "JM4PKek6YClt"
      }
    },
    {
      "cell_type": "code",
      "execution_count": null,
      "metadata": {
        "id": "PKMJeXfpe9Xp"
      },
      "outputs": [],
      "source": [
        "import pandas as pd\n",
        "# Retorne o Documento inteiro! Aqui fizemos uma Full-Text Search por rigoroso.\n",
        "res=r.ft(\"idx:schools_json\").search(\"rigoroso\")\n",
        "res_df = pd.DataFrame([t.__dict__ for t in res.docs ])\n",
        "res_df"
      ]
    },
    {
      "cell_type": "code",
      "execution_count": null,
      "metadata": {
        "id": "OGKiSpQ-hUMp"
      },
      "outputs": [],
      "source": [
        "# Retorne apenas alguns campos, para evitar passar coisas e metadados desnecessários pelo fio, do Redis para sua App.\n",
        "query=Query(\"rigoroso\") \\\n",
        "   .return_field(\"$.address.city\", as_field=\"city\") \\\n",
        "   .return_field(\"$.name\", as_field=\"name\")\n",
        "res=r.ft(\"idx:schools_json\").search(query)\n",
        "res_df = pd.DataFrame([t.__dict__ for t in res.docs ])\n",
        "res_df"
      ]
    },
    {
      "cell_type": "markdown",
      "source": [
        "Vamos fazer uma busca um pouco mais interessante.\n",
        "\n",
        "Quero encontrar escolas em São Paulo (TAG), que possua de 300 a 2000 alunos.\n",
        "Neste exemplo, a TAG foi um exact match, atômico.\n",
        "\n",
        "Por conta deste campo, eu tenho um alias que ignora os aninhamentos, onde a cidade (City) pertence ao endereço (Address) da entidade-pai (School).\n",
        "\n",
        "```\n",
        "# Durante a criação do Index, falamos pro Redis que Cidade é uma TAG.\n",
        "<...>\n",
        "TagField(\"$.address.city\", as_name=\"city\")\n",
        "<...>\n",
        "```"
      ],
      "metadata": {
        "id": "ITO171UH6VaR"
      }
    },
    {
      "cell_type": "code",
      "execution_count": null,
      "metadata": {
        "id": "yMK3P7g5j7v5"
      },
      "outputs": [],
      "source": [
        "# Busca Multi-Field, um pouquinho mais complexa\n",
        "# Notem o uso de {} para exact match de tags\n",
        "# Notem tambem que estamos vendo que o Redis eh binary-safe...\n",
        "# A Cidade, sendo uma tag, casa certinho, considerando o 'ã' de São Paulo\n",
        "query=Query('@city:{São Paulo} @students:[300, 2000]') \\\n",
        "   .return_field(\"$.address.city\", as_field=\"city\") \\\n",
        "   .return_field(\"$.name\", as_field=\"name\") \\\n",
        "   .return_field(\"$.students\", as_field=\"students\")\n",
        "res=r.ft(\"idx:schools_json\").search(query)\n",
        "#print(res)\n",
        "res_df = pd.DataFrame([t.__dict__ for t in res.docs ])\n",
        "res_df\n"
      ]
    },
    {
      "cell_type": "markdown",
      "source": [
        "# Casos de uso poderosos e mais avançados\n",
        "(não são complexos, é tranquilo entender)"
      ],
      "metadata": {
        "id": "OprC45352A8O"
      }
    },
    {
      "cell_type": "markdown",
      "source": [
        "## Busca por Tags - Encontrando escolas com características específicas\n",
        "\n",
        "Nesta seção, vamos realizar buscas utilizando tags.\n",
        "\n",
        "Tags permitem buscas exatas em campos específicos. Mas isso não quer dizer que você não pode usar wildcards."
      ],
      "metadata": {
        "id": "0NRkDCez9VqB"
      }
    },
    {
      "cell_type": "code",
      "source": [
        "# Busca por tags (mesmo que tenham wildcard) - binary safe - usando o melhor idioma do PLANETA: PT-BR\n",
        "query = Query('@tags:{inovaçã*}') \\\n",
        "    .return_field(\"$.address.city\", as_field=\"city\") \\\n",
        "    .return_field(\"$.name\", as_field=\"name\")\n",
        "res = r.ft(\"idx:schools_json\").search(query)\n",
        "res_df = pd.DataFrame([t.__dict__ for t in res.docs])\n",
        "print(res_df)"
      ],
      "metadata": {
        "id": "XnyfIEdn9WXe"
      },
      "execution_count": null,
      "outputs": []
    },
    {
      "cell_type": "markdown",
      "source": [
        "## Busca por Intervalo - Quantos alunos estão matriculados?\n",
        "\n",
        "Busca por intervalo é o que você vai encontrar na doc oficial como \"Range queries\"\n",
        "\n",
        "Para realizar buscas por intervalos em campos numéricos, como a quantidade de alunos em uma escola, podemos utilizar essas consultas de intervalo.\n",
        "\n",
        "**Não se assustem com `inf+` e `inf-`!**\\\n",
        "Esses termos são utilizados para representar o intervalo máximo e mínimo, respectivamente. inf+ significa infinito positivo (o valor mais alto possível) e inf- significa infinito negativo (o valor mais baixo possível). Eles são úteis quando você quer incluir todos os valores acima ou abaixo de um determinado limite."
      ],
      "metadata": {
        "id": "2J6QSmhu_kZg"
      }
    },
    {
      "cell_type": "code",
      "source": [
        "# Aqui, vamos realizar buscas baseadas em intervalos numéricos. Neste caso, a quantidade de alunos.\n",
        "# TODO - Colocar mais ranges e mudar as cidades\n",
        "\n",
        "# Busca por escolas com entre 300 e 1000 alunos (inclusivo)\n",
        "search = '@students:[300 1000]'\n",
        "query = Query(search) \\\n",
        "    .return_field(\"$.address.city\", as_field=\"city\") \\\n",
        "    .return_field(\"$.name\", as_field=\"name\") \\\n",
        "    .return_field(\"$.students\", as_field=\"students\")\n",
        "res = r.ft(\"idx:schools_json\").search(query)\n",
        "res_df = pd.DataFrame([t.__dict__ for t in res.docs])\n",
        "print(\"--------------------------------------------------------------------\")\n",
        "print(\"Escolas que têm entre 300 e 1000 estudantes (inclusive)\")\n",
        "print(\"Search: {0}\".format(search))\n",
        "print(\"\")\n",
        "print(res_df)\n",
        "print(\"--------------------------------------------------------------------\")\n",
        "\n",
        "# Busca por escolas com mais de 1000 alunos (exclusivo)\n",
        "# Note que o Escola Sesc de Ensino não vai aparecer, pois tem exatos 1000 alunos\n",
        "search = '@students:[(1000 +inf]'\n",
        "query = Query(search) \\\n",
        "    .return_field(\"$.address.city\", as_field=\"city\") \\\n",
        "    .return_field(\"$.name\", as_field=\"name\") \\\n",
        "    .return_field(\"$.students\", as_field=\"students\")\n",
        "res = r.ft(\"idx:schools_json\").search(query)\n",
        "res_df = pd.DataFrame([t.__dict__ for t in res.docs])\n",
        "print(\"--------------------------------------------------------------------\")\n",
        "print(\"Escolas que têm mais de 1000 estudantes (exclusive)\")\n",
        "print(\"Search: {0}\".format(search))\n",
        "print(\"Comment: Note que a Escola Sesc de Ensino não vai aparecer, pois tem exatos 1000 alunos\")\n",
        "print(\"\")\n",
        "print(res_df)\n",
        "print(\"--------------------------------------------------------------------\")\n",
        "\n",
        "\n",
        "# Busca por escolas com menos de 300 alunos (inclusivo)\n",
        "search = '@students:[-inf 300]'\n",
        "query = Query(search) \\\n",
        "    .return_field(\"$.address.city\", as_field=\"city\") \\\n",
        "    .return_field(\"$.name\", as_field=\"name\") \\\n",
        "    .return_field(\"$.students\", as_field=\"students\")\n",
        "res = r.ft(\"idx:schools_json\").search(query)\n",
        "res_df = pd.DataFrame([t.__dict__ for t in res.docs])\n",
        "print(\"--------------------------------------------------------------------\")\n",
        "print(\"Escolas que têm menos de 300 estudantes (inclusive)\")\n",
        "print(\"Search: {0}\".format(search))\n",
        "print(\"\")\n",
        "print(res_df)\n",
        "print(\"--------------------------------------------------------------------\")\n",
        "\n",
        "\n",
        "# Busca por escolas com menos de 300 alunos (exclusivo)\n",
        "search = '@students:[0 (300]'\n",
        "query = Query(search) \\\n",
        "    .return_field(\"$.address.city\", as_field=\"city\") \\\n",
        "    .return_field(\"$.name\", as_field=\"name\") \\\n",
        "    .return_field(\"$.students\", as_field=\"students\")\n",
        "res = r.ft(\"idx:schools_json\").search(query)\n",
        "res_df = pd.DataFrame([t.__dict__ for t in res.docs])\n",
        "print(\"--------------------------------------------------------------------\")\n",
        "print(\"Escolas que têm menos de 300 estudantes (exclusive)\")\n",
        "print(\"Search: {0}\".format(search))\n",
        "print(\"Comment: Note que o Colégio Santa Cruz não vai aparecer, pois tem exatos 300 alunos\")\n",
        "print(\"\")\n",
        "print(res_df)\n",
        "print(\"--------------------------------------------------------------------\")\n",
        "\n"
      ],
      "metadata": {
        "id": "M7Rar-qOA3UT"
      },
      "execution_count": null,
      "outputs": []
    },
    {
      "cell_type": "markdown",
      "source": [
        "## Fuzzy Match - \"Serasse\" eu sei escrever essa palavra?\n",
        "\n",
        "Pra fechar, apenas um exemplo leve de comunicação realista: podemos estar buscando sem saber escrever direito o termo. Esse é apenas um das dezenas de exemplos que vocês vão ter acesso na doc do Redis. Tem de redução de radicais, levando em consideração o contexto e cultura de uma determinada Língua, etc.\n",
        "\n",
        "Aqui, vamos apenas fazer uma full-text search procurando por alguma coisa meio esquisita, e vamos ver se o Redis consegue ajudar."
      ],
      "metadata": {
        "id": "MmMPjG7CdclY"
      }
    },
    {
      "cell_type": "code",
      "source": [
        "# Fuzzy matching!\n",
        "# %algumacoisa% significa todos os termos com distância de Levenshtein de 1 em relação a ele.\n",
        "# Use múltiplos pares de % para aumentar a distância de Levenshtein.\n",
        "\n",
        "query=Query('%%Bondeirants%%') \\\n",
        "   .return_field(\"$.address.city\", as_field=\"city\") \\\n",
        "   .return_field(\"$.name\", as_field=\"name\") \\\n",
        "   .return_field(\"$.students\", as_field=\"students\")\n",
        "res=r.ft(\"idx:schools_json\").search(query)\n",
        "#print(res)\n",
        "res_df = pd.DataFrame([t.__dict__ for t in res.docs ])\n",
        "res_df"
      ],
      "metadata": {
        "id": "2Y911V4pZVNS"
      },
      "execution_count": null,
      "outputs": []
    },
    {
      "cell_type": "markdown",
      "source": [
        "### Suporte a Sinônimos\n",
        "\n",
        "O Redis Stack suporta a busca por palavras sinônimas definidas pela estrutura de dados de sinônimos. Isso permite que, ao buscar por uma palavra, documentos contendo suas sinônimas também sejam retornados.\n",
        "\n",
        "A estrutura de dados de sinônimos é um conjunto de grupos, cada um contendo termos sinônimos. Por exemplo, o seguinte conjunto de sinônimos contém três grupos, e cada grupo contém três termos sinônimos:\n",
        "\n",
        "- {menino, criança, bebê}\n",
        "- {menina, criança, bebê, girl}\n",
        "- {mulher, pessoa, adulto}\n",
        "\n",
        "**Pensando nestes três `Sets`, podemos afirmar que:**\n",
        "\n",
        "Quando esses grupos estão na estrutura de dados de sinônimos, é possível buscar por \"criança\" e receber documentos contendo \"menino\", \"menina\", \"girl\", \"criança\" e \"bebê\"."
      ],
      "metadata": {
        "id": "ULg6CI9qbqpd"
      }
    },
    {
      "cell_type": "code",
      "source": [
        "# Busca com Sinônimos - Procurando por termos relacionados entre si\n",
        "# Vamos utilizar um set aqui, bem simples.\n",
        "# E vamos usar um exemplo nada a ver, justamente para reforçar que nenhum modelo de MachineLearning precisou ser usado para aproximar os termos.\n",
        "# Essa parte mais doida, vamos ver nos exercícios de Vector Search (vector similarity, cosine, etc)\n",
        "\n",
        "# Configurando grupo de sinônimos com termos fora do contexto escolar\n",
        "# Aqui é apenas uma brincadeira, com coisas bem desconexas mesmo\n",
        "r.ft(\"idx:schools_json\").synupdate(\"synonym_maluco_1\", False, \"Perfeito\", \"CristianoRonaldo\", \"CR7\")\n",
        "\n",
        "# Finalmente, a busca utilizando este sinônimo curioso\n",
        "search = 'CristianoRonaldo'\n",
        "query = Query(search) \\\n",
        "    .return_field(\"$.address.city\", as_field=\"city\") \\\n",
        "    .return_field(\"$.name\", as_field=\"name\") \\\n",
        "    .return_field(\"$.description\", as_field=\"description\")\n",
        "res = r.ft(\"idx:schools_json\").search(query)\n",
        "res_df = pd.DataFrame([t.__dict__ for t in res.docs])\n",
        "print(\"--------------------------------------------------------------------\")\n",
        "print(\"Busca por 'Cristiano Ronaldo' usando sinônimos (inclui 'Perfeito' e 'CR7')\")\n",
        "print(\"Search: {0}\".format(search))\n",
        "print(res_df)\n",
        "print(\"--------------------------------------------------------------------\")\n"
      ],
      "metadata": {
        "id": "oaN1MZOwcv0E"
      },
      "execution_count": null,
      "outputs": []
    },
    {
      "cell_type": "markdown",
      "source": [
        "## Suporte a Stemming - uma forma bonita de dizer que vamos buscar pelo radical da palavra\n",
        "\n",
        "O **Redis Stack** suporta **Stemming**, permitindo a adição da forma base de uma palavra ao índice (radical). Isso possibilita que uma busca por \"contratando\" também retorne resultados para \"contratar\" e \"contratado\".\n",
        "\n",
        "O suporte atual a Stemming é baseado na biblioteca **Snowball Stemmer**, que suporta a maioria das línguas europeias, bem como árabe e outras.\n",
        "\n",
        "Para definir qual idioma o Stemmer deve aplicar ao construir o índice, você precisa especificar o parâmetro LANGUAGE ao criar o índice ou para um campo específico.\n",
        "\n",
        "**Neste caso, vou usar um exemplo comum do Inglês.**\n",
        "\n",
        "Vamos buscar pelo termo `hiring`.\\\n",
        "Vamos ver o que ele traz de stemming, considerando o verbo \"to `hire`\".\n",
        "\n"
      ],
      "metadata": {
        "id": "IECDgFh4ix9c"
      }
    },
    {
      "cell_type": "code",
      "source": [
        "### Suporte a Stemming\n",
        "\n",
        "# Criação do índice com suporte a Stemming em inglês\n",
        "# Para criar um índice com suporte a stemming, definimos os campos TextField apropriados.\n",
        "from redis.commands.search.field import TextField, TagField, NumericField\n",
        "from redis.commands.search.indexDefinition import IndexDefinition, IndexType\n",
        "from redis.commands.search.query import Query\n",
        "import pandas as pd\n",
        "\n",
        "# Agora, pessoal, vou criar um outro índice. Mas é apenas pra gente não confundir as paradas.\n",
        "# Na verdade, vocês podem criar e destruir índices ao longo da operação em Prod... isso é normal\n",
        "# Temos clientes que criam índices de curta-vida, durando apenas enquanto um determinado usuário está logado e interagindo com o sistema.\n",
        "# Excluir o índice se ele já existir\n",
        "try:\n",
        "    r.ft(\"idx:schools_stemming\").dropindex(delete_documents=False)\n",
        "except:\n",
        "    pass\n",
        "\n",
        "# Criação do índice com suporte a stemming\n",
        "schema = (\n",
        "    TextField(\"$.name\", as_name=\"name\"),\n",
        "    TextField(\"$.description\", as_name=\"description\")\n",
        ")\n",
        "\n",
        "# Usando o conceito de Index Definition dessa lib do Python, pra injetar e explicar pro Redis que falamos inglês por aqui\n",
        "r.ft(\"idx:schools_stemming\").create_index(schema, definition=IndexDefinition(prefix=[\"school_json:\"], index_type=IndexType.JSON, language='english'))\n",
        "\n",
        "# Adicionar documentos com variações da palavra \"hire\"\n",
        "r.json().set('school_json:10', '$', {\"name\": \"School Hiring\", \"description\": \"just to avoid confusion\"})\n",
        "r.json().set('school_json:11', '$', {\"name\": \"College Hire\", \"description\": \"just to avoid confusion\"})\n",
        "r.json().set('school_json:12', '$', {\"name\": \"Academy of Hired\", \"description\": \"just to avoid confusion\"})\n",
        "\n",
        "# Listar todos os documentos no índice\n",
        "print(\"--------------------------------------------------------------------\")\n",
        "print(\"Listando todos os documentos no índice\")\n",
        "print(\"--------------------------------------------------------------------\")\n",
        "search = '*'\n",
        "query = Query(search).return_field(\"$.name\", as_field=\"name\")\n",
        "res = r.ft(\"idx:schools_stemming\").search(query)\n",
        "res_df = pd.DataFrame([t.__dict__ for t in res.docs])\n",
        "print(res_df)\n",
        "\n",
        "# Busca com Stemming para \"hiring\"\n",
        "search = '@name:(hiring)'\n",
        "\n",
        "query_params = {\n",
        "  \"LANGUAGE\": \"english\"  # Gabs: parece estar sendo ignorado - abrir uma issue rapidola\n",
        "}\n",
        "\n",
        "query = Query(search) \\\n",
        "    .return_field(\"$.name\", as_field=\"name\") \\\n",
        "    .return_field(\"$.description\", as_field=\"description\")\n",
        "\n",
        "res = r.ft(\"idx:schools_stemming\").search(query, query_params)\n",
        "\n",
        "res_df = pd.DataFrame([t.__dict__ for t in res.docs])\n",
        "print(\"--------------------------------------------------------------------\")\n",
        "print(\"Busca por 'hiring' com suporte a Stemming\")\n",
        "print(\"Search: {0}\".format(search))\n",
        "print(res_df)\n",
        "print(\"--------------------------------------------------------------------\")\n"
      ],
      "metadata": {
        "id": "9RQaKzrPjUwt"
      },
      "execution_count": null,
      "outputs": []
    },
    {
      "cell_type": "markdown",
      "source": [
        "## Suporte a Correspondência Fonética\n",
        "\n",
        "A correspondência fonética permite que você encontre termos baseados na sua pronúncia. Isso é particularmente útil ao buscar nomes de pessoas, onde variações na escrita podem ocorrer, mas a pronúncia permanece semelhante.\n",
        "\n",
        "O **Redis Stack** suporta a correspondência fonética usando o algoritmo **Double Metaphone (DM)**, que é eficaz para várias línguas latinas, incluindo inglês, francês, português e espanhol. Ao definir um campo de texto com a opção PHONETIC, os termos nesse campo serão indexados tanto pelo seu valor textual quanto pela sua representação fonética.\n",
        "\n",
        "Vamos parar de usar Python agora, pra fechar com chave de ouro.\\\n",
        "Podem seguir fazendo por aqui, visto que temos um `redis-cli` disponível.\n",
        "\n",
        "Entretanto, minha recomendação é fazer esse último aqui direto no **Redis Insights (GUI)**\n",
        "\n",
        "Vamos lá!\\\n",
        "*Ah, e parabéns por ter chegado até aqui. Gostei muito de preparar esse material pra vocês.*\n",
        "\n",
        "\n",
        "### Configuração do Índice com Correspondência Fonética\n",
        "\n",
        "Comando para criar o índice:"
      ],
      "metadata": {
        "id": "09Nk_y-C7KEz"
      }
    },
    {
      "cell_type": "code",
      "source": [
        "!redis-cli $REDIS_CONN FT.DROPINDEX idx:schools_phonetic || true\n",
        "!redis-cli $REDIS_CONN FT.CREATE idx:schools_phonetic ON JSON PREFIX 1 school_json: LANGUAGE portuguese SCHEMA $.name AS name TEXT PHONETIC dm:pt $.description AS description TEXT"
      ],
      "metadata": {
        "id": "ByWSYq6C9RZy"
      },
      "execution_count": null,
      "outputs": []
    },
    {
      "cell_type": "markdown",
      "source": [
        "### Adicionar Documentos\n",
        "\n",
        "Comandos para adicionar documentos:"
      ],
      "metadata": {
        "id": "ktcmYmwH9pEl"
      }
    },
    {
      "cell_type": "code",
      "source": [
        "!redis-cli $REDIS_CONN JSON.SET school_json:30 $ \"{\\\"name\\\": \\\"Escola João\\\", \\\"description\\\": \\\"Um ótimo lugar para aprender\\\"}\"\n",
        "!redis-cli $REDIS_CONN JSON.SET school_json:31 $ \"{\\\"name\\\": \\\"Escola Jão\\\", \\\"description\\\": \\\"Uma excelente instituição educacional\\\"}\"\n",
        "!redis-cli $REDIS_CONN JSON.SET school_json:32 $ \"{\\\"name\\\": \\\"Escola Joãozinho\\\", \\\"description\\\": \\\"Educação de primeira qualidade\\\"}\""
      ],
      "metadata": {
        "id": "TGnLAdQN9txk"
      },
      "execution_count": null,
      "outputs": []
    },
    {
      "cell_type": "markdown",
      "source": [
        "### Executar Consultas Fonéticas\n",
        "\n",
        "Comandos para executar consultas fonéticas, e com `SORT DESC BY name` (só pra ficar mais legal):"
      ],
      "metadata": {
        "id": "jQUVeHol96dJ"
      }
    },
    {
      "cell_type": "code",
      "source": [
        "!echo \"##############################################################################################################\"\n",
        "# Buscar por \"João\" que deve retornar documentos com \"João\" e \"Jão\", em ordem decrescente\n",
        "!redis-cli $REDIS_CONN FT.SEARCH idx:schools_phonetic \"João\" LANGUAGE portuguese SORTBY name DESC RETURN 1 name\n",
        "!echo \"##############################################################################################################\"\n",
        "!echo \"\"\n",
        "!echo \"##############################################################################################################\"\n",
        "# Buscar por \"Jão\" que deve retornar documentos com \"Jão\" e \"João\" também, mas em ordem crescente agora\n",
        "!redis-cli $REDIS_CONN FT.SEARCH idx:schools_phonetic \"Jão\" LANGUAGE portuguese SORTBY name ASC RETURN 1 name\n",
        "!echo \"##############################################################################################################\"\n",
        "!echo \"\"\n",
        "!echo \"##############################################################################################################\"\n",
        "# Buscar por \"Joãozinho\" que deve retornar documentos com \"Joãozinho\". Neste caso, só tem um.\n",
        "!redis-cli $REDIS_CONN FT.SEARCH idx:schools_phonetic \"Joãozinho\" LANGUAGE portuguese SORTBY name DESC\n",
        "!echo \"##############################################################################################################\"\n"
      ],
      "metadata": {
        "id": "lgeji8Ce-Byc"
      },
      "execution_count": null,
      "outputs": []
    },
    {
      "cell_type": "markdown",
      "source": [
        "# Busca Complexa no Redis: O Grand Finale\n",
        "\n",
        "Nesta última parte do nosso workshop, vamos utilizar o Redis para realizar uma busca complexa combinando várias funcionalidades avançadas de busca que aprendemos. Vamos explorar:\n",
        "\n",
        "    Fuzzy Search: Para encontrar termos que são similares, mas não exatamente iguais, ao termo de busca.\n",
        "    Full Text Search: Para buscar termos em campos de texto.\n",
        "    Tag Search: Para encontrar correspondências exatas em campos de tags.\n",
        "    Geolocation Search: Para buscar documentos dentro de um determinado raio de uma localização específica.\n",
        "    Range Search: Para buscar documentos com valores numéricos dentro de um intervalo específico.\n",
        "    Sorting: Para ordenar os resultados por um campo numérico.\n",
        "    # e, no próximo notebook... vamos partir pro Vector e entrar no mundo de LLM e Machine Learning.\n",
        "\n",
        "Nosso objetivo será encontrar escolas com base em uma combinação desses critérios e retornar apenas o nome e a quantidade de alunos, ordenados pelo número de alunos (do maior pro menor).\n",
        "\n",
        "### Olha que legal:"
      ],
      "metadata": {
        "id": "fxf3cGHEHGFQ"
      }
    },
    {
      "cell_type": "code",
      "source": [
        "# Busca complexa\n",
        "search = '%%Colejio%% (@name:Colégio|Banana) @city:{São Paulo} @tags:{tecnologia|ambiental|java} @location:[-46.633308 -23.550520 100000 km] @students:[25 400]'\n",
        "query = Query(search) \\\n",
        "    .return_field(\"$.name\", as_field=\"name\") \\\n",
        "    .return_field(\"$.students\", as_field=\"students\") \\\n",
        "    .sort_by(\"students\", asc=False)\n",
        "res = r.ft(\"idx:schools_json\").search(query)\n",
        "res_df = pd.DataFrame([t.__dict__ for t in res.docs])\n",
        "\n",
        "print(\"--------------------------------------------------------------------\")\n",
        "print(\"Busca Complexa: Fuzzy, Full Text, Tag, Geoloc, Range e Sort\")\n",
        "print(\"Search: {0}\".format(search))\n",
        "print(res_df)\n",
        "print(\"--------------------------------------------------------------------\")"
      ],
      "metadata": {
        "id": "1E28u_SuH4lv"
      },
      "execution_count": null,
      "outputs": []
    },
    {
      "cell_type": "markdown",
      "source": [
        "# Aggregations - como usar o FT.AGGREGATE\n",
        "\n",
        "As agregações são uma maneira de processar os resultados de uma consulta de pesquisa, agrupar, ordenar e transformá-los - e extrair insights analíticos deles. Assim como consultas de agregação em outros bancos de dados e motores de busca, elas podem ser usadas para criar relatórios analíticos ou realizar consultas no estilo de Pesquisa Facetada.\n",
        "\n",
        "Por exemplo, podemos agrupar escolas por cidade e contar escolas por grupo, nos dando o número de escolas por cidade. Ou poderíamos agrupar por classe escolar (particular/estatal) e ver o número médio de alunos por grupo.\n",
        "\n",
        "\n",
        "\n"
      ],
      "metadata": {
        "id": "Wx3yN98AQ1sj"
      }
    },
    {
      "cell_type": "code",
      "source": [
        "from redis.commands.search.aggregation import AggregateRequest\n",
        "from redis.commands.search.indexDefinition import IndexDefinition, IndexType\n",
        "from redis.commands.search.query import Query\n",
        "from redis.commands.search.aggregation import AggregateRequest\n",
        "from redis.commands.search import reducers\n",
        "\n",
        "# helper function para mostrar os resultados do redis.ft().search() como um dataframe, pra quem curte pandas lib\n",
        "def display_ft(res):\n",
        "  if res.total==0:\n",
        "    print(\"No matches found\")\n",
        "  else:\n",
        "    res_df = pd.DataFrame([t.__dict__ for t in res.docs ]).drop(columns=[\"payload\"])\n",
        "    display(res_df)\n",
        "\n",
        "# helper function para traduzir o resultado do FT.AGGREGATE para um dataframe e entao mostrar o resultado\n",
        "def display_ft_agg(res):\n",
        "  data = res.rows\n",
        "  data = [[item for item in sublist] for sublist in data]\n",
        "  column_dict = {}\n",
        "  for sublist in data:\n",
        "      for i in range(0, len(sublist), 2):\n",
        "          column_name = sublist[i]\n",
        "          column_value = sublist[i + 1]\n",
        "          column_dict.setdefault(column_name, []).append(column_value)\n",
        "  df = pd.DataFrame(column_dict)\n",
        "  display(df)\n",
        "\n",
        "\n",
        "# Execute uma agregacao por cidade, e conte o numero de escolas por cidade (parecido com um SQL da vida).\n",
        "request = AggregateRequest(f'*').group_by('@city', reducers.count().alias('count'))\n",
        "res = r.ft(\"idx:schools_json\").aggregate(request)\n",
        "#print(res.rows)\n",
        "display_ft_agg(res)\n",
        "\n",
        "\n",
        "# Execute uma agregacao por cidade, e conte o numero de estudantes por cidade\n",
        "# Note que agora estamos mandando um SUM, apra somar os students, e nao mais um COUNT\n",
        "request = AggregateRequest(f'*').group_by('@city', reducers.sum('@students').alias('students_count'))\n",
        "res = r.ft(\"idx:schools_json\").aggregate(request)\n",
        "display_ft_agg(res)\n"
      ],
      "metadata": {
        "id": "UqxpcfGbRf_z"
      },
      "execution_count": null,
      "outputs": []
    },
    {
      "cell_type": "markdown",
      "source": [
        "## Bonus!!! Verificação Ortográfica com Redis e FT.SEARCH (doideira)\n",
        "\n",
        "O comando `FT.SPELLCHECK` realiza a correção ortográfica em uma consulta, retornando sugestões para termos incorretos. Podemos especificar a distância máxima de **Levenshtein** para sugestões de ortografia e usar **dicionários personalizados** para incluir ou excluir termos.\n",
        "\n",
        "Eu ainda não montei um dicionário personalizado, mas vou assim que tiver tempo.\\\n",
        "Quero fazer algo com regionalismo e dialetos.\n",
        "\n",
        "Enfim, foco aqui!\n",
        "\n",
        "Vamos criar um índice simples e adicionar alguns documentos para simular a correção ortográfica. Em seguida, usaremos o comando `FT.SPELLCHECK` para verificar a ortografia da palavra \"Redis\"."
      ],
      "metadata": {
        "id": "ZQcp4DmAAHMm"
      }
    },
    {
      "cell_type": "markdown",
      "source": [
        "### Passo 1: Criação do Índice\n",
        "\n",
        "Aqui vale lembrar que não precisamos ter vários índices. Eu estou criando mais só pro exercício ficar mais \"atômico\", rsrs."
      ],
      "metadata": {
        "id": "B_X-aU3hA3S5"
      }
    },
    {
      "cell_type": "code",
      "source": [
        "!redis-cli $REDIS_CONN FT.DROPINDEX idx:spellcheck || true\n",
        "!redis-cli $REDIS_CONN FT.CREATE idx:spellcheck ON JSON PREFIX 1 doc: SCHEMA $.content AS content TEXT"
      ],
      "metadata": {
        "id": "sk8fOaayBGRJ"
      },
      "execution_count": null,
      "outputs": []
    },
    {
      "cell_type": "markdown",
      "source": [
        "### Passo 2: Adição de Documentos\n"
      ],
      "metadata": {
        "id": "50_-tqyxBVnF"
      }
    },
    {
      "cell_type": "code",
      "source": [
        "!redis-cli $REDIS_CONN JSON.SET doc:1 $ \"{\\\"content\\\": \\\"Redis is an in-memory data structure store.\\\"}\"\n",
        "!redis-cli $REDIS_CONN JSON.SET doc:2 $ \"{\\\"content\\\": \\\"Redis provides high availability through Redis Sentinel.\\\"}\"\n",
        "!redis-cli $REDIS_CONN JSON.SET doc:3 $ \"{\\\"content\\\": \\\"Redis is used for caching, real-time analytics, and message brokering.\\\"}\""
      ],
      "metadata": {
        "id": "FXNDVm40BYco"
      },
      "execution_count": null,
      "outputs": []
    },
    {
      "cell_type": "markdown",
      "source": [
        "### Passo 3: Execução do Comando FT.SPELLCHECK"
      ],
      "metadata": {
        "id": "qLnsX3ttCLG9"
      }
    },
    {
      "cell_type": "code",
      "source": [
        "# Verificação ortográfica para a palavra incorreta \"Redsi\"\n",
        "!echo \"##############################################################################################################\"\n",
        "!redis-cli $REDIS_CONN FT.SPELLCHECK idx:spellcheck Redsi DISTANCE 1\n",
        "!echo \"##############################################################################################################\"\n",
        "\n",
        "!echo \"\"\n",
        "\n",
        "# Verificação ortográfica para a palavra incorreta \"Rédiz\" - com Levenshtein DISTANCE de 1\n",
        "!echo \"##############################################################################################################\"\n",
        "!redis-cli $REDIS_CONN FT.SPELLCHECK idx:spellcheck Rédiz DISTANCE 1\n",
        "!echo \"##############################################################################################################\"\n",
        "\n",
        "!echo \"\"\n",
        "\n",
        "# Verificação ortográfica para a palavra incorreta \"Rédiz\" - com Levenshtein DISTANCE de 2 - agora vai rsrs\n",
        "!echo \"##############################################################################################################\"\n",
        "!redis-cli $REDIS_CONN FT.SPELLCHECK idx:spellcheck Rédiz DISTANCE 2\n",
        "!echo \"##############################################################################################################\""
      ],
      "metadata": {
        "id": "QA8aJ0cmCS6m"
      },
      "execution_count": null,
      "outputs": []
    }
  ],
  "metadata": {
    "colab": {
      "provenance": [],
      "include_colab_link": true
    },
    "kernelspec": {
      "display_name": "Python 3",
      "name": "python3"
    },
    "language_info": {
      "name": "python",
      "version": "3.9.6"
    }
  },
  "nbformat": 4,
  "nbformat_minor": 0
}