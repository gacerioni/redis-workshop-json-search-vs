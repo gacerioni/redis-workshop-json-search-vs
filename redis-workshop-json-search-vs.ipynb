{
  "cells": [
    {
      "cell_type": "markdown",
      "metadata": {
        "id": "view-in-github",
        "colab_type": "text"
      },
      "source": [
        "<a href=\"https://colab.research.google.com/github/gacerioni/redis-workshop-json-search-vs/blob/master/redis-workshop-json-search-vs.ipynb\" target=\"_parent\"><img src=\"https://colab.research.google.com/assets/colab-badge.svg\" alt=\"Open In Colab\"/></a>"
      ]
    },
    {
      "cell_type": "markdown",
      "metadata": {
        "id": "LDFnzeLwjmXL"
      },
      "source": [
        "# Workshop - Redis JSON, Search and Query, e Vector Search (soon)\n",
        "\n",
        "![Redis](https://redis.io/wp-content/uploads/2024/04/Logotype.svg?auto=webp&quality=85,75&width=120)\n",
        "\n",
        "\n",
        "Bem-vind[ao]s ao Workshop! Vamos ter uma experiência hands-on sobre alguns temas centrais do Redis, bem além do Caching.\n",
        "\n",
        "\n",
        "Para uma experiência premium, como a que eu quero que vocês tenham, recomendo MUITO utilizar o Redis Insight (App ou Web) pra apoiar na visualização dos dados.\n",
        "\n",
        "https://redis.com/redis-enterprise/redis-insight/"
      ]
    },
    {
      "cell_type": "markdown",
      "source": [
        "## Objetivos do Workshop\n",
        "\n",
        "Este notebook irá fazer uma breve introdução ao **Hash** e o **JSON** (data types nativos) para o **Redis**.\\\n",
        "Feito isso, vamos entender as diferenças entre **buscas de texto** VS **buscas semânticas**, e o conceito de **Vector Databases**.\n",
        "\n",
        "Entretanto, o foco deste workshop permanece no `JSON + Search and Query`, e como vocês podem utilizar o Redis como Banco de Dados de Documentos, primário, com toda a durabilidade e confiabilidade que esperam de um Banco de Dados Enterprise.\n",
        "`\n",
        "\n",
        "Espero que gostem! 🖖"
      ],
      "metadata": {
        "id": "4qTOaeeMjwzo"
      }
    },
    {
      "cell_type": "markdown",
      "source": [
        "## Setup Rápido - e testes pra ver se tá tudo redondo antes de iniciar o lab"
      ],
      "metadata": {
        "id": "Px9l1ToXAD90"
      }
    },
    {
      "cell_type": "code",
      "execution_count": null,
      "metadata": {
        "id": "maAiICvM-cTX",
        "outputId": "d781bccb-8fc5-4540-c5d4-7b922fa4c7c3",
        "colab": {
          "base_uri": "https://localhost:8080/"
        }
      },
      "outputs": [
        {
          "output_type": "stream",
          "name": "stdout",
          "text": [
            "\u001b[2K     \u001b[90m━━━━━━━━━━━━━━━━━━━━━━━━━━━━━━━━━━━━━━━━\u001b[0m \u001b[32m252.0/252.0 kB\u001b[0m \u001b[31m4.7 MB/s\u001b[0m eta \u001b[36m0:00:00\u001b[0m\n",
            "Get:1 https://cloud.r-project.org/bin/linux/ubuntu jammy-cran40/ InRelease [3,626 B]\n",
            "Hit:2 https://developer.download.nvidia.com/compute/cuda/repos/ubuntu2204/x86_64  InRelease\n",
            "Get:3 http://security.ubuntu.com/ubuntu jammy-security InRelease [110 kB]\n",
            "Hit:4 http://archive.ubuntu.com/ubuntu jammy InRelease\n",
            "Get:5 http://archive.ubuntu.com/ubuntu jammy-updates InRelease [119 kB]\n",
            "Hit:6 http://archive.ubuntu.com/ubuntu jammy-backports InRelease\n",
            "Hit:7 https://ppa.launchpadcontent.net/c2d4u.team/c2d4u4.0+/ubuntu jammy InRelease\n",
            "Get:8 http://archive.ubuntu.com/ubuntu jammy-updates/universe amd64 Packages [1,375 kB]\n",
            "Hit:9 https://ppa.launchpadcontent.net/deadsnakes/ppa/ubuntu jammy InRelease\n",
            "Hit:10 https://ppa.launchpadcontent.net/graphics-drivers/ppa/ubuntu jammy InRelease\n",
            "Get:11 http://archive.ubuntu.com/ubuntu jammy-updates/main amd64 Packages [2,125 kB]\n",
            "Hit:12 https://ppa.launchpadcontent.net/ubuntugis/ppa/ubuntu jammy InRelease\n",
            "Fetched 3,733 kB in 1s (2,545 kB/s)\n",
            "Reading package lists... Done\n",
            "Reading package lists... Done\n",
            "Building dependency tree... Done\n",
            "Reading state information... Done\n",
            "The following additional packages will be installed:\n",
            "  libjemalloc2 liblua5.1-0 liblzf1 lua-bitop lua-cjson\n",
            "Suggested packages:\n",
            "  ruby-redis\n",
            "The following NEW packages will be installed:\n",
            "  libjemalloc2 liblua5.1-0 liblzf1 lua-bitop lua-cjson redis-tools\n",
            "0 upgraded, 6 newly installed, 0 to remove and 45 not upgraded.\n",
            "Need to get 1,227 kB of archives.\n",
            "After this operation, 5,530 kB of additional disk space will be used.\n",
            "Get:1 http://archive.ubuntu.com/ubuntu jammy/universe amd64 libjemalloc2 amd64 5.2.1-4ubuntu1 [240 kB]\n",
            "Get:2 http://archive.ubuntu.com/ubuntu jammy/universe amd64 liblua5.1-0 amd64 5.1.5-8.1build4 [99.9 kB]\n",
            "Get:3 http://archive.ubuntu.com/ubuntu jammy/universe amd64 liblzf1 amd64 3.6-3 [7,444 B]\n",
            "Get:4 http://archive.ubuntu.com/ubuntu jammy/universe amd64 lua-bitop amd64 1.0.2-5 [6,680 B]\n",
            "Get:5 http://archive.ubuntu.com/ubuntu jammy/universe amd64 lua-cjson amd64 2.1.0+dfsg-2.1 [17.4 kB]\n",
            "Get:6 http://archive.ubuntu.com/ubuntu jammy/universe amd64 redis-tools amd64 5:6.0.16-1ubuntu1 [856 kB]\n",
            "Fetched 1,227 kB in 2s (531 kB/s)\n",
            "Selecting previously unselected package libjemalloc2:amd64.\n",
            "(Reading database ... 121918 files and directories currently installed.)\n",
            "Preparing to unpack .../0-libjemalloc2_5.2.1-4ubuntu1_amd64.deb ...\n",
            "Unpacking libjemalloc2:amd64 (5.2.1-4ubuntu1) ...\n",
            "Selecting previously unselected package liblua5.1-0:amd64.\n",
            "Preparing to unpack .../1-liblua5.1-0_5.1.5-8.1build4_amd64.deb ...\n",
            "Unpacking liblua5.1-0:amd64 (5.1.5-8.1build4) ...\n",
            "Selecting previously unselected package liblzf1:amd64.\n",
            "Preparing to unpack .../2-liblzf1_3.6-3_amd64.deb ...\n",
            "Unpacking liblzf1:amd64 (3.6-3) ...\n",
            "Selecting previously unselected package lua-bitop:amd64.\n",
            "Preparing to unpack .../3-lua-bitop_1.0.2-5_amd64.deb ...\n",
            "Unpacking lua-bitop:amd64 (1.0.2-5) ...\n",
            "Selecting previously unselected package lua-cjson:amd64.\n",
            "Preparing to unpack .../4-lua-cjson_2.1.0+dfsg-2.1_amd64.deb ...\n",
            "Unpacking lua-cjson:amd64 (2.1.0+dfsg-2.1) ...\n",
            "Selecting previously unselected package redis-tools.\n",
            "Preparing to unpack .../5-redis-tools_5%3a6.0.16-1ubuntu1_amd64.deb ...\n",
            "Unpacking redis-tools (5:6.0.16-1ubuntu1) ...\n",
            "Setting up libjemalloc2:amd64 (5.2.1-4ubuntu1) ...\n",
            "Setting up lua-cjson:amd64 (2.1.0+dfsg-2.1) ...\n",
            "Setting up liblzf1:amd64 (3.6-3) ...\n",
            "Setting up lua-bitop:amd64 (1.0.2-5) ...\n",
            "Setting up liblua5.1-0:amd64 (5.1.5-8.1build4) ...\n",
            "Setting up redis-tools (5:6.0.16-1ubuntu1) ...\n",
            "Processing triggers for man-db (2.10.2-1) ...\n",
            "Processing triggers for libc-bin (2.35-0ubuntu3.4) ...\n",
            "/sbin/ldconfig.real: /usr/local/lib/libtbb.so.12 is not a symbolic link\n",
            "\n",
            "/sbin/ldconfig.real: /usr/local/lib/libtbbmalloc_proxy.so.2 is not a symbolic link\n",
            "\n",
            "/sbin/ldconfig.real: /usr/local/lib/libtbbbind_2_5.so.3 is not a symbolic link\n",
            "\n",
            "/sbin/ldconfig.real: /usr/local/lib/libtbbbind_2_0.so.3 is not a symbolic link\n",
            "\n",
            "/sbin/ldconfig.real: /usr/local/lib/libtbbbind.so.3 is not a symbolic link\n",
            "\n",
            "/sbin/ldconfig.real: /usr/local/lib/libtbbmalloc.so.2 is not a symbolic link\n",
            "\n"
          ]
        }
      ],
      "source": [
        "# Vamos instalar a lib do redis escolhida para o teste\n",
        "!pip install -q redis\n",
        "\n",
        "# E instalar a CLI, via redis-tools, que inclui a famosa redis-cli\n",
        "!apt-get update\n",
        "!apt-get install -y redis-tools"
      ]
    },
    {
      "cell_type": "markdown",
      "source": [
        "#### Configurando e testando a conexão com o seu Redis Cloud\n",
        "\n",
        "Coloque o endpoint host, port, e as credenciais pertinentes ao seu setup.\n",
        "\n",
        "Vou deixar o meu DB mesmo aqui, como referência."
      ],
      "metadata": {
        "id": "3_JImFuHlQmb"
      }
    },
    {
      "cell_type": "code",
      "execution_count": null,
      "metadata": {
        "id": "x47s7mlR_zYB",
        "colab": {
          "base_uri": "https://localhost:8080/"
        },
        "outputId": "b59cb722-4ed8-4120-94cf-211c5566d73f"
      },
      "outputs": [
        {
          "output_type": "stream",
          "name": "stdout",
          "text": [
            "PONG\n"
          ]
        }
      ],
      "source": [
        "# Testando a redis-cli\n",
        "import os\n",
        "\n",
        "# Coloque aqui os dados do seu DB do Redis Cloud\n",
        "REDIS_HOST=\"redis-19581.c308.sa-east-1-1.ec2.redns.redis-cloud.com\"\n",
        "REDIS_PORT=19581\n",
        "REDIS_PASSWORD=\"nhtuquVSLbh2kUt2I86z5QwGu3KrcaYx\"\n",
        "\n",
        "# Caso o SSL esteja ativo pro endpoint, adicione --tls\n",
        "# Recomendo não misturar lé com cré aqui, visto que não vamos ter nenhuma informação sensível passando pelo fio.\n",
        "if REDIS_PASSWORD!=\"\":\n",
        "  os.environ[\"REDIS_CONN\"]=f\"-h {REDIS_HOST} -p {REDIS_PORT} -a {REDIS_PASSWORD} --no-auth-warning\"\n",
        "else:\n",
        "  os.environ[\"REDIS_CONN\"]=f\"-h {REDIS_HOST} -p {REDIS_PORT}\"\n",
        "\n",
        "# If SSL is enabled on the endpoint, use rediss:// as the URL prefix\n",
        "REDIS_URL = f\"redis://:{REDIS_PASSWORD}@{REDIS_HOST}:{REDIS_PORT}\"\n",
        "INDEX_NAME = f\"qna:idx\"\n",
        "\n",
        "# Test Redis connection\n",
        "!redis-cli $REDIS_CONN PING"
      ]
    },
    {
      "cell_type": "code",
      "execution_count": null,
      "metadata": {
        "colab": {
          "base_uri": "https://localhost:8080/"
        },
        "id": "DbKb8mnWQO-5",
        "outputId": "cf49153b-ff27-4ffc-f4d1-13c04e8fc826"
      },
      "outputs": [
        {
          "output_type": "execute_result",
          "data": {
            "text/plain": [
              "True"
            ]
          },
          "metadata": {},
          "execution_count": 5
        }
      ],
      "source": [
        "# Testando via Python (redis-py)\n",
        "import redis\n",
        "r = redis.Redis(\n",
        "  host=REDIS_HOST,\n",
        "  port=REDIS_PORT,\n",
        "  password=REDIS_PASSWORD)\n",
        "r.ping()"
      ]
    },
    {
      "cell_type": "markdown",
      "source": [
        "# Hashes e JSON - Dois velhos amigos\n",
        "\n",
        "**No Redis, Hashes e JSON são tipos de dados nativamente suportados que oferecem estruturas eficientes para armazenar e manipular informações complexas.**\n",
        "\n",
        "Um `Hash` no Redis é uma coleção de pares de campo-valor, semelhante a uma tabela de hash em outras linguagens de programação. Eu imagino ele como um mini redis, ou como um \"JSON FLAT\".\\\n",
        "Ideal para representar objetos com vários atributos, como um usuário com campos como nome, email e idade, Hashes são otimizados para operações rápidas de leitura e escrita, permitindo que cada campo dentro do hash seja acessado e modificado individualmente sem a necessidade de alterar toda a estrutura.\n",
        "\n",
        "O JSON também é um data type nativo para o Redis. Nele, a utilização do tipo de dado JSON permite armazenar objetos completos e realizar consultas complexas diretamente na estrutura JSON armazenada. Isso é especialmente útil para aplicações que lidam com dados hierárquicos ou aninhados, como configurações de aplicativos, documentos ou dados de resposta de APIs, proporcionando uma maneira natural e flexível de gerenciar dados complexos dentro do Redis.\\\n",
        "Naturalmente, você pode manipular partes específicas do JSON, como vamos ver durante o Workshop.\n",
        "\n",
        "\n",
        "## Redis Hash\n",
        "\n",
        "No Redis, `Hashes` são coleções de pares de campo-valor, semelhantes a um `dicionário` em Python ou um `Map` em Java.\n",
        "\n",
        "Eles são ideais para representar objetos com vários atributos, como um usuário com campos como nome, email e idade. Hashes são otimizados para operações rápidas de leitura e escrita, permitindo que cada campo dentro do hash seja acessado e modificado individualmente sem a necessidade de alterar toda a estrutura.\n",
        "\n",
        "### Hands-on: Exercícios com Hashes no Redis\n",
        "\n",
        "Vamos começar com alguns exemplos e comandos para praticar o uso de Hashes no Redis. Você pode executar esses comandos tanto no notebook quanto no Redis Insight.\n",
        "\n",
        "#### Criar e manipular um Hash\n",
        "\n",
        "**HSET:** Salva variáveis como campos em um hash no Redis.\n",
        "\n",
        "\n",
        "```\n",
        "# Execute no Redis Insights\n",
        "HSET mvp:1 name \"Ayrton\" last_name \"Senna\" email \"senninha@f1.io\" age 34\n",
        "```\n",
        "\n",
        "\n",
        "\n"
      ],
      "metadata": {
        "id": "arosv6wAmV1P"
      }
    },
    {
      "cell_type": "code",
      "source": [
        "# Crie outro MVP utilizando o redis-cli por aqui mesmo:\n",
        "!redis-cli $REDIS_CONN HSET mvp:2 name \"Edson\" last_name \"Arantes do Nascimento\" apelido \"Pelé\" email \"pele@santosfc.com\" age 82"
      ],
      "metadata": {
        "id": "jRZ3JNnPt0qQ",
        "outputId": "0d5c60d7-87bd-4a69-aa57-9389d35b7821",
        "colab": {
          "base_uri": "https://localhost:8080/"
        }
      },
      "execution_count": 7,
      "outputs": [
        {
          "output_type": "stream",
          "name": "stdout",
          "text": [
            "(integer) 5\n"
          ]
        }
      ]
    },
    {
      "cell_type": "markdown",
      "metadata": {
        "id": "x1V1E2Nmjva4"
      },
      "source": [
        "## RedisJSON\n",
        "\n",
        "**RedisJSON** adiciona o tipo de dado **JSON** ao Redis para que você possa trabalhar com dados JSON **nativamente** no Redis, sem tratar o JSON inteiro como uma grande string e constantemente serializar/desserializar JSON no cliente.\n",
        "\n",
        "Isso também significa que eu estou criando um **modelo/schema**. Os campos do JSON são tipados e possuem metacaracterísticas que vão ajudar muito vocês na hora de buscar dados no Redis. Buscas multi-facetadas, de vetor, de geolocalização, com filtros e transoformações que ocorrerão do lado do Redis, evitando multiplos round trips para o backend.\n",
        "\n",
        "*Em outras palavras, você tira o que quer do Redis indo só uma vez até ele, inclusive filtrando exatamente o que você quer que passe pelo fio até sua aplicação.*\n",
        "\n",
        "\n",
        "-----\n",
        "\n",
        "\n",
        "Com uma biblioteca cliente como Python, você pode usar comandos como `redis.json().get()` e `redis.json().set()`, e no Redis CLI, JSON.GET, JSON.SET entre outros.\n",
        "\n",
        "Eu, particularmente, prefiro usar as bibliotecas de Object Mapping, como a [REDISOM](https://redis.io/docs/latest/integrate/redisom-for-python/).\n",
        "\n",
        "-----\n",
        "\n",
        "Veja a lista completa de comandos do RedisJSON aqui: https://redis.io/commands/?group=json\n",
        "\n",
        "Documentação Python: https://redis-py.readthedocs.io/en/stable/redismodules.html#redisjson-commands\n"
      ]
    },
    {
      "cell_type": "code",
      "execution_count": null,
      "metadata": {
        "id": "dMtz_Ak7VOTk"
      },
      "outputs": [],
      "source": [
        "schools = [\n",
        "    {\n",
        "        \"name\": \"Colégio Bandeirantes\",\n",
        "        \"description\": \"Abrangendo 10 estados, o currículo premiado desta escola inclui um sistema de leitura abrangente (do reconhecimento de letras e fonética à leitura de livros completos), além de matemática, ciências, estudos sociais e até filosofia.\",\n",
        "        \"class\": \"independente\",\n",
        "        \"type\": [\"tradicional\"],\n",
        "        \"address\": {\"city\": \"São Paulo\", \"street\": \"Rua Estela\"},\n",
        "        \"students\": 342,\n",
        "        \"location\": \"-46.633308,-23.550520\",\n",
        "        \"status_log\": [\"novo\", \"em operação\"],\n",
        "        \"teachers\": [\n",
        "            {\n",
        "                \"name\": \"Ana Silva\",\n",
        "                \"subjects\": [\"Matemática\", \"Física\"]\n",
        "            },\n",
        "            {\n",
        "                \"name\": \"Carlos Souza\",\n",
        "                \"subjects\": [\"História\", \"Geografia\"]\n",
        "            }\n",
        "        ],\n",
        "        \"tags\": \"excelência acadêmica, tecnologia, inovação, java\"\n",
        "    },\n",
        "    {\n",
        "        \"name\": \"Escola Maria Imaculada\",\n",
        "        \"description\": \"A Garden School é uma nova e inovadora experiência de ensino e aprendizado ao ar livre, oferecendo atividades ricas e variadas em um ambiente natural para crianças e famílias.\",\n",
        "        \"class\": \"estadual\",\n",
        "        \"type\": [\"floresta\", \"montessori\"],\n",
        "        \"address\": {\"city\": \"São Paulo\", \"street\": \"Avenida Vicente Rao\"},\n",
        "        \"students\": 1452,\n",
        "        \"location\": \"-46.699687,-23.621993\",\n",
        "        \"status_log\": [\"novo\", \"em operação\"],\n",
        "        \"teachers\": [\n",
        "            {\n",
        "                \"name\": \"Mariana Costa\",\n",
        "                \"subjects\": [\"Biologia\", \"Química\"]\n",
        "            },\n",
        "            {\n",
        "                \"name\": \"Rafael Lima\",\n",
        "                \"subjects\": [\"Português\", \"Literatura\"]\n",
        "            }\n",
        "        ],\n",
        "        \"tags\": \"educação ao ar livre, inovação, sustentabilidade\"\n",
        "    },\n",
        "    {\n",
        "        \"name\": \"Colégio São Luís\",\n",
        "        \"description\": \"A Gillford School é um centro de aprendizado inclusivo que acolhe pessoas de todos os estilos de vida, convidando-as a assumir seu papel como agentes regenerativos, criando novos caminhos para o futuro e incitando um movimento internacional de transformação cultural, territorial e social.\",\n",
        "        \"class\": \"privada\",\n",
        "        \"type\": [\"democrática\", \"waldorf\"],\n",
        "        \"address\": {\"city\": \"Rio de Janeiro\", \"street\": \"Rua Haddock Lobo\"},\n",
        "        \"students\": 721,\n",
        "        \"location\": \"-46.660213,-23.558704\",\n",
        "        \"status_log\": [\"novo\", \"em operação\", \"fechada\"],\n",
        "        \"teachers\": [\n",
        "            {\n",
        "                \"name\": \"Beatriz Mendes\",\n",
        "                \"subjects\": [\"Filosofia\", \"Sociologia\"]\n",
        "            },\n",
        "            {\n",
        "                \"name\": \"Fernando Almeida\",\n",
        "                \"subjects\": [\"Artes\", \"Educação Física\"]\n",
        "            }\n",
        "        ],\n",
        "        \"tags\": \"inclusão, transformação social, interdisciplinaridade\"\n",
        "    },\n",
        "    {\n",
        "        \"name\": \"Escola Sesc de Ensino\",\n",
        "        \"description\": \"A filosofia por trás da Forest School baseia-se no desejo de proporcionar às crianças pequenas uma educação que incentive a apreciação do mundo amplo na natureza, enquanto alcançam independência, confiança e alta autoestima.\",\n",
        "        \"class\": \"independente\",\n",
        "        \"type\": [\"floresta\", \"montessori\", \"democrática\"],\n",
        "        \"address\": {\"city\": \"Rio de Janeiro\", \"street\": \"Rua Jacarepaguá\"},\n",
        "        \"students\": 1000,\n",
        "        \"location\": \"-43.375162,-22.972250\",\n",
        "        \"status_log\": [\"novo\", \"em operação\"],\n",
        "        \"teachers\": [\n",
        "            {\n",
        "                \"name\": \"Luciana Oliveira\",\n",
        "                \"subjects\": [\"Ciências\", \"Matemática\"]\n",
        "            },\n",
        "            {\n",
        "                \"name\": \"Paulo Santos\",\n",
        "                \"subjects\": [\"História\", \"Geografia\"]\n",
        "            }\n",
        "        ],\n",
        "        \"tags\": \"natureza, independência, confiança\"\n",
        "    },\n",
        "    {\n",
        "        \"name\": \"Colégio Móbile - Perfeito\",\n",
        "        \"description\": \"A Escola Móbile oferece um programa acadêmico rigoroso combinado com foco em pensamento crítico e criatividade, preparando os alunos para o ensino superior e além.\",\n",
        "        \"class\": \"privada\",\n",
        "        \"type\": [\"tradicional\"],\n",
        "        \"address\": {\"city\": \"Curitiba\", \"street\": \"Rua Cotovia\"},\n",
        "        \"students\": 600,\n",
        "        \"location\": \"-46.676201,-23.592920\",\n",
        "        \"status_log\": [\"novo\", \"em operação\"],\n",
        "        \"teachers\": [\n",
        "            {\n",
        "                \"name\": \"Juliana Pereira\",\n",
        "                \"subjects\": [\"Química\", \"Biologia\"]\n",
        "            },\n",
        "            {\n",
        "                \"name\": \"Ricardo Fernandes\",\n",
        "                \"subjects\": [\"Português\", \"Inglês\"]\n",
        "            }\n",
        "        ],\n",
        "        \"tags\": \"rigor acadêmico, pensamento crítico, criatividade\"\n",
        "    },\n",
        "    {\n",
        "        \"name\": \"Colégio Santa Cruz\",\n",
        "        \"description\": \"O Colégio Santa Cruz é conhecido por seu forte desempenho acadêmico e compromisso com a responsabilidade social, promovendo um senso de comunidade entre os alunos.\",\n",
        "        \"class\": \"privada\",\n",
        "        \"type\": [\"tradicional\", \"religiosa\"],\n",
        "        \"address\": {\"city\": \"Belo Horizonte\", \"street\": \"Rua Orobó\"},\n",
        "        \"students\": 300,\n",
        "        \"location\": \"-46.712750,-23.547680\",\n",
        "        \"status_log\": [\"novo\", \"em operação\"],\n",
        "        \"teachers\": [\n",
        "            {\n",
        "                \"name\": \"Gabriela Rocha\",\n",
        "                \"subjects\": [\"Religião\", \"Filosofia\"]\n",
        "            },\n",
        "            {\n",
        "                \"name\": \"Eduardo Matos\",\n",
        "                \"subjects\": [\"Educação Física\", \"Ciências\"]\n",
        "            }\n",
        "        ],\n",
        "        \"tags\": \"desempenho acadêmico, responsabilidade social, comunidade\"\n",
        "    },\n",
        "    {\n",
        "        \"name\": \"Colégio Rio Branco\",\n",
        "        \"description\": \"O Colégio Rio Branco oferece um currículo diversificado com forte ênfase em línguas, artes e ciências, preparando os alunos para a cidadania global.\",\n",
        "        \"class\": \"privada\",\n",
        "        \"type\": [\"internacional\"],\n",
        "        \"address\": {\"city\": \"São Paulo\", \"street\": \"Rua Alves Guimarães\"},\n",
        "        \"students\": 50,\n",
        "        \"location\": \"-46.670912,-23.555451\",\n",
        "        \"status_log\": [\"novo\", \"em operação\"],\n",
        "        \"teachers\": [\n",
        "            {\n",
        "                \"name\": \"Marcelo Andrade\",\n",
        "                \"subjects\": [\"Inglês\", \"Espanhol\"]\n",
        "            },\n",
        "            {\n",
        "                \"name\": \"Sofia Ribeiro\",\n",
        "                \"subjects\": [\"Artes\", \"História\"]\n",
        "            }\n",
        "        ],\n",
        "        \"tags\": \"línguas, artes, cidadania global, java\"\n",
        "    }\n",
        "]\n",
        "\n",
        "\n",
        "\n",
        "# carregar os dados do Redis... algumas escolas do Brasilzão\n",
        "for id, school in enumerate(schools):\n",
        "    #print(school)\n",
        "    r.json().set(f\"school_json:{id}\", '.', school)"
      ]
    },
    {
      "cell_type": "code",
      "execution_count": null,
      "metadata": {
        "colab": {
          "base_uri": "https://localhost:8080/"
        },
        "id": "5NtYQYlPXCIO",
        "outputId": "5e01eb4e-282b-44b1-80d5-1537fd4ed682"
      },
      "outputs": [
        {
          "output_type": "stream",
          "name": "stdout",
          "text": [
            "\"[{\\\"name\\\":\\\"Escola Maria Imaculada\\\",\\\"description\\\":\\\"A Garden School \\xc3\\xa9 uma nova e inovadora experi\\xc3\\xaancia de ensino e aprendizado ao ar livre, oferecendo atividades ricas e variadas em um ambiente natural para crian\\xc3\\xa7as e fam\\xc3\\xadlias.\\\",\\\"class\\\":\\\"estadual\\\",\\\"type\\\":[\\\"floresta\\\",\\\"montessori\\\"],\\\"address\\\":{\\\"city\\\":\\\"S\\xc3\\xa3o Paulo\\\",\\\"street\\\":\\\"Avenida Vicente Rao\\\"},\\\"students\\\":1452,\\\"location\\\":\\\"-46.699687,-23.621993\\\",\\\"status_log\\\":[\\\"novo\\\",\\\"em opera\\xc3\\xa7\\xc3\\xa3o\\\"],\\\"teachers\\\":[{\\\"name\\\":\\\"Mariana Costa\\\",\\\"subjects\\\":[\\\"Biologia\\\",\\\"Qu\\xc3\\xadmica\\\"]},{\\\"name\\\":\\\"Rafael Lima\\\",\\\"subjects\\\":[\\\"Portugu\\xc3\\xaas\\\",\\\"Literatura\\\"]}],\\\"tags\\\":\\\"educa\\xc3\\xa7\\xc3\\xa3o ao ar livre, inova\\xc3\\xa7\\xc3\\xa3o, sustentabilidade\\\"}]\"\n",
            "1) \"school_json:4\"\n",
            "2) \"school_json:3\"\n",
            "3) \"school_json:5\"\n",
            "4) \"school_json:0\"\n",
            "5) \"school_json:1\"\n",
            "6) \"school_json:6\"\n",
            "7) \"school_json:2\"\n"
          ]
        }
      ],
      "source": [
        "!redis-cli $REDIS_CONN JSON.GET school_json:1 $\n",
        "!redis-cli $REDIS_CONN keys 'school_json:*'"
      ]
    },
    {
      "cell_type": "code",
      "execution_count": null,
      "metadata": {
        "colab": {
          "base_uri": "https://localhost:8080/"
        },
        "id": "TaXmD2TFap-t",
        "outputId": "469774be-5e66-4d43-b64e-dccb1f785d21"
      },
      "outputs": [
        {
          "output_type": "stream",
          "name": "stdout",
          "text": [
            "[{'name': 'Colégio Bandeirantes', 'description': 'Abrangendo 10 estados, o currículo premiado desta escola inclui um sistema de leitura abrangente (do reconhecimento de letras e fonética à leitura de livros completos), além de matemática, ciências, estudos sociais e até filosofia.', 'class': 'independente', 'type': ['tradicional'], 'address': {'city': 'São Paulo', 'street': 'Rua Estela'}, 'students': 342, 'location': '-46.633308,-23.550520', 'status_log': ['novo', 'em operação'], 'teachers': [{'name': 'Ana Silva', 'subjects': ['Matemática', 'Física']}, {'name': 'Carlos Souza', 'subjects': ['História', 'Geografia']}], 'tags': 'excelência acadêmica, tecnologia, inovação, java'}]\n"
          ]
        }
      ],
      "source": [
        "# Pegue um JSON direto, desde a raiz com $\n",
        "res=r.json().get('school_json:0','$')\n",
        "print(res)\n"
      ]
    },
    {
      "cell_type": "code",
      "execution_count": null,
      "metadata": {
        "colab": {
          "base_uri": "https://localhost:8080/"
        },
        "id": "PUfj0epdWGbz",
        "outputId": "6a531c8b-7863-4dff-e6af-1b8f5d0d04b6"
      },
      "outputs": [
        {
          "output_type": "stream",
          "name": "stdout",
          "text": [
            "['Colégio Bandeirantes']\n",
            "[{'city': 'São Paulo', 'street': 'Rua Estela'}]\n",
            "['novo']\n"
          ]
        }
      ],
      "source": [
        "# Retorne apenas a propriedade nome\n",
        "res=r.json().get('school_json:0','$.name')\n",
        "print(res)\n",
        "\n",
        "# Embedded object ($.address) - Um Address pertence a uma Escola - 1:1\n",
        "res=r.json().get('school_json:0','$.address')\n",
        "print(res)\n",
        "\n",
        "# E agora um elemento de um array\n",
        "res=r.json().get('school_json:0','$.status_log[0]')\n",
        "print(res)"
      ]
    },
    {
      "cell_type": "code",
      "execution_count": null,
      "metadata": {
        "colab": {
          "base_uri": "https://localhost:8080/"
        },
        "id": "u9kw-6QdbfpV",
        "outputId": "5e2f3b03-f8f5-4875-a267-9021a51d8463"
      },
      "outputs": [
        {
          "output_type": "stream",
          "name": "stdout",
          "text": [
            "[342]\n"
          ]
        },
        {
          "output_type": "execute_result",
          "data": {
            "text/plain": [
              "[350]"
            ]
          },
          "metadata": {},
          "execution_count": 470
        }
      ],
      "source": [
        "# Ler a quantidade de students de uma escola X. Neste caso, a primeira!\n",
        "students=r.json().get('school_json:0','$.students')\n",
        "print(students)\n",
        "\n",
        "# Mudar pra 350 alunos e refazer o mesmo comando.\n",
        "# sempre atomico, sempre O(1).\n",
        "r.json().set('school_json:0','$.students',350)\n",
        "r.json().get('school_json:0','$.students')"
      ]
    },
    {
      "cell_type": "code",
      "execution_count": null,
      "metadata": {
        "colab": {
          "base_uri": "https://localhost:8080/"
        },
        "id": "09i6hh4acIh_",
        "outputId": "32ac60a3-2709-4dd4-eb72-1f2091052cd0"
      },
      "outputs": [
        {
          "output_type": "execute_result",
          "data": {
            "text/plain": [
              "[351]"
            ]
          },
          "metadata": {},
          "execution_count": 416
        }
      ],
      "source": [
        "# Incremento atomico do numero de estudandes da escola-alvo... sempre O(1)\n",
        "# Pode clicar algumas vezes! O numincrby vai retornar o novo numero de Estudantes da Escola, assim como na CLI/API.\n",
        "r.json().numincrby('school_json:0','$.students',1)"
      ]
    },
    {
      "cell_type": "markdown",
      "metadata": {
        "id": "jpJW1d87lIJr"
      },
      "source": [
        "## RediSearch - Dando mais poderes para o que já é brabo\n",
        "\n",
        "**RediSearch** adiciona a capacidade de consultar dados nas suas estruturas de dados **HASH** ou **JSON**, **essencialmente transformando o Redis em um banco de dados de documentos.** Sim.\n",
        "\n",
        "Com o RediSearch, você declara índices uma vez e, em seguida, cada objeto de banco de dados que corresponder ao prefixo definido no índice será automaticamente e em tempo real adicionado ao índice.\n",
        "\n",
        "Naturalmente, o que já estiver no Redis será indexado também, a não ser que você não queira. Existem vários designs diferentes para esse tema, incluindo indices pequenos de com curto lifespan. Alguns clientes usam esse modelo para tornar a experiencia de um cliente mais fluida e com menor percepção de latência.\\\n",
        "*Por exemplo, você cria um determinado indice que só vai servir durante a jornada de um cliente logado, até o checkout, e depois vc manda o índice pro beleléu.*\n",
        "\n",
        "\n",
        "-----\n",
        "\n",
        "Para a lista completa de comandos do RediSearch, veja: https://redis.io/commands/?group=search\n",
        "\n",
        "Documentação Python: https://redis-py.readthedocs.io/en/stable/redismodules.html#redisearch-commands"
      ]
    },
    {
      "cell_type": "markdown",
      "source": [
        "### Configurando o Índice no Redis (com tudo, incluindo Geolocation)\n",
        "\n",
        "Vamos criar um **Index** no Redis. Vamos mostrar como configurar o Redis para tratar JSONs como objetos, considerando seus diferentes atributos e propriedades.\n",
        "\n",
        "Aqui, além de configurar campos de texto, tags e numéricos, vamos também configurar o campo de geolocalização.\n",
        "\n",
        "Vamos começar excluindo qualquer índice existente para evitar conflitos. Em seguida, criaremos um novo índice com um esquema completinho.\n",
        "\n",
        "---\n",
        "**Disclaimers:**\n",
        "\n",
        "Sobre o Geolocation, que veremos apenas lá no fim: Este campo permitirá consultas baseadas em coordenadas geográficas, como buscar escolas dentro de um determinado raio a partir de um ponto específico.\n",
        "\n",
        "*Este exemplo não inclui campos de vetor (Redis como um VectorDB) ainda, para manter o foco. Vamos explorar vetores em exercícios futuros.*\n",
        "\n",
        "---\n",
        "\n",
        "Então, vamos lá!"
      ],
      "metadata": {
        "id": "SdJs-gAsEXbF"
      }
    },
    {
      "cell_type": "code",
      "execution_count": null,
      "metadata": {
        "colab": {
          "base_uri": "https://localhost:8080/"
        },
        "id": "O_2g-lCadPsB",
        "outputId": "9d9246bf-8378-4292-8dd0-1d15b3c1d36e"
      },
      "outputs": [
        {
          "output_type": "execute_result",
          "data": {
            "text/plain": [
              "b'OK'"
            ]
          },
          "metadata": {},
          "execution_count": 471
        }
      ],
      "source": [
        "# Aqui eu quero trazer a sua atencao para o schema.\n",
        "# Notem como eu explico para o Redis como tratar o JSON como um objeto mesmo, considerando seus atributos/propriedades.\n",
        "# estamos apenas comecando! esse indice nem vetor (ainda, rsrs, vamos ver juntos em breve)\n",
        "# PORRÉM (leia na voz do Fausto Fanti) - AQUI, eu já vou parsear o campo de GEOLOCATION, como uma tupla de longitude,latitude\n",
        "\n",
        "from redis.commands.search.field import (\n",
        "    NumericField,\n",
        "    TagField,\n",
        "    TextField,\n",
        "    VectorField,\n",
        "    GeoField,\n",
        "\n",
        ")\n",
        "from redis.commands.search.indexDefinition import IndexDefinition, IndexType\n",
        "from redis.commands.search.query import Query\n",
        "\n",
        "# Excluir o índice se ele já existir\n",
        "try:\n",
        "    r.ft(\"idx:schools_json\").dropindex(delete_documents=False)\n",
        "except:\n",
        "    pass\n",
        "\n",
        "# E aqui criamos o index pra valer. Nem vou colocar vector e geoloc agora, pra gente nao confundir.\n",
        "schema = (\n",
        "    TextField(\"$.name\", as_name=\"name\"),\n",
        "    TextField(\"$.description\", as_name=\"description\"),\n",
        "    TagField(\"$.address.city\", as_name=\"city\"),\n",
        "    NumericField(\"$.students\", as_name=\"students\"),\n",
        "    TagField(\"$.tags\", as_name=\"tags\", separator=\",\"),\n",
        "    GeoField(\"$.location\", as_name=\"location\")\n",
        "    )\n",
        "r.ft(\"idx:schools_json\").create_index(schema,\n",
        "                    definition=IndexDefinition(prefix=[\"school_json:\"],\n",
        "                    index_type=IndexType.JSON)\n",
        "                    )"
      ]
    },
    {
      "cell_type": "markdown",
      "source": [
        "### Testando o Setup com uma Full-Text search\n",
        "\n",
        "Também existem tags para exact match, belê?\n",
        "\n",
        "\n",
        "Não quero te confundir agora, mas os casos de uso vão do básico até avançadíssimos, como você pode ver [aqui](https://redis.io/docs/latest/develop/interact/search-and-query/advanced-concepts/)."
      ],
      "metadata": {
        "id": "JM4PKek6YClt"
      }
    },
    {
      "cell_type": "code",
      "execution_count": null,
      "metadata": {
        "colab": {
          "base_uri": "https://localhost:8080/",
          "height": 81
        },
        "id": "PKMJeXfpe9Xp",
        "outputId": "c3d11710-1206-49b0-e539-f64cad5b0448"
      },
      "outputs": [
        {
          "output_type": "execute_result",
          "data": {
            "text/plain": [
              "              id payload                                               json\n",
              "0  school_json:1    None  {\"name\":\"Escola Maria Imaculada\",\"description\"..."
            ],
            "text/html": [
              "\n",
              "  <div id=\"df-d370d2a7-d0b5-42a9-9e6a-588e946e87a3\" class=\"colab-df-container\">\n",
              "    <div>\n",
              "<style scoped>\n",
              "    .dataframe tbody tr th:only-of-type {\n",
              "        vertical-align: middle;\n",
              "    }\n",
              "\n",
              "    .dataframe tbody tr th {\n",
              "        vertical-align: top;\n",
              "    }\n",
              "\n",
              "    .dataframe thead th {\n",
              "        text-align: right;\n",
              "    }\n",
              "</style>\n",
              "<table border=\"1\" class=\"dataframe\">\n",
              "  <thead>\n",
              "    <tr style=\"text-align: right;\">\n",
              "      <th></th>\n",
              "      <th>id</th>\n",
              "      <th>payload</th>\n",
              "      <th>json</th>\n",
              "    </tr>\n",
              "  </thead>\n",
              "  <tbody>\n",
              "    <tr>\n",
              "      <th>0</th>\n",
              "      <td>school_json:1</td>\n",
              "      <td>None</td>\n",
              "      <td>{\"name\":\"Escola Maria Imaculada\",\"description\"...</td>\n",
              "    </tr>\n",
              "  </tbody>\n",
              "</table>\n",
              "</div>\n",
              "    <div class=\"colab-df-buttons\">\n",
              "\n",
              "  <div class=\"colab-df-container\">\n",
              "    <button class=\"colab-df-convert\" onclick=\"convertToInteractive('df-d370d2a7-d0b5-42a9-9e6a-588e946e87a3')\"\n",
              "            title=\"Convert this dataframe to an interactive table.\"\n",
              "            style=\"display:none;\">\n",
              "\n",
              "  <svg xmlns=\"http://www.w3.org/2000/svg\" height=\"24px\" viewBox=\"0 -960 960 960\">\n",
              "    <path d=\"M120-120v-720h720v720H120Zm60-500h600v-160H180v160Zm220 220h160v-160H400v160Zm0 220h160v-160H400v160ZM180-400h160v-160H180v160Zm440 0h160v-160H620v160ZM180-180h160v-160H180v160Zm440 0h160v-160H620v160Z\"/>\n",
              "  </svg>\n",
              "    </button>\n",
              "\n",
              "  <style>\n",
              "    .colab-df-container {\n",
              "      display:flex;\n",
              "      gap: 12px;\n",
              "    }\n",
              "\n",
              "    .colab-df-convert {\n",
              "      background-color: #E8F0FE;\n",
              "      border: none;\n",
              "      border-radius: 50%;\n",
              "      cursor: pointer;\n",
              "      display: none;\n",
              "      fill: #1967D2;\n",
              "      height: 32px;\n",
              "      padding: 0 0 0 0;\n",
              "      width: 32px;\n",
              "    }\n",
              "\n",
              "    .colab-df-convert:hover {\n",
              "      background-color: #E2EBFA;\n",
              "      box-shadow: 0px 1px 2px rgba(60, 64, 67, 0.3), 0px 1px 3px 1px rgba(60, 64, 67, 0.15);\n",
              "      fill: #174EA6;\n",
              "    }\n",
              "\n",
              "    .colab-df-buttons div {\n",
              "      margin-bottom: 4px;\n",
              "    }\n",
              "\n",
              "    [theme=dark] .colab-df-convert {\n",
              "      background-color: #3B4455;\n",
              "      fill: #D2E3FC;\n",
              "    }\n",
              "\n",
              "    [theme=dark] .colab-df-convert:hover {\n",
              "      background-color: #434B5C;\n",
              "      box-shadow: 0px 1px 3px 1px rgba(0, 0, 0, 0.15);\n",
              "      filter: drop-shadow(0px 1px 2px rgba(0, 0, 0, 0.3));\n",
              "      fill: #FFFFFF;\n",
              "    }\n",
              "  </style>\n",
              "\n",
              "    <script>\n",
              "      const buttonEl =\n",
              "        document.querySelector('#df-d370d2a7-d0b5-42a9-9e6a-588e946e87a3 button.colab-df-convert');\n",
              "      buttonEl.style.display =\n",
              "        google.colab.kernel.accessAllowed ? 'block' : 'none';\n",
              "\n",
              "      async function convertToInteractive(key) {\n",
              "        const element = document.querySelector('#df-d370d2a7-d0b5-42a9-9e6a-588e946e87a3');\n",
              "        const dataTable =\n",
              "          await google.colab.kernel.invokeFunction('convertToInteractive',\n",
              "                                                    [key], {});\n",
              "        if (!dataTable) return;\n",
              "\n",
              "        const docLinkHtml = 'Like what you see? Visit the ' +\n",
              "          '<a target=\"_blank\" href=https://colab.research.google.com/notebooks/data_table.ipynb>data table notebook</a>'\n",
              "          + ' to learn more about interactive tables.';\n",
              "        element.innerHTML = '';\n",
              "        dataTable['output_type'] = 'display_data';\n",
              "        await google.colab.output.renderOutput(dataTable, element);\n",
              "        const docLink = document.createElement('div');\n",
              "        docLink.innerHTML = docLinkHtml;\n",
              "        element.appendChild(docLink);\n",
              "      }\n",
              "    </script>\n",
              "  </div>\n",
              "\n",
              "    </div>\n",
              "  </div>\n"
            ],
            "application/vnd.google.colaboratory.intrinsic+json": {
              "type": "dataframe",
              "variable_name": "res_df",
              "repr_error": "Out of range float values are not JSON compliant: nan"
            }
          },
          "metadata": {},
          "execution_count": 472
        }
      ],
      "source": [
        "import pandas as pd\n",
        "# Retorne o Documento inteiro! Aqui fizemos uma Full-Text Search por nature.\n",
        "res=r.ft(\"idx:schools_json\").search(\"nature\")\n",
        "res_df = pd.DataFrame([t.__dict__ for t in res.docs ])\n",
        "res_df"
      ]
    },
    {
      "cell_type": "code",
      "execution_count": null,
      "metadata": {
        "colab": {
          "base_uri": "https://localhost:8080/",
          "height": 81
        },
        "id": "OGKiSpQ-hUMp",
        "outputId": "13b77dec-2113-4992-c1d4-c000e2d54456"
      },
      "outputs": [
        {
          "output_type": "execute_result",
          "data": {
            "text/plain": [
              "              id payload       city                    name\n",
              "0  school_json:1    None  São Paulo  Escola Maria Imaculada"
            ],
            "text/html": [
              "\n",
              "  <div id=\"df-eaf8516e-3cd0-4975-867d-4649885f82e1\" class=\"colab-df-container\">\n",
              "    <div>\n",
              "<style scoped>\n",
              "    .dataframe tbody tr th:only-of-type {\n",
              "        vertical-align: middle;\n",
              "    }\n",
              "\n",
              "    .dataframe tbody tr th {\n",
              "        vertical-align: top;\n",
              "    }\n",
              "\n",
              "    .dataframe thead th {\n",
              "        text-align: right;\n",
              "    }\n",
              "</style>\n",
              "<table border=\"1\" class=\"dataframe\">\n",
              "  <thead>\n",
              "    <tr style=\"text-align: right;\">\n",
              "      <th></th>\n",
              "      <th>id</th>\n",
              "      <th>payload</th>\n",
              "      <th>city</th>\n",
              "      <th>name</th>\n",
              "    </tr>\n",
              "  </thead>\n",
              "  <tbody>\n",
              "    <tr>\n",
              "      <th>0</th>\n",
              "      <td>school_json:1</td>\n",
              "      <td>None</td>\n",
              "      <td>São Paulo</td>\n",
              "      <td>Escola Maria Imaculada</td>\n",
              "    </tr>\n",
              "  </tbody>\n",
              "</table>\n",
              "</div>\n",
              "    <div class=\"colab-df-buttons\">\n",
              "\n",
              "  <div class=\"colab-df-container\">\n",
              "    <button class=\"colab-df-convert\" onclick=\"convertToInteractive('df-eaf8516e-3cd0-4975-867d-4649885f82e1')\"\n",
              "            title=\"Convert this dataframe to an interactive table.\"\n",
              "            style=\"display:none;\">\n",
              "\n",
              "  <svg xmlns=\"http://www.w3.org/2000/svg\" height=\"24px\" viewBox=\"0 -960 960 960\">\n",
              "    <path d=\"M120-120v-720h720v720H120Zm60-500h600v-160H180v160Zm220 220h160v-160H400v160Zm0 220h160v-160H400v160ZM180-400h160v-160H180v160Zm440 0h160v-160H620v160ZM180-180h160v-160H180v160Zm440 0h160v-160H620v160Z\"/>\n",
              "  </svg>\n",
              "    </button>\n",
              "\n",
              "  <style>\n",
              "    .colab-df-container {\n",
              "      display:flex;\n",
              "      gap: 12px;\n",
              "    }\n",
              "\n",
              "    .colab-df-convert {\n",
              "      background-color: #E8F0FE;\n",
              "      border: none;\n",
              "      border-radius: 50%;\n",
              "      cursor: pointer;\n",
              "      display: none;\n",
              "      fill: #1967D2;\n",
              "      height: 32px;\n",
              "      padding: 0 0 0 0;\n",
              "      width: 32px;\n",
              "    }\n",
              "\n",
              "    .colab-df-convert:hover {\n",
              "      background-color: #E2EBFA;\n",
              "      box-shadow: 0px 1px 2px rgba(60, 64, 67, 0.3), 0px 1px 3px 1px rgba(60, 64, 67, 0.15);\n",
              "      fill: #174EA6;\n",
              "    }\n",
              "\n",
              "    .colab-df-buttons div {\n",
              "      margin-bottom: 4px;\n",
              "    }\n",
              "\n",
              "    [theme=dark] .colab-df-convert {\n",
              "      background-color: #3B4455;\n",
              "      fill: #D2E3FC;\n",
              "    }\n",
              "\n",
              "    [theme=dark] .colab-df-convert:hover {\n",
              "      background-color: #434B5C;\n",
              "      box-shadow: 0px 1px 3px 1px rgba(0, 0, 0, 0.15);\n",
              "      filter: drop-shadow(0px 1px 2px rgba(0, 0, 0, 0.3));\n",
              "      fill: #FFFFFF;\n",
              "    }\n",
              "  </style>\n",
              "\n",
              "    <script>\n",
              "      const buttonEl =\n",
              "        document.querySelector('#df-eaf8516e-3cd0-4975-867d-4649885f82e1 button.colab-df-convert');\n",
              "      buttonEl.style.display =\n",
              "        google.colab.kernel.accessAllowed ? 'block' : 'none';\n",
              "\n",
              "      async function convertToInteractive(key) {\n",
              "        const element = document.querySelector('#df-eaf8516e-3cd0-4975-867d-4649885f82e1');\n",
              "        const dataTable =\n",
              "          await google.colab.kernel.invokeFunction('convertToInteractive',\n",
              "                                                    [key], {});\n",
              "        if (!dataTable) return;\n",
              "\n",
              "        const docLinkHtml = 'Like what you see? Visit the ' +\n",
              "          '<a target=\"_blank\" href=https://colab.research.google.com/notebooks/data_table.ipynb>data table notebook</a>'\n",
              "          + ' to learn more about interactive tables.';\n",
              "        element.innerHTML = '';\n",
              "        dataTable['output_type'] = 'display_data';\n",
              "        await google.colab.output.renderOutput(dataTable, element);\n",
              "        const docLink = document.createElement('div');\n",
              "        docLink.innerHTML = docLinkHtml;\n",
              "        element.appendChild(docLink);\n",
              "      }\n",
              "    </script>\n",
              "  </div>\n",
              "\n",
              "    </div>\n",
              "  </div>\n"
            ],
            "application/vnd.google.colaboratory.intrinsic+json": {
              "type": "dataframe",
              "variable_name": "res_df",
              "repr_error": "Out of range float values are not JSON compliant: nan"
            }
          },
          "metadata": {},
          "execution_count": 473
        }
      ],
      "source": [
        "# Retorne apenas alguns campos, para evitar passar coisas e metadados desnecessários pelo fio, do Redis para sua App.\n",
        "query=Query(\"nature\") \\\n",
        "   .return_field(\"$.address.city\", as_field=\"city\") \\\n",
        "   .return_field(\"$.name\", as_field=\"name\")\n",
        "res=r.ft(\"idx:schools_json\").search(query)\n",
        "res_df = pd.DataFrame([t.__dict__ for t in res.docs ])\n",
        "res_df"
      ]
    },
    {
      "cell_type": "code",
      "execution_count": null,
      "metadata": {
        "colab": {
          "base_uri": "https://localhost:8080/",
          "height": 143
        },
        "id": "yMK3P7g5j7v5",
        "outputId": "ced07234-8607-4bbe-8dd2-333ff68f6d2f"
      },
      "outputs": [
        {
          "output_type": "execute_result",
          "data": {
            "text/plain": [
              "              id payload       city                    name students\n",
              "0  school_json:6    None  São Paulo      Colégio Rio Branco       50\n",
              "1  school_json:0    None  São Paulo    Colégio Bandeirantes      350\n",
              "2  school_json:1    None  São Paulo  Escola Maria Imaculada     1452"
            ],
            "text/html": [
              "\n",
              "  <div id=\"df-6985a875-ffaf-4e31-b6bf-e81fd05a2d85\" class=\"colab-df-container\">\n",
              "    <div>\n",
              "<style scoped>\n",
              "    .dataframe tbody tr th:only-of-type {\n",
              "        vertical-align: middle;\n",
              "    }\n",
              "\n",
              "    .dataframe tbody tr th {\n",
              "        vertical-align: top;\n",
              "    }\n",
              "\n",
              "    .dataframe thead th {\n",
              "        text-align: right;\n",
              "    }\n",
              "</style>\n",
              "<table border=\"1\" class=\"dataframe\">\n",
              "  <thead>\n",
              "    <tr style=\"text-align: right;\">\n",
              "      <th></th>\n",
              "      <th>id</th>\n",
              "      <th>payload</th>\n",
              "      <th>city</th>\n",
              "      <th>name</th>\n",
              "      <th>students</th>\n",
              "    </tr>\n",
              "  </thead>\n",
              "  <tbody>\n",
              "    <tr>\n",
              "      <th>0</th>\n",
              "      <td>school_json:6</td>\n",
              "      <td>None</td>\n",
              "      <td>São Paulo</td>\n",
              "      <td>Colégio Rio Branco</td>\n",
              "      <td>50</td>\n",
              "    </tr>\n",
              "    <tr>\n",
              "      <th>1</th>\n",
              "      <td>school_json:0</td>\n",
              "      <td>None</td>\n",
              "      <td>São Paulo</td>\n",
              "      <td>Colégio Bandeirantes</td>\n",
              "      <td>350</td>\n",
              "    </tr>\n",
              "    <tr>\n",
              "      <th>2</th>\n",
              "      <td>school_json:1</td>\n",
              "      <td>None</td>\n",
              "      <td>São Paulo</td>\n",
              "      <td>Escola Maria Imaculada</td>\n",
              "      <td>1452</td>\n",
              "    </tr>\n",
              "  </tbody>\n",
              "</table>\n",
              "</div>\n",
              "    <div class=\"colab-df-buttons\">\n",
              "\n",
              "  <div class=\"colab-df-container\">\n",
              "    <button class=\"colab-df-convert\" onclick=\"convertToInteractive('df-6985a875-ffaf-4e31-b6bf-e81fd05a2d85')\"\n",
              "            title=\"Convert this dataframe to an interactive table.\"\n",
              "            style=\"display:none;\">\n",
              "\n",
              "  <svg xmlns=\"http://www.w3.org/2000/svg\" height=\"24px\" viewBox=\"0 -960 960 960\">\n",
              "    <path d=\"M120-120v-720h720v720H120Zm60-500h600v-160H180v160Zm220 220h160v-160H400v160Zm0 220h160v-160H400v160ZM180-400h160v-160H180v160Zm440 0h160v-160H620v160ZM180-180h160v-160H180v160Zm440 0h160v-160H620v160Z\"/>\n",
              "  </svg>\n",
              "    </button>\n",
              "\n",
              "  <style>\n",
              "    .colab-df-container {\n",
              "      display:flex;\n",
              "      gap: 12px;\n",
              "    }\n",
              "\n",
              "    .colab-df-convert {\n",
              "      background-color: #E8F0FE;\n",
              "      border: none;\n",
              "      border-radius: 50%;\n",
              "      cursor: pointer;\n",
              "      display: none;\n",
              "      fill: #1967D2;\n",
              "      height: 32px;\n",
              "      padding: 0 0 0 0;\n",
              "      width: 32px;\n",
              "    }\n",
              "\n",
              "    .colab-df-convert:hover {\n",
              "      background-color: #E2EBFA;\n",
              "      box-shadow: 0px 1px 2px rgba(60, 64, 67, 0.3), 0px 1px 3px 1px rgba(60, 64, 67, 0.15);\n",
              "      fill: #174EA6;\n",
              "    }\n",
              "\n",
              "    .colab-df-buttons div {\n",
              "      margin-bottom: 4px;\n",
              "    }\n",
              "\n",
              "    [theme=dark] .colab-df-convert {\n",
              "      background-color: #3B4455;\n",
              "      fill: #D2E3FC;\n",
              "    }\n",
              "\n",
              "    [theme=dark] .colab-df-convert:hover {\n",
              "      background-color: #434B5C;\n",
              "      box-shadow: 0px 1px 3px 1px rgba(0, 0, 0, 0.15);\n",
              "      filter: drop-shadow(0px 1px 2px rgba(0, 0, 0, 0.3));\n",
              "      fill: #FFFFFF;\n",
              "    }\n",
              "  </style>\n",
              "\n",
              "    <script>\n",
              "      const buttonEl =\n",
              "        document.querySelector('#df-6985a875-ffaf-4e31-b6bf-e81fd05a2d85 button.colab-df-convert');\n",
              "      buttonEl.style.display =\n",
              "        google.colab.kernel.accessAllowed ? 'block' : 'none';\n",
              "\n",
              "      async function convertToInteractive(key) {\n",
              "        const element = document.querySelector('#df-6985a875-ffaf-4e31-b6bf-e81fd05a2d85');\n",
              "        const dataTable =\n",
              "          await google.colab.kernel.invokeFunction('convertToInteractive',\n",
              "                                                    [key], {});\n",
              "        if (!dataTable) return;\n",
              "\n",
              "        const docLinkHtml = 'Like what you see? Visit the ' +\n",
              "          '<a target=\"_blank\" href=https://colab.research.google.com/notebooks/data_table.ipynb>data table notebook</a>'\n",
              "          + ' to learn more about interactive tables.';\n",
              "        element.innerHTML = '';\n",
              "        dataTable['output_type'] = 'display_data';\n",
              "        await google.colab.output.renderOutput(dataTable, element);\n",
              "        const docLink = document.createElement('div');\n",
              "        docLink.innerHTML = docLinkHtml;\n",
              "        element.appendChild(docLink);\n",
              "      }\n",
              "    </script>\n",
              "  </div>\n",
              "\n",
              "\n",
              "<div id=\"df-f6f06887-046a-4e60-8e77-000073d68f94\">\n",
              "  <button class=\"colab-df-quickchart\" onclick=\"quickchart('df-f6f06887-046a-4e60-8e77-000073d68f94')\"\n",
              "            title=\"Suggest charts\"\n",
              "            style=\"display:none;\">\n",
              "\n",
              "<svg xmlns=\"http://www.w3.org/2000/svg\" height=\"24px\"viewBox=\"0 0 24 24\"\n",
              "     width=\"24px\">\n",
              "    <g>\n",
              "        <path d=\"M19 3H5c-1.1 0-2 .9-2 2v14c0 1.1.9 2 2 2h14c1.1 0 2-.9 2-2V5c0-1.1-.9-2-2-2zM9 17H7v-7h2v7zm4 0h-2V7h2v10zm4 0h-2v-4h2v4z\"/>\n",
              "    </g>\n",
              "</svg>\n",
              "  </button>\n",
              "\n",
              "<style>\n",
              "  .colab-df-quickchart {\n",
              "      --bg-color: #E8F0FE;\n",
              "      --fill-color: #1967D2;\n",
              "      --hover-bg-color: #E2EBFA;\n",
              "      --hover-fill-color: #174EA6;\n",
              "      --disabled-fill-color: #AAA;\n",
              "      --disabled-bg-color: #DDD;\n",
              "  }\n",
              "\n",
              "  [theme=dark] .colab-df-quickchart {\n",
              "      --bg-color: #3B4455;\n",
              "      --fill-color: #D2E3FC;\n",
              "      --hover-bg-color: #434B5C;\n",
              "      --hover-fill-color: #FFFFFF;\n",
              "      --disabled-bg-color: #3B4455;\n",
              "      --disabled-fill-color: #666;\n",
              "  }\n",
              "\n",
              "  .colab-df-quickchart {\n",
              "    background-color: var(--bg-color);\n",
              "    border: none;\n",
              "    border-radius: 50%;\n",
              "    cursor: pointer;\n",
              "    display: none;\n",
              "    fill: var(--fill-color);\n",
              "    height: 32px;\n",
              "    padding: 0;\n",
              "    width: 32px;\n",
              "  }\n",
              "\n",
              "  .colab-df-quickchart:hover {\n",
              "    background-color: var(--hover-bg-color);\n",
              "    box-shadow: 0 1px 2px rgba(60, 64, 67, 0.3), 0 1px 3px 1px rgba(60, 64, 67, 0.15);\n",
              "    fill: var(--button-hover-fill-color);\n",
              "  }\n",
              "\n",
              "  .colab-df-quickchart-complete:disabled,\n",
              "  .colab-df-quickchart-complete:disabled:hover {\n",
              "    background-color: var(--disabled-bg-color);\n",
              "    fill: var(--disabled-fill-color);\n",
              "    box-shadow: none;\n",
              "  }\n",
              "\n",
              "  .colab-df-spinner {\n",
              "    border: 2px solid var(--fill-color);\n",
              "    border-color: transparent;\n",
              "    border-bottom-color: var(--fill-color);\n",
              "    animation:\n",
              "      spin 1s steps(1) infinite;\n",
              "  }\n",
              "\n",
              "  @keyframes spin {\n",
              "    0% {\n",
              "      border-color: transparent;\n",
              "      border-bottom-color: var(--fill-color);\n",
              "      border-left-color: var(--fill-color);\n",
              "    }\n",
              "    20% {\n",
              "      border-color: transparent;\n",
              "      border-left-color: var(--fill-color);\n",
              "      border-top-color: var(--fill-color);\n",
              "    }\n",
              "    30% {\n",
              "      border-color: transparent;\n",
              "      border-left-color: var(--fill-color);\n",
              "      border-top-color: var(--fill-color);\n",
              "      border-right-color: var(--fill-color);\n",
              "    }\n",
              "    40% {\n",
              "      border-color: transparent;\n",
              "      border-right-color: var(--fill-color);\n",
              "      border-top-color: var(--fill-color);\n",
              "    }\n",
              "    60% {\n",
              "      border-color: transparent;\n",
              "      border-right-color: var(--fill-color);\n",
              "    }\n",
              "    80% {\n",
              "      border-color: transparent;\n",
              "      border-right-color: var(--fill-color);\n",
              "      border-bottom-color: var(--fill-color);\n",
              "    }\n",
              "    90% {\n",
              "      border-color: transparent;\n",
              "      border-bottom-color: var(--fill-color);\n",
              "    }\n",
              "  }\n",
              "</style>\n",
              "\n",
              "  <script>\n",
              "    async function quickchart(key) {\n",
              "      const quickchartButtonEl =\n",
              "        document.querySelector('#' + key + ' button');\n",
              "      quickchartButtonEl.disabled = true;  // To prevent multiple clicks.\n",
              "      quickchartButtonEl.classList.add('colab-df-spinner');\n",
              "      try {\n",
              "        const charts = await google.colab.kernel.invokeFunction(\n",
              "            'suggestCharts', [key], {});\n",
              "      } catch (error) {\n",
              "        console.error('Error during call to suggestCharts:', error);\n",
              "      }\n",
              "      quickchartButtonEl.classList.remove('colab-df-spinner');\n",
              "      quickchartButtonEl.classList.add('colab-df-quickchart-complete');\n",
              "    }\n",
              "    (() => {\n",
              "      let quickchartButtonEl =\n",
              "        document.querySelector('#df-f6f06887-046a-4e60-8e77-000073d68f94 button');\n",
              "      quickchartButtonEl.style.display =\n",
              "        google.colab.kernel.accessAllowed ? 'block' : 'none';\n",
              "    })();\n",
              "  </script>\n",
              "</div>\n",
              "    </div>\n",
              "  </div>\n"
            ],
            "application/vnd.google.colaboratory.intrinsic+json": {
              "type": "dataframe",
              "variable_name": "res_df",
              "repr_error": "Out of range float values are not JSON compliant: nan"
            }
          },
          "metadata": {},
          "execution_count": 474
        }
      ],
      "source": [
        "# Busca Multi-Field, um pouquinho mais complexa\n",
        "# Notem o uso de {} para exact match de tags\n",
        "# Notem tambem que estamos vendo que o Redis eh binary-safe...\n",
        "# A Cidade, sendo uma tag, casa certinho, considerando o 'ã' de São Paulo\n",
        "query=Query('@city:{São Paulo} @students:[0, 10000]') \\\n",
        "   .return_field(\"$.address.city\", as_field=\"city\") \\\n",
        "   .return_field(\"$.name\", as_field=\"name\") \\\n",
        "   .return_field(\"$.students\", as_field=\"students\")\n",
        "res=r.ft(\"idx:schools_json\").search(query)\n",
        "#print(res)\n",
        "res_df = pd.DataFrame([t.__dict__ for t in res.docs ])\n",
        "res_df\n"
      ]
    },
    {
      "cell_type": "markdown",
      "source": [
        "# Casos de uso poderosos e mais avançados\n",
        "(não são complexos, é tranquilo entender)"
      ],
      "metadata": {
        "id": "OprC45352A8O"
      }
    },
    {
      "cell_type": "markdown",
      "source": [
        "## Busca por Tags - Encontrando escolas com características específicas\n",
        "\n",
        "Nesta seção, vamos realizar buscas utilizando tags. Tags permitem buscas exatas em campos específicos."
      ],
      "metadata": {
        "id": "0NRkDCez9VqB"
      }
    },
    {
      "cell_type": "code",
      "source": [
        "# Busca por tags (mesmo que tenham wildcard) - binary safe - usando o melhor idioma do PLANETA: PT-BR\n",
        "query = Query('@tags:{inovaçã*}') \\\n",
        "    .return_field(\"$.address.city\", as_field=\"city\") \\\n",
        "    .return_field(\"$.name\", as_field=\"name\")\n",
        "res = r.ft(\"idx:schools_json\").search(query)\n",
        "res_df = pd.DataFrame([t.__dict__ for t in res.docs])\n",
        "print(res_df)"
      ],
      "metadata": {
        "colab": {
          "base_uri": "https://localhost:8080/"
        },
        "id": "XnyfIEdn9WXe",
        "outputId": "bafa15c9-0a29-4244-acc0-17b2acc5952c"
      },
      "execution_count": null,
      "outputs": [
        {
          "output_type": "stream",
          "name": "stdout",
          "text": [
            "              id payload       city                    name\n",
            "0  school_json:0    None  São Paulo    Colégio Bandeirantes\n",
            "1  school_json:1    None  São Paulo  Escola Maria Imaculada\n"
          ]
        }
      ]
    },
    {
      "cell_type": "markdown",
      "source": [
        "## Busca por Intervalo - Quantos alunos estão matriculados?\n",
        "\n",
        "Busca por intervalo é o que você vai encontrar na doc oficial como \"Range queries\"\n",
        "\n",
        "Para realizar buscas por intervalos em campos numéricos, como a quantidade de alunos em uma escola, podemos utilizar essas consultas de intervalo.\n",
        "\n",
        "**Não se assustem com `inf+` e `inf-`!**\\\n",
        "Esses termos são utilizados para representar o intervalo máximo e mínimo, respectivamente. inf+ significa infinito positivo (o valor mais alto possível) e inf- significa infinito negativo (o valor mais baixo possível). Eles são úteis quando você quer incluir todos os valores acima ou abaixo de um determinado limite."
      ],
      "metadata": {
        "id": "2J6QSmhu_kZg"
      }
    },
    {
      "cell_type": "code",
      "source": [
        "# Aqui, vamos realizar buscas baseadas em intervalos numéricos. Neste caso, a quantidade de alunos.\n",
        "# TODO - Colocar mais ranges e mudar as cidades\n",
        "\n",
        "# Busca por escolas com entre 300 e 1000 alunos (inclusivo)\n",
        "search = '@students:[300 1000]'\n",
        "query = Query(search) \\\n",
        "    .return_field(\"$.address.city\", as_field=\"city\") \\\n",
        "    .return_field(\"$.name\", as_field=\"name\") \\\n",
        "    .return_field(\"$.students\", as_field=\"students\")\n",
        "res = r.ft(\"idx:schools_json\").search(query)\n",
        "res_df = pd.DataFrame([t.__dict__ for t in res.docs])\n",
        "print(\"--------------------------------------------------------------------\")\n",
        "print(\"Escolas que têm entre 300 e 1000 estudantes (inclusive)\")\n",
        "print(\"Search: {0}\".format(search))\n",
        "print(\"\")\n",
        "print(res_df)\n",
        "print(\"--------------------------------------------------------------------\")\n",
        "\n",
        "# Busca por escolas com mais de 1000 alunos (exclusivo)\n",
        "# Note que o Escola Sesc de Ensino não vai aparecer, pois tem exatos 1000 alunos\n",
        "search = '@students:[(1000 +inf]'\n",
        "query = Query(search) \\\n",
        "    .return_field(\"$.address.city\", as_field=\"city\") \\\n",
        "    .return_field(\"$.name\", as_field=\"name\") \\\n",
        "    .return_field(\"$.students\", as_field=\"students\")\n",
        "res = r.ft(\"idx:schools_json\").search(query)\n",
        "res_df = pd.DataFrame([t.__dict__ for t in res.docs])\n",
        "print(\"--------------------------------------------------------------------\")\n",
        "print(\"Escolas que têm mais de 1000 estudantes (exclusive)\")\n",
        "print(\"Search: {0}\".format(search))\n",
        "print(\"Comment: Note que a Escola Sesc de Ensino não vai aparecer, pois tem exatos 1000 alunos\")\n",
        "print(\"\")\n",
        "print(res_df)\n",
        "print(\"--------------------------------------------------------------------\")\n",
        "\n",
        "\n",
        "# Busca por escolas com menos de 300 alunos (inclusivo)\n",
        "search = '@students:[-inf 300]'\n",
        "query = Query(search) \\\n",
        "    .return_field(\"$.address.city\", as_field=\"city\") \\\n",
        "    .return_field(\"$.name\", as_field=\"name\") \\\n",
        "    .return_field(\"$.students\", as_field=\"students\")\n",
        "res = r.ft(\"idx:schools_json\").search(query)\n",
        "res_df = pd.DataFrame([t.__dict__ for t in res.docs])\n",
        "print(\"--------------------------------------------------------------------\")\n",
        "print(\"Escolas que têm menos de 300 estudantes (inclusive)\")\n",
        "print(\"Search: {0}\".format(search))\n",
        "print(\"\")\n",
        "print(res_df)\n",
        "print(\"--------------------------------------------------------------------\")\n",
        "\n",
        "\n",
        "# Busca por escolas com menos de 300 alunos (exclusivo)\n",
        "search = '@students:[0 (300]'\n",
        "query = Query(search) \\\n",
        "    .return_field(\"$.address.city\", as_field=\"city\") \\\n",
        "    .return_field(\"$.name\", as_field=\"name\") \\\n",
        "    .return_field(\"$.students\", as_field=\"students\")\n",
        "res = r.ft(\"idx:schools_json\").search(query)\n",
        "res_df = pd.DataFrame([t.__dict__ for t in res.docs])\n",
        "print(\"--------------------------------------------------------------------\")\n",
        "print(\"Escolas que têm menos de 300 estudantes (exclusive)\")\n",
        "print(\"Search: {0}\".format(search))\n",
        "print(\"Comment: Note que o Colégio Santa Cruz não vai aparecer, pois tem exatos 300 alunos\")\n",
        "print(\"\")\n",
        "print(res_df)\n",
        "print(\"--------------------------------------------------------------------\")\n",
        "\n"
      ],
      "metadata": {
        "colab": {
          "base_uri": "https://localhost:8080/"
        },
        "id": "M7Rar-qOA3UT",
        "outputId": "d2339ae7-1b65-471b-fb40-fedaa2e2b04e"
      },
      "execution_count": null,
      "outputs": [
        {
          "output_type": "stream",
          "name": "stdout",
          "text": [
            "--------------------------------------------------------------------\n",
            "Escolas que têm entre 300 e 1000 estudantes (inclusive)\n",
            "Search: @students:[300 1000]\n",
            "\n",
            "              id payload            city                       name students\n",
            "0  school_json:3    None  Rio de Janeiro      Escola Sesc de Ensino     1000\n",
            "1  school_json:5    None  Belo Horizonte         Colégio Santa Cruz      300\n",
            "2  school_json:4    None        Curitiba  Colégio Móbile - Perfeito      600\n",
            "3  school_json:0    None       São Paulo       Colégio Bandeirantes      350\n",
            "4  school_json:2    None  Rio de Janeiro           Colégio São Luís      721\n",
            "--------------------------------------------------------------------\n",
            "--------------------------------------------------------------------\n",
            "Escolas que têm mais de 1000 estudantes (exclusive)\n",
            "Search: @students:[(1000 +inf]\n",
            "Comment: Note que a Escola Sesc de Ensino não vai aparecer, pois tem exatos 1000 alunos\n",
            "\n",
            "              id payload       city                    name students\n",
            "0  school_json:1    None  São Paulo  Escola Maria Imaculada     1452\n",
            "--------------------------------------------------------------------\n",
            "--------------------------------------------------------------------\n",
            "Escolas que têm menos de 300 estudantes (inclusive)\n",
            "Search: @students:[-inf 300]\n",
            "\n",
            "              id payload            city                name students\n",
            "0  school_json:5    None  Belo Horizonte  Colégio Santa Cruz      300\n",
            "1  school_json:6    None       São Paulo  Colégio Rio Branco       50\n",
            "--------------------------------------------------------------------\n",
            "--------------------------------------------------------------------\n",
            "Escolas que têm menos de 300 estudantes (exclusive)\n",
            "Search: @students:[0 (300]\n",
            "Comment: Note que o Colégio Santa Cruz não vai aparecer, pois tem exatos 300 alunos\n",
            "\n",
            "              id payload       city                name students\n",
            "0  school_json:6    None  São Paulo  Colégio Rio Branco       50\n",
            "--------------------------------------------------------------------\n"
          ]
        }
      ]
    },
    {
      "cell_type": "markdown",
      "source": [
        "## Fuzzy Match - \"Serasse\" eu sei escrever essa palavra?\n",
        "\n",
        "Pra fechar, apenas um exemplo leve de comunicação realista: podemos estar buscando sem saber escrever direito o termo. Esse é apenas um das dezenas de exemplos que vocês vão ter acesso na doc do Redis. Tem de redução de radicais, levando em consideração o contexto e cultura de uma determinada Língua, etc.\n",
        "\n",
        "Aqui, vamos apenas fazer uma full-text search procurando por alguma coisa meio esquisita, e vamos ver se o Redis consegue ajudar."
      ],
      "metadata": {
        "id": "MmMPjG7CdclY"
      }
    },
    {
      "cell_type": "code",
      "source": [
        "# Fuzzy matching!\n",
        "# %algumacoisa% significa todos os termos com distância de Levenshtein de 1 em relação a ele.\n",
        "# Use múltiplos pares de % para aumentar a distância de Levenshtein.\n",
        "\n",
        "query=Query('%%Bondeirants%%') \\\n",
        "   .return_field(\"$.address.city\", as_field=\"city\") \\\n",
        "   .return_field(\"$.name\", as_field=\"name\") \\\n",
        "   .return_field(\"$.students\", as_field=\"students\")\n",
        "res=r.ft(\"idx:schools_json\").search(query)\n",
        "#print(res)\n",
        "res_df = pd.DataFrame([t.__dict__ for t in res.docs ])\n",
        "res_df"
      ],
      "metadata": {
        "id": "2Y911V4pZVNS",
        "outputId": "bad7abf8-d4d3-4f00-a4e0-04af21e4a70b",
        "colab": {
          "base_uri": "https://localhost:8080/",
          "height": 81
        }
      },
      "execution_count": null,
      "outputs": [
        {
          "output_type": "execute_result",
          "data": {
            "text/plain": [
              "              id payload       city                  name students\n",
              "0  school_json:0    None  São Paulo  Colégio Bandeirantes      350"
            ],
            "text/html": [
              "\n",
              "  <div id=\"df-42d24395-4290-4c36-b16c-097e0c654ad5\" class=\"colab-df-container\">\n",
              "    <div>\n",
              "<style scoped>\n",
              "    .dataframe tbody tr th:only-of-type {\n",
              "        vertical-align: middle;\n",
              "    }\n",
              "\n",
              "    .dataframe tbody tr th {\n",
              "        vertical-align: top;\n",
              "    }\n",
              "\n",
              "    .dataframe thead th {\n",
              "        text-align: right;\n",
              "    }\n",
              "</style>\n",
              "<table border=\"1\" class=\"dataframe\">\n",
              "  <thead>\n",
              "    <tr style=\"text-align: right;\">\n",
              "      <th></th>\n",
              "      <th>id</th>\n",
              "      <th>payload</th>\n",
              "      <th>city</th>\n",
              "      <th>name</th>\n",
              "      <th>students</th>\n",
              "    </tr>\n",
              "  </thead>\n",
              "  <tbody>\n",
              "    <tr>\n",
              "      <th>0</th>\n",
              "      <td>school_json:0</td>\n",
              "      <td>None</td>\n",
              "      <td>São Paulo</td>\n",
              "      <td>Colégio Bandeirantes</td>\n",
              "      <td>350</td>\n",
              "    </tr>\n",
              "  </tbody>\n",
              "</table>\n",
              "</div>\n",
              "    <div class=\"colab-df-buttons\">\n",
              "\n",
              "  <div class=\"colab-df-container\">\n",
              "    <button class=\"colab-df-convert\" onclick=\"convertToInteractive('df-42d24395-4290-4c36-b16c-097e0c654ad5')\"\n",
              "            title=\"Convert this dataframe to an interactive table.\"\n",
              "            style=\"display:none;\">\n",
              "\n",
              "  <svg xmlns=\"http://www.w3.org/2000/svg\" height=\"24px\" viewBox=\"0 -960 960 960\">\n",
              "    <path d=\"M120-120v-720h720v720H120Zm60-500h600v-160H180v160Zm220 220h160v-160H400v160Zm0 220h160v-160H400v160ZM180-400h160v-160H180v160Zm440 0h160v-160H620v160ZM180-180h160v-160H180v160Zm440 0h160v-160H620v160Z\"/>\n",
              "  </svg>\n",
              "    </button>\n",
              "\n",
              "  <style>\n",
              "    .colab-df-container {\n",
              "      display:flex;\n",
              "      gap: 12px;\n",
              "    }\n",
              "\n",
              "    .colab-df-convert {\n",
              "      background-color: #E8F0FE;\n",
              "      border: none;\n",
              "      border-radius: 50%;\n",
              "      cursor: pointer;\n",
              "      display: none;\n",
              "      fill: #1967D2;\n",
              "      height: 32px;\n",
              "      padding: 0 0 0 0;\n",
              "      width: 32px;\n",
              "    }\n",
              "\n",
              "    .colab-df-convert:hover {\n",
              "      background-color: #E2EBFA;\n",
              "      box-shadow: 0px 1px 2px rgba(60, 64, 67, 0.3), 0px 1px 3px 1px rgba(60, 64, 67, 0.15);\n",
              "      fill: #174EA6;\n",
              "    }\n",
              "\n",
              "    .colab-df-buttons div {\n",
              "      margin-bottom: 4px;\n",
              "    }\n",
              "\n",
              "    [theme=dark] .colab-df-convert {\n",
              "      background-color: #3B4455;\n",
              "      fill: #D2E3FC;\n",
              "    }\n",
              "\n",
              "    [theme=dark] .colab-df-convert:hover {\n",
              "      background-color: #434B5C;\n",
              "      box-shadow: 0px 1px 3px 1px rgba(0, 0, 0, 0.15);\n",
              "      filter: drop-shadow(0px 1px 2px rgba(0, 0, 0, 0.3));\n",
              "      fill: #FFFFFF;\n",
              "    }\n",
              "  </style>\n",
              "\n",
              "    <script>\n",
              "      const buttonEl =\n",
              "        document.querySelector('#df-42d24395-4290-4c36-b16c-097e0c654ad5 button.colab-df-convert');\n",
              "      buttonEl.style.display =\n",
              "        google.colab.kernel.accessAllowed ? 'block' : 'none';\n",
              "\n",
              "      async function convertToInteractive(key) {\n",
              "        const element = document.querySelector('#df-42d24395-4290-4c36-b16c-097e0c654ad5');\n",
              "        const dataTable =\n",
              "          await google.colab.kernel.invokeFunction('convertToInteractive',\n",
              "                                                    [key], {});\n",
              "        if (!dataTable) return;\n",
              "\n",
              "        const docLinkHtml = 'Like what you see? Visit the ' +\n",
              "          '<a target=\"_blank\" href=https://colab.research.google.com/notebooks/data_table.ipynb>data table notebook</a>'\n",
              "          + ' to learn more about interactive tables.';\n",
              "        element.innerHTML = '';\n",
              "        dataTable['output_type'] = 'display_data';\n",
              "        await google.colab.output.renderOutput(dataTable, element);\n",
              "        const docLink = document.createElement('div');\n",
              "        docLink.innerHTML = docLinkHtml;\n",
              "        element.appendChild(docLink);\n",
              "      }\n",
              "    </script>\n",
              "  </div>\n",
              "\n",
              "    </div>\n",
              "  </div>\n"
            ],
            "application/vnd.google.colaboratory.intrinsic+json": {
              "type": "dataframe",
              "variable_name": "res_df",
              "repr_error": "Out of range float values are not JSON compliant: nan"
            }
          },
          "metadata": {},
          "execution_count": 477
        }
      ]
    },
    {
      "cell_type": "markdown",
      "source": [
        "### Suporte a Sinônimos\n",
        "\n",
        "O Redis Stack suporta a busca por palavras sinônimas definidas pela estrutura de dados de sinônimos. Isso permite que, ao buscar por uma palavra, documentos contendo suas sinônimas também sejam retornados.\n",
        "\n",
        "A estrutura de dados de sinônimos é um conjunto de grupos, cada um contendo termos sinônimos. Por exemplo, o seguinte conjunto de sinônimos contém três grupos, e cada grupo contém três termos sinônimos:\n",
        "\n",
        "- {menino, criança, bebê}\n",
        "- {menina, criança, bebê, girl}\n",
        "- {mulher, pessoa, adulto}\n",
        "\n",
        "**Pensando nestes três `Sets`, podemos afirmar que:**\n",
        "\n",
        "Quando esses grupos estão na estrutura de dados de sinônimos, é possível buscar por \"criança\" e receber documentos contendo \"menino\", \"menina\", \"girl\", \"criança\" e \"bebê\"."
      ],
      "metadata": {
        "id": "ULg6CI9qbqpd"
      }
    },
    {
      "cell_type": "code",
      "source": [
        "# Busca com Sinônimos - Procurando por termos relacionados entre si\n",
        "# Vamos utilizar um set aqui, bem simples.\n",
        "# E vamos usar um exemplo nada a ver, justamente para reforçar que nenhum modelo de MachineLearning precisou ser usado para aproximar os termos.\n",
        "# Essa parte mais doida, vamos ver nos exercícios de Vector Search (vector similarity, cosine, etc)\n",
        "\n",
        "# Configurando grupo de sinônimos com termos fora do contexto escolar\n",
        "# Aqui é apenas uma brincadeira, com coisas bem desconexas mesmo\n",
        "r.ft(\"idx:schools_json\").synupdate(\"synonym_maluco_1\", False, \"Perfeito\", \"CristianoRonaldo\", \"CR7\")\n",
        "\n",
        "# Finalmente, a busca utilizando este sinônimo curioso\n",
        "search = 'CristianoRonaldo'\n",
        "query = Query(search) \\\n",
        "    .return_field(\"$.address.city\", as_field=\"city\") \\\n",
        "    .return_field(\"$.name\", as_field=\"name\") \\\n",
        "    .return_field(\"$.description\", as_field=\"description\")\n",
        "res = r.ft(\"idx:schools_json\").search(query)\n",
        "res_df = pd.DataFrame([t.__dict__ for t in res.docs])\n",
        "print(\"--------------------------------------------------------------------\")\n",
        "print(\"Busca por 'Cristiano Ronaldo' usando sinônimos (inclui 'Perfeito' e 'CR7')\")\n",
        "print(\"Search: {0}\".format(search))\n",
        "print(res_df)\n",
        "print(\"--------------------------------------------------------------------\")\n"
      ],
      "metadata": {
        "id": "oaN1MZOwcv0E",
        "outputId": "c2e4ac93-a395-49d3-c381-41c4146992b6",
        "colab": {
          "base_uri": "https://localhost:8080/"
        }
      },
      "execution_count": null,
      "outputs": [
        {
          "output_type": "stream",
          "name": "stdout",
          "text": [
            "--------------------------------------------------------------------\n",
            "Busca por 'Cristiano Ronaldo' usando sinônimos (inclui 'Perfeito' e 'CR7')\n",
            "Search: CristianoRonaldo\n",
            "              id payload      city                       name  \\\n",
            "0  school_json:4    None  Curitiba  Colégio Móbile - Perfeito   \n",
            "\n",
            "                                         description  \n",
            "0  A Escola Móbile oferece um programa acadêmico ...  \n",
            "--------------------------------------------------------------------\n"
          ]
        }
      ]
    },
    {
      "cell_type": "markdown",
      "source": [
        "## Suporte a Stemming - uma forma bonita de dizer que vamos buscar pelo radical da palavra\n",
        "\n",
        "O **Redis Stack** suporta **Stemming**, permitindo a adição da forma base de uma palavra ao índice (radical). Isso possibilita que uma busca por \"contratando\" também retorne resultados para \"contratar\" e \"contratado\".\n",
        "\n",
        "O suporte atual a Stemming é baseado na biblioteca **Snowball Stemmer**, que suporta a maioria das línguas europeias, bem como árabe e outras.\n",
        "\n",
        "Para definir qual idioma o Stemmer deve aplicar ao construir o índice, você precisa especificar o parâmetro LANGUAGE ao criar o índice ou para um campo específico.\n",
        "\n",
        "Vamos criar um exemplo utilizando o idioma português. Ou, como diria o Salvattore, \"braziliano\". =D\n",
        "\n"
      ],
      "metadata": {
        "id": "IECDgFh4ix9c"
      }
    },
    {
      "cell_type": "code",
      "source": [
        "### Suporte a Stemming\n",
        "\n",
        "# Criação do índice com suporte a Stemming em inglês\n",
        "# Para criar um índice com suporte a stemming, definimos os campos TextField apropriados.\n",
        "from redis.commands.search.field import TextField, TagField, NumericField\n",
        "from redis.commands.search.indexDefinition import IndexDefinition, IndexType\n",
        "from redis.commands.search.query import Query\n",
        "import pandas as pd\n",
        "\n",
        "# Agora, pessoal, vou criar um outro índice. Mas é apenas pra gente não confundir as paradas.\n",
        "# Na verdade, vocês podem criar e destruir índices ao longo da operação em Prod... isso é normal\n",
        "# Temos clientes que criam índices de curta-vida, durando apenas enquanto um determinado usuário está logado e interagindo com o sistema.\n",
        "# Excluir o índice se ele já existir\n",
        "try:\n",
        "    r.ft(\"idx:schools_stemming\").dropindex(delete_documents=False)\n",
        "except:\n",
        "    pass\n",
        "\n",
        "# Criação do índice com suporte a stemming\n",
        "schema = (\n",
        "    TextField(\"$.name\", as_name=\"name\"),\n",
        "    TextField(\"$.description\", as_name=\"description\")\n",
        ")\n",
        "\n",
        "# Usando o conceito de Index Definition dessa lib do Python, pra injetar e explicar pro Redis que falamos inglês por aqui\n",
        "r.ft(\"idx:schools_stemming\").create_index(schema, definition=IndexDefinition(prefix=[\"school_json:\"], index_type=IndexType.JSON, language='english'))\n",
        "\n",
        "# Adicionar documentos com variações da palavra \"hire\"\n",
        "r.json().set('school_json:10', '$', {\"name\": \"School Hiring\", \"description\": \"just to avoid confusion\"})\n",
        "r.json().set('school_json:11', '$', {\"name\": \"College Hire\", \"description\": \"just to avoid confusion\"})\n",
        "r.json().set('school_json:12', '$', {\"name\": \"Academy of Hired\", \"description\": \"just to avoid confusion\"})\n",
        "\n",
        "# Listar todos os documentos no índice\n",
        "print(\"--------------------------------------------------------------------\")\n",
        "print(\"Listando todos os documentos no índice\")\n",
        "print(\"--------------------------------------------------------------------\")\n",
        "search = '*'\n",
        "query = Query(search).return_field(\"$.name\", as_field=\"name\")\n",
        "res = r.ft(\"idx:schools_stemming\").search(query)\n",
        "res_df = pd.DataFrame([t.__dict__ for t in res.docs])\n",
        "print(res_df)\n",
        "\n",
        "# Busca com Stemming para \"hiring\"\n",
        "search = '@name:(hiring)'\n",
        "\n",
        "query_params = {\n",
        "  \"LANGUAGE\": \"english\"  # Gabs: parece estar sendo ignorado - abrir uma issue rapidola\n",
        "}\n",
        "\n",
        "query = Query(search) \\\n",
        "    .return_field(\"$.name\", as_field=\"name\") \\\n",
        "    .return_field(\"$.description\", as_field=\"description\")\n",
        "\n",
        "res = r.ft(\"idx:schools_stemming\").search(query, query_params)\n",
        "\n",
        "res_df = pd.DataFrame([t.__dict__ for t in res.docs])\n",
        "print(\"--------------------------------------------------------------------\")\n",
        "print(\"Busca por 'hiring' com suporte a Stemming\")\n",
        "print(\"Search: {0}\".format(search))\n",
        "print(res_df)\n",
        "print(\"--------------------------------------------------------------------\")\n"
      ],
      "metadata": {
        "colab": {
          "base_uri": "https://localhost:8080/"
        },
        "id": "9RQaKzrPjUwt",
        "outputId": "9d61464a-46a8-4531-d4ae-c16b8812abc2"
      },
      "execution_count": null,
      "outputs": [
        {
          "output_type": "stream",
          "name": "stdout",
          "text": [
            "--------------------------------------------------------------------\n",
            "Listando todos os documentos no índice\n",
            "--------------------------------------------------------------------\n",
            "               id payload                       name\n",
            "0  school_json:10    None              School Hiring\n",
            "1  school_json:11    None               College Hire\n",
            "2  school_json:12    None           Academy of Hired\n",
            "3   school_json:3    None      Escola Sesc de Ensino\n",
            "4   school_json:5    None         Colégio Santa Cruz\n",
            "5   school_json:4    None  Colégio Móbile - Perfeito\n",
            "6   school_json:6    None         Colégio Rio Branco\n",
            "7   school_json:0    None       Colégio Bandeirantes\n",
            "8   school_json:2    None           Colégio São Luís\n",
            "9   school_json:1    None     Escola Maria Imaculada\n",
            "--------------------------------------------------------------------\n",
            "Busca por 'hiring' com suporte a Stemming\n",
            "Search: @name:(hiring)\n",
            "               id payload              name              description\n",
            "0  school_json:10    None     School Hiring  just to avoid confusion\n",
            "1  school_json:11    None      College Hire  just to avoid confusion\n",
            "2  school_json:12    None  Academy of Hired  just to avoid confusion\n",
            "--------------------------------------------------------------------\n"
          ]
        }
      ]
    },
    {
      "cell_type": "markdown",
      "source": [
        "## Suporte a Correspondência Fonética\n",
        "\n",
        "A correspondência fonética permite que você encontre termos baseados na sua pronúncia. Isso é particularmente útil ao buscar nomes de pessoas, onde variações na escrita podem ocorrer, mas a pronúncia permanece semelhante.\n",
        "\n",
        "O **Redis Stack** suporta a correspondência fonética usando o algoritmo **Double Metaphone (DM)**, que é eficaz para várias línguas latinas, incluindo inglês, francês, português e espanhol. Ao definir um campo de texto com a opção PHONETIC, os termos nesse campo serão indexados tanto pelo seu valor textual quanto pela sua representação fonética.\n",
        "\n",
        "Vamos parar de usar Python agora, pra fechar com chave de ouro.\\\n",
        "Podem seguir fazendo por aqui, visto que temos um `redis-cli` disponível.\n",
        "\n",
        "Entretanto, minha recomendação é fazer esse último aqui direto no **Redis Insights (GUI)**\n",
        "\n",
        "Vamos lá!\\\n",
        "*Ah, e parabéns por ter chegado até aqui. Gostei muito de preparar esse material pra vocês.*\n",
        "\n",
        "\n",
        "### Configuração do Índice com Correspondência Fonética\n",
        "\n",
        "Comando para criar o índice:"
      ],
      "metadata": {
        "id": "09Nk_y-C7KEz"
      }
    },
    {
      "cell_type": "code",
      "source": [
        "!redis-cli $REDIS_CONN FT.DROPINDEX idx:schools_phonetic || true\n",
        "!redis-cli $REDIS_CONN FT.CREATE idx:schools_phonetic ON JSON PREFIX 1 school_json: LANGUAGE portuguese SCHEMA $.name AS name TEXT PHONETIC dm:pt $.description AS description TEXT"
      ],
      "metadata": {
        "colab": {
          "base_uri": "https://localhost:8080/"
        },
        "id": "ByWSYq6C9RZy",
        "outputId": "8239670b-8387-4a23-e832-7faca0e57cd1"
      },
      "execution_count": null,
      "outputs": [
        {
          "output_type": "stream",
          "name": "stdout",
          "text": [
            "OK\n",
            "OK\n"
          ]
        }
      ]
    },
    {
      "cell_type": "markdown",
      "source": [
        "### Adicionar Documentos\n",
        "\n",
        "Comandos para adicionar documentos:"
      ],
      "metadata": {
        "id": "ktcmYmwH9pEl"
      }
    },
    {
      "cell_type": "code",
      "source": [
        "!redis-cli $REDIS_CONN JSON.SET school_json:30 $ \"{\\\"name\\\": \\\"Escola João\\\", \\\"description\\\": \\\"Um ótimo lugar para aprender\\\"}\"\n",
        "!redis-cli $REDIS_CONN JSON.SET school_json:31 $ \"{\\\"name\\\": \\\"Escola Jão\\\", \\\"description\\\": \\\"Uma excelente instituição educacional\\\"}\"\n",
        "!redis-cli $REDIS_CONN JSON.SET school_json:32 $ \"{\\\"name\\\": \\\"Escola Joãozinho\\\", \\\"description\\\": \\\"Educação de primeira qualidade\\\"}\""
      ],
      "metadata": {
        "colab": {
          "base_uri": "https://localhost:8080/"
        },
        "id": "TGnLAdQN9txk",
        "outputId": "5a55c66a-cf95-471e-c8a9-9880b3b9a254"
      },
      "execution_count": null,
      "outputs": [
        {
          "output_type": "stream",
          "name": "stdout",
          "text": [
            "OK\n",
            "OK\n",
            "OK\n"
          ]
        }
      ]
    },
    {
      "cell_type": "markdown",
      "source": [
        "### Executar Consultas Fonéticas\n",
        "\n",
        "Comandos para executar consultas fonéticas, e com `SORT DESC BY name` (só pra ficar mais legal):"
      ],
      "metadata": {
        "id": "jQUVeHol96dJ"
      }
    },
    {
      "cell_type": "code",
      "source": [
        "!echo \"##############################################################################################################\"\n",
        "# Buscar por \"João\" que deve retornar documentos com \"João\" e \"Jão\", em ordem decrescente\n",
        "!redis-cli $REDIS_CONN FT.SEARCH idx:schools_phonetic \"João\" LANGUAGE portuguese SORTBY name DESC RETURN 1 name\n",
        "!echo \"##############################################################################################################\"\n",
        "!echo \"\"\n",
        "!echo \"##############################################################################################################\"\n",
        "# Buscar por \"Jão\" que deve retornar documentos com \"Jão\" e \"João\" também, mas em ordem crescente agora\n",
        "!redis-cli $REDIS_CONN FT.SEARCH idx:schools_phonetic \"Jão\" LANGUAGE portuguese SORTBY name ASC RETURN 1 name\n",
        "!echo \"##############################################################################################################\"\n",
        "!echo \"\"\n",
        "!echo \"##############################################################################################################\"\n",
        "# Buscar por \"Joãozinho\" que deve retornar documentos com \"Joãozinho\". Neste caso, só tem um.\n",
        "!redis-cli $REDIS_CONN FT.SEARCH idx:schools_phonetic \"Joãozinho\" LANGUAGE portuguese SORTBY name DESC\n",
        "!echo \"##############################################################################################################\"\n"
      ],
      "metadata": {
        "colab": {
          "base_uri": "https://localhost:8080/"
        },
        "id": "lgeji8Ce-Byc",
        "outputId": "014cda84-50f3-42ca-889e-d012a23a20b2"
      },
      "execution_count": null,
      "outputs": [
        {
          "output_type": "stream",
          "name": "stdout",
          "text": [
            "##############################################################################################################\n",
            "1) (integer) 2\n",
            "2) \"school_json:31\"\n",
            "3) 1) \"name\"\n",
            "   2) \"Escola J\\xc3\\xa3o\"\n",
            "4) \"school_json:30\"\n",
            "5) 1) \"name\"\n",
            "   2) \"Escola Jo\\xc3\\xa3o\"\n",
            "##############################################################################################################\n",
            "\n",
            "##############################################################################################################\n",
            "1) (integer) 2\n",
            "2) \"school_json:30\"\n",
            "3) 1) \"name\"\n",
            "   2) \"Escola Jo\\xc3\\xa3o\"\n",
            "4) \"school_json:31\"\n",
            "5) 1) \"name\"\n",
            "   2) \"Escola J\\xc3\\xa3o\"\n",
            "##############################################################################################################\n",
            "\n",
            "##############################################################################################################\n",
            "1) (integer) 1\n",
            "2) \"school_json:32\"\n",
            "3) 1) \"name\"\n",
            "   2) \"Escola Jo\\xc3\\xa3ozinho\"\n",
            "   3) \"$\"\n",
            "   4) \"{\\\"name\\\":\\\"Escola Jo\\xc3\\xa3ozinho\\\",\\\"description\\\":\\\"Educa\\xc3\\xa7\\xc3\\xa3o de primeira qualidade\\\"}\"\n",
            "##############################################################################################################\n"
          ]
        }
      ]
    },
    {
      "cell_type": "markdown",
      "source": [
        "# Busca Complexa no Redis: O Grand Finale\n",
        "\n",
        "Nesta última parte do nosso workshop, vamos utilizar o Redis para realizar uma busca complexa combinando várias funcionalidades avançadas de busca que aprendemos. Vamos explorar:\n",
        "\n",
        "    Fuzzy Search: Para encontrar termos que são similares, mas não exatamente iguais, ao termo de busca.\n",
        "    Full Text Search: Para buscar termos em campos de texto.\n",
        "    Tag Search: Para encontrar correspondências exatas em campos de tags.\n",
        "    Geolocation Search: Para buscar documentos dentro de um determinado raio de uma localização específica.\n",
        "    Range Search: Para buscar documentos com valores numéricos dentro de um intervalo específico.\n",
        "    Sorting: Para ordenar os resultados por um campo numérico.\n",
        "    # e, no próximo notebook... vamos partir pro Vector e entrar no mundo de LLM e Machine Learning.\n",
        "\n",
        "Nosso objetivo será encontrar escolas com base em uma combinação desses critérios e retornar apenas o nome e a quantidade de alunos, ordenados pelo número de alunos (do maior pro menor).\n",
        "\n",
        "### Olha que legal:"
      ],
      "metadata": {
        "id": "fxf3cGHEHGFQ"
      }
    },
    {
      "cell_type": "code",
      "source": [
        "# Busca complexa\n",
        "search = '%%Colejio%% (@name:Colégio|Banana) @city:{São Paulo} @tags:{tecnologia|ambiental|java} @location:[-46.633308 -23.550520 100000 km] @students:[25 400]'\n",
        "query = Query(search) \\\n",
        "    .return_field(\"$.name\", as_field=\"name\") \\\n",
        "    .return_field(\"$.students\", as_field=\"students\") \\\n",
        "    .sort_by(\"students\", asc=False)\n",
        "res = r.ft(\"idx:schools_json\").search(query)\n",
        "res_df = pd.DataFrame([t.__dict__ for t in res.docs])\n",
        "\n",
        "print(\"--------------------------------------------------------------------\")\n",
        "print(\"Busca Complexa: Fuzzy, Full Text, Tag, Geoloc, Range e Sort\")\n",
        "print(\"Search: {0}\".format(search))\n",
        "print(res_df)\n",
        "print(\"--------------------------------------------------------------------\")"
      ],
      "metadata": {
        "id": "1E28u_SuH4lv",
        "outputId": "969808ce-7fd9-4a8c-aa96-bbe1b0d9f2a1",
        "colab": {
          "base_uri": "https://localhost:8080/"
        }
      },
      "execution_count": null,
      "outputs": [
        {
          "output_type": "stream",
          "name": "stdout",
          "text": [
            "--------------------------------------------------------------------\n",
            "Busca Complexa: Fuzzy, Full Text, Tag, Geoloc, Range e Sort\n",
            "Search: %%Colejio%% (@name:Colégio|Banana) @city:{São Paulo} @tags:{tecnologia|ambiental|java} @location:[-46.633308 -23.550520 100000 km] @students:[25 400]\n",
            "              id payload students                  name\n",
            "0  school_json:0    None      350  Colégio Bandeirantes\n",
            "1  school_json:6    None       50    Colégio Rio Branco\n",
            "--------------------------------------------------------------------\n"
          ]
        }
      ]
    },
    {
      "cell_type": "markdown",
      "source": [
        "## Bonus!!! Verificação Ortográfica com Redis e FT.SEARCH (doideira)\n",
        "\n",
        "O comando `FT.SPELLCHECK` realiza a correção ortográfica em uma consulta, retornando sugestões para termos incorretos. Podemos especificar a distância máxima de **Levenshtein** para sugestões de ortografia e usar **dicionários personalizados** para incluir ou excluir termos.\n",
        "\n",
        "Eu ainda não montei um dicionário personalizado, mas vou assim que tiver tempo.\\\n",
        "Quero fazer algo com regionalismo e dialetos.\n",
        "\n",
        "Enfim, foco aqui!\n",
        "\n",
        "Vamos criar um índice simples e adicionar alguns documentos para simular a correção ortográfica. Em seguida, usaremos o comando `FT.SPELLCHECK` para verificar a ortografia da palavra \"Redis\"."
      ],
      "metadata": {
        "id": "ZQcp4DmAAHMm"
      }
    },
    {
      "cell_type": "markdown",
      "source": [
        "### Passo 1: Criação do Índice\n",
        "\n",
        "Aqui vale lembrar que não precisamos ter vários índices. Eu estou criando mais só pro exercício ficar mais \"atômico\", rsrs."
      ],
      "metadata": {
        "id": "B_X-aU3hA3S5"
      }
    },
    {
      "cell_type": "code",
      "source": [
        "!redis-cli $REDIS_CONN FT.DROPINDEX idx:spellcheck || true\n",
        "!redis-cli $REDIS_CONN FT.CREATE idx:spellcheck ON JSON PREFIX 1 doc: SCHEMA $.content AS content TEXT"
      ],
      "metadata": {
        "colab": {
          "base_uri": "https://localhost:8080/"
        },
        "id": "sk8fOaayBGRJ",
        "outputId": "130389c1-14c8-4853-b535-cb66bee81ad1"
      },
      "execution_count": null,
      "outputs": [
        {
          "output_type": "stream",
          "name": "stdout",
          "text": [
            "OK\n",
            "OK\n"
          ]
        }
      ]
    },
    {
      "cell_type": "markdown",
      "source": [
        "### Passo 2: Adição de Documentos\n"
      ],
      "metadata": {
        "id": "50_-tqyxBVnF"
      }
    },
    {
      "cell_type": "code",
      "source": [
        "!redis-cli $REDIS_CONN JSON.SET doc:1 $ \"{\\\"content\\\": \\\"Redis is an in-memory data structure store.\\\"}\"\n",
        "!redis-cli $REDIS_CONN JSON.SET doc:2 $ \"{\\\"content\\\": \\\"Redis provides high availability through Redis Sentinel.\\\"}\"\n",
        "!redis-cli $REDIS_CONN JSON.SET doc:3 $ \"{\\\"content\\\": \\\"Redis is used for caching, real-time analytics, and message brokering.\\\"}\""
      ],
      "metadata": {
        "colab": {
          "base_uri": "https://localhost:8080/"
        },
        "id": "FXNDVm40BYco",
        "outputId": "ea717eac-9986-41a3-8fbd-65d03af399e1"
      },
      "execution_count": null,
      "outputs": [
        {
          "output_type": "stream",
          "name": "stdout",
          "text": [
            "OK\n",
            "OK\n",
            "OK\n"
          ]
        }
      ]
    },
    {
      "cell_type": "markdown",
      "source": [
        "### Passo 3: Execução do Comando FT.SPELLCHECK"
      ],
      "metadata": {
        "id": "qLnsX3ttCLG9"
      }
    },
    {
      "cell_type": "code",
      "source": [
        "# Verificação ortográfica para a palavra incorreta \"Redsi\"\n",
        "!echo \"##############################################################################################################\"\n",
        "!redis-cli $REDIS_CONN FT.SPELLCHECK idx:spellcheck Redsi DISTANCE 1\n",
        "!echo \"##############################################################################################################\"\n",
        "\n",
        "!echo \"\"\n",
        "\n",
        "# Verificação ortográfica para a palavra incorreta \"Rédiz\" - com Levenshtein DISTANCE de 1\n",
        "!echo \"##############################################################################################################\"\n",
        "!redis-cli $REDIS_CONN FT.SPELLCHECK idx:spellcheck Rédiz DISTANCE 1\n",
        "!echo \"##############################################################################################################\"\n",
        "\n",
        "!echo \"\"\n",
        "\n",
        "# Verificação ortográfica para a palavra incorreta \"Rédiz\" - com Levenshtein DISTANCE de 2 - agora vai rsrs\n",
        "!echo \"##############################################################################################################\"\n",
        "!redis-cli $REDIS_CONN FT.SPELLCHECK idx:spellcheck Rédiz DISTANCE 2\n",
        "!echo \"##############################################################################################################\""
      ],
      "metadata": {
        "colab": {
          "base_uri": "https://localhost:8080/"
        },
        "id": "QA8aJ0cmCS6m",
        "outputId": "152135b7-288b-4961-ad3b-6a4c4c71fe12"
      },
      "execution_count": null,
      "outputs": [
        {
          "output_type": "stream",
          "name": "stdout",
          "text": [
            "##############################################################################################################\n",
            "1) 1) TERM\n",
            "   2) \"redsi\"\n",
            "   3) 1) 1) \"1\"\n",
            "         2) \"redis\"\n",
            "##############################################################################################################\n",
            "\n",
            "##############################################################################################################\n",
            "1) 1) TERM\n",
            "   2) \"r\\xc3\\xa9diz\"\n",
            "   3) (empty array)\n",
            "##############################################################################################################\n",
            "\n",
            "##############################################################################################################\n",
            "1) 1) TERM\n",
            "   2) \"r\\xc3\\xa9diz\"\n",
            "   3) 1) 1) \"1\"\n",
            "         2) \"redis\"\n",
            "##############################################################################################################\n"
          ]
        }
      ]
    }
  ],
  "metadata": {
    "colab": {
      "provenance": [],
      "include_colab_link": true
    },
    "kernelspec": {
      "display_name": "Python 3",
      "name": "python3"
    },
    "language_info": {
      "name": "python",
      "version": "3.9.6"
    }
  },
  "nbformat": 4,
  "nbformat_minor": 0
}