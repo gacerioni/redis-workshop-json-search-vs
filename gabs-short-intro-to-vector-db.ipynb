{
  "cells": [
    {
      "cell_type": "markdown",
      "metadata": {
        "id": "view-in-github",
        "colab_type": "text"
      },
      "source": [
        "<a href=\"https://colab.research.google.com/github/gacerioni/redis-workshop-json-search-vs/blob/master/gabs-short-intro-to-vector-db.ipynb\" target=\"_parent\"><img src=\"https://colab.research.google.com/assets/colab-badge.svg\" alt=\"Open In Colab\"/></a>"
      ]
    },
    {
      "cell_type": "markdown",
      "metadata": {
        "id": "tRlp93K0C1q8"
      },
      "source": [
        "# Workshop - Redis como VectorDB - QuickStart\n",
        "\n",
        "## Vector Searches & Large Language Models\n",
        "\n",
        "![Redis](https://redis.io/wp-content/uploads/2024/04/Logotype.svg?auto=webp&quality=85,75&width=120)\n",
        "\n",
        "\n",
        "Bem-vind[ao]s ao Workshop! Vamos ter uma experiência hands-on sobre alguns temas centrais do Redis, bem além do Caching.\n",
        "\n",
        "Este material demonstra rapidamente como você pode usar o Redis como um VectorDB. Existe um hands-on mais completo, onde eu explico cada passo exatamente.\n",
        "\n",
        "Quando falamos que existe um mundo de diferenças entre **SEARCH X QUERY**, a história começa aqui.\n",
        "\n",
        "O Redis é o motor para buscas fonéticas, complexas, por sinonimo, por wildcard, por geolocalização, por ranges... e também por Vetor! Qualquer modelo que extraia a semântica por trás dos inputs é bem vindo aqui!\n",
        "\n",
        "Espero que gostem!\n",
        "\n",
        "# Objetivo do Laboratório\n",
        "\n",
        "Lembre-se: Existe uma versão deste mesmo lab onde eu explico passo a passo o que estamos fazendo. Não se preocupe se você não entendeu de primeira. O objetivo aqui é de DEMO.\n",
        "\n",
        "Basicamente, isso que faremos aqui:\n",
        "\n",
        "*   Guardar uma base de dados de Bicicletas (como SKUs) no Redis.\n",
        "*   Usar um modelo de Sentence Transformers da HuggingFace para gerar os embeddings a partir da descrição em linguagem natural da bicicleta.\n",
        "*   Abrir um prompt de busca para o usuário final, onde iremos vetorizar a sua própria pergunta (input) usando o mesmo modelo de ML.\n",
        "*   Efetuar uma busca de VSS/KNN contra o Redis, usando os embeddings (vectors) para encontrar a melhor resposta para a pergunta do usuário.\n",
        "\n"
      ]
    },
    {
      "cell_type": "markdown",
      "source": [
        "# Pré Requisito - Criar uma conta Free no Redis Cloud\n",
        "\n",
        "Basta seguir o passo a passo [aqui](https://colab.research.google.com/github/gacerioni/redis-workshop-notebook-validator/blob/master/redis-workshop-setup-notebook-validator.ipynb)!"
      ],
      "metadata": {
        "id": "EAWGcj0DqKBR"
      }
    },
    {
      "cell_type": "markdown",
      "source": [
        "# Vector Similarity Search em 3 Passos!\n",
        "\n",
        "\n",
        "## Passo 1 - Instalação e Configuração"
      ],
      "metadata": {
        "id": "tW9m9pffaMl-"
      }
    },
    {
      "cell_type": "code",
      "execution_count": null,
      "metadata": {
        "id": "H-9YfABV3_1z"
      },
      "outputs": [],
      "source": [
        "# Instale as dependências\n",
        "!pip install -r https://raw.githubusercontent.com/gacerioni/redis-workshop-json-search-vs/master/deps/vector-intro/requirements.txt\n",
        "!apt-get update\n",
        "!apt-get install -y redis-tools\n",
        "\n",
        "# Conecte ao Redis\n",
        "import os\n",
        "import redis\n",
        "\n",
        "REDIS_HOST=\"redis-19343.c308.sa-east-1-1.ec2.redns.redis-cloud.com\"\n",
        "REDIS_PORT=19343\n",
        "REDIS_PASSWORD=\"F7ouT6jN4LzIF0zOZkpABUo0AwTgHq8e\"\n",
        "\n",
        "redis_conn = redis.Redis(\n",
        "    host=REDIS_HOST,\n",
        "    port=REDIS_PORT,\n",
        "    password=REDIS_PASSWORD,\n",
        "    decode_responses=True\n",
        ")\n",
        "\n",
        "assert redis_conn.ping()"
      ]
    },
    {
      "cell_type": "markdown",
      "metadata": {
        "id": "YhS6htjOCxr_"
      },
      "source": [
        "## Passo 2 - Carregar as Bikes e indexá-las no Redis"
      ]
    },
    {
      "cell_type": "code",
      "execution_count": null,
      "metadata": {
        "id": "2UxA0cSkBYgo"
      },
      "outputs": [],
      "source": [
        "import requests\n",
        "from redis.exceptions import ResponseError\n",
        "from redis.commands.search.field import TextField, NumericField, VectorField\n",
        "from redis.commands.search.indexDefinition import IndexDefinition, IndexType\n",
        "\n",
        "# Carregar dados das bikes\n",
        "URL = \"https://raw.githubusercontent.com/gacerioni/redis-workshop-json-search-vs/master/deps/vector-intro/data/bikes.json\"\n",
        "bikes = requests.get(URL).json()\n",
        "index_name = \"idx:bikes_vss\"\n",
        "\n",
        "# Carregar dados no Redis\n",
        "pipeline = redis_conn.pipeline()\n",
        "for i, bike in enumerate(bikes, start=1):\n",
        "    redis_key = f\"bikes:{i:03}\"\n",
        "    pipeline.json().set(redis_key, \"$\", bike)\n",
        "pipeline.execute()\n",
        "\n",
        "# Função para checar se o index já existe\n",
        "def index_exists(index_name):\n",
        "    try:\n",
        "        # Vai lançar um erro se o index não existir\n",
        "        redis_conn.ft(index_name).info()\n",
        "        return True\n",
        "    except ResponseError:\n",
        "        return False\n",
        "\n",
        "# Usa a função para garantir uma operação atômica\n",
        "if index_exists(index_name):\n",
        "    print(\"Deleting older index version...\")\n",
        "    redis_conn.execute_command(\"FT.DROPINDEX\", index_name)\n",
        "\n",
        "# Criar índice para busca vetorial\n",
        "VECTOR_DIMENSION = 384\n",
        "\n",
        "schema = [\n",
        "    TextField(\"$.model\", as_name=\"model\"),\n",
        "    TextField(\"$.brand\", as_name=\"brand\"),\n",
        "    NumericField(\"$.price\", as_name=\"price\"),\n",
        "    TextField(\"$.description\", as_name=\"description\"),  # Adicionado o campo description\n",
        "    VectorField(\"$.description_embeddings\", \"FLAT\", {\"TYPE\": \"FLOAT32\", \"DIM\": VECTOR_DIMENSION, \"DISTANCE_METRIC\": \"COSINE\"}, as_name=\"vector\")\n",
        "]\n",
        "\n",
        "index_def = IndexDefinition(prefix=[\"bikes:\"], index_type=IndexType.JSON)\n",
        "redis_conn.ft(index_name).create_index(fields=schema, definition=index_def)"
      ]
    },
    {
      "cell_type": "markdown",
      "source": [
        "## Passo 3 - Vetorização da descrição das Bikes e Prompt\n",
        "\n",
        "Reta final! Vamos vetorizar as descrições das Bikes, guardar junto no JSON lá no Redis, e abrir o prompt pro usuário final."
      ],
      "metadata": {
        "id": "NBVqcG1rhkU1"
      }
    },
    {
      "cell_type": "code",
      "execution_count": null,
      "metadata": {
        "id": "OsJLTPAb36Z3"
      },
      "outputs": [],
      "source": [
        "from sentence_transformers import SentenceTransformer\n",
        "import numpy as np\n",
        "from redis.commands.search.query import Query\n",
        "import pandas as pd\n",
        "\n",
        "# Gerar embeddings\n",
        "embedder = SentenceTransformer('sentence-transformers/paraphrase-multilingual-MiniLM-L12-v2')\n",
        "keys = sorted(redis_conn.keys(\"bikes:*\"))\n",
        "descriptions = [redis_conn.json().get(key, \"$.description\")[0] for key in keys]\n",
        "embeddings = embedder.encode(descriptions).astype(np.float32).tolist()\n",
        "\n",
        "# Inserir embeddings no Redis\n",
        "pipeline = redis_conn.pipeline()\n",
        "for key, embedding in zip(keys, embeddings):\n",
        "    pipeline.json().set(key, \"$.description_embeddings\", embedding)\n",
        "pipeline.execute()\n",
        "\n",
        "# Loop de busca interativa\n",
        "while True:\n",
        "    query = input(\"Digite sua pergunta: \")\n",
        "    query_vec = embedder.encode([query]).astype(np.float32).tobytes()\n",
        "\n",
        "    search_query = (\n",
        "        Query(\"(*)=>[KNN 3 @vector $query_vector AS vector_score]\")\n",
        "        .sort_by(\"vector_score\")\n",
        "        .return_fields(\"vector_score\", \"model\", \"brand\", \"price\", \"description\")\n",
        "        .dialect(2)\n",
        "    )\n",
        "\n",
        "    results = redis_conn.ft(\"idx:bikes_vss\").search(search_query, {\"query_vector\": query_vec}).docs\n",
        "\n",
        "    data = []\n",
        "    for doc in results:\n",
        "        model = doc.__dict__.get('model', 'N/A')\n",
        "        brand = doc.__dict__.get('brand', 'N/A')\n",
        "        price = doc.__dict__.get('price', 'N/A')\n",
        "        description = doc.__dict__.get('description', 'N/A')[:100]  # Limita a descrição a 100 caracteres\n",
        "        vector_score = 1 - float(doc.__dict__.get('vector_score', 'N/A'))\n",
        "\n",
        "        data.append({\n",
        "            \"Modelo\": model,\n",
        "            \"Marca\": brand,\n",
        "            \"Preço\": price,\n",
        "            \"Score\": f\"{vector_score:.2f}\",\n",
        "            \"Descrição\": description\n",
        "        })\n",
        "\n",
        "    df = pd.DataFrame(data)\n",
        "    print(df.to_markdown(index=False))"
      ]
    }
  ],
  "metadata": {
    "accelerator": "GPU",
    "colab": {
      "provenance": [],
      "include_colab_link": true
    },
    "gpuClass": "standard",
    "kernelspec": {
      "display_name": "Python 3",
      "name": "python3"
    },
    "language_info": {
      "name": "python",
      "version": "3.9.6"
    }
  },
  "nbformat": 4,
  "nbformat_minor": 0
}