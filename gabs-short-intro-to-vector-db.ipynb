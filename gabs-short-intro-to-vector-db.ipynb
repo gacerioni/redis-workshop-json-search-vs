{
  "cells": [
    {
      "cell_type": "markdown",
      "metadata": {
        "id": "view-in-github",
        "colab_type": "text"
      },
      "source": [
        "<a href=\"https://colab.research.google.com/github/gacerioni/redis-workshop-json-search-vs/blob/master/gabs-short-intro-to-vector-db.ipynb\" target=\"_parent\"><img src=\"https://colab.research.google.com/assets/colab-badge.svg\" alt=\"Open In Colab\"/></a>"
      ]
    },
    {
      "cell_type": "markdown",
      "metadata": {
        "id": "tRlp93K0C1q8"
      },
      "source": [
        "# Workshop - Redis como VectorDB - QuickStart\n",
        "\n",
        "## Vector Searches & Large Language Models\n",
        "\n",
        "![Redis](https://redis.io/wp-content/uploads/2024/04/Logotype.svg?auto=webp&quality=85,75&width=120)\n",
        "\n",
        "\n",
        "Bem-vind[ao]s ao Workshop! Vamos ter uma experiência hands-on sobre alguns temas centrais do Redis, bem além do Caching.\n",
        "\n",
        "Este material demonstra rapidamente como você pode usar o Redis como um VectorDB. Existe um hands-on mais completo, onde eu explico cada passo exatamente.\n",
        "\n",
        "Quando falamos que existe um mundo de diferenças entre **SEARCH X QUERY**, a história começa aqui.\n",
        "\n",
        "O Redis é o motor para buscas fonéticas, complexas, por sinonimo, por wildcard, por geolocalização, por ranges... e também por Vetor! Qualquer modelo que extraia a semântica por trás dos inputs é bem vindo aqui!\n",
        "\n",
        "Espero que gostem!\n",
        "\n",
        "# Objetivo do Laboratório\n",
        "\n",
        "Lembre-se: Existe uma versão deste mesmo lab onde eu explico passo a passo o que estamos fazendo. Não se preocupe se você não entendeu de primeira. O objetivo aqui é de DEMO.\n",
        "\n",
        "Basicamente, isso que faremos aqui:\n",
        "\n",
        "*   Guardar uma base de dados de Bicicletas (como SKUs) no Redis.\n",
        "*   Usar um modelo de Sentence Transformers da HuggingFace para gerar os embeddings a partir da descrição em linguagem natural da bicicleta.\n",
        "*   Abrir um prompt de busca para o usuário final, onde iremos vetorizar a sua própria pergunta (input) usando o mesmo modelo de ML.\n",
        "*   Efetuar uma busca de VSS/KNN contra o Redis, usando os embeddings (vectors) para encontrar a melhor resposta para a pergunta do usuário.\n",
        "\n"
      ]
    },
    {
      "cell_type": "markdown",
      "source": [
        "# Pré Requisito - Criar uma conta Free no Redis Cloud\n",
        "\n",
        "Basta seguir o passo a passo [aqui](https://colab.research.google.com/github/gacerioni/redis-workshop-notebook-validator/blob/master/redis-workshop-setup-notebook-validator.ipynb)!"
      ],
      "metadata": {
        "id": "EAWGcj0DqKBR"
      }
    },
    {
      "cell_type": "markdown",
      "source": [
        "# Vector Similarity Search em 3 Passos!\n",
        "\n",
        "\n",
        "## Passo 1 - Instalação e Configuração"
      ],
      "metadata": {
        "id": "tW9m9pffaMl-"
      }
    },
    {
      "cell_type": "code",
      "execution_count": 5,
      "metadata": {
        "id": "H-9YfABV3_1z",
        "outputId": "2daf39f1-c359-415b-9be0-650b8e58a6ff",
        "colab": {
          "base_uri": "https://localhost:8080/"
        }
      },
      "outputs": [
        {
          "output_type": "stream",
          "name": "stdout",
          "text": [
            "Requirement already satisfied: certifi==2024.6.2 in /usr/local/lib/python3.10/dist-packages (from -r https://raw.githubusercontent.com/gacerioni/redis-workshop-json-search-vs/master/deps/vector-intro/requirements.txt (line 1)) (2024.6.2)\n",
            "Requirement already satisfied: charset-normalizer==3.3.2 in /usr/local/lib/python3.10/dist-packages (from -r https://raw.githubusercontent.com/gacerioni/redis-workshop-json-search-vs/master/deps/vector-intro/requirements.txt (line 2)) (3.3.2)\n",
            "Requirement already satisfied: filelock==3.15.4 in /usr/local/lib/python3.10/dist-packages (from -r https://raw.githubusercontent.com/gacerioni/redis-workshop-json-search-vs/master/deps/vector-intro/requirements.txt (line 3)) (3.15.4)\n",
            "Requirement already satisfied: fsspec==2024.6.1 in /usr/local/lib/python3.10/dist-packages (from -r https://raw.githubusercontent.com/gacerioni/redis-workshop-json-search-vs/master/deps/vector-intro/requirements.txt (line 4)) (2024.6.1)\n",
            "Requirement already satisfied: huggingface-hub==0.23.4 in /usr/local/lib/python3.10/dist-packages (from -r https://raw.githubusercontent.com/gacerioni/redis-workshop-json-search-vs/master/deps/vector-intro/requirements.txt (line 5)) (0.23.4)\n",
            "Requirement already satisfied: idna==3.7 in /usr/local/lib/python3.10/dist-packages (from -r https://raw.githubusercontent.com/gacerioni/redis-workshop-json-search-vs/master/deps/vector-intro/requirements.txt (line 6)) (3.7)\n",
            "Requirement already satisfied: Jinja2==3.1.4 in /usr/local/lib/python3.10/dist-packages (from -r https://raw.githubusercontent.com/gacerioni/redis-workshop-json-search-vs/master/deps/vector-intro/requirements.txt (line 7)) (3.1.4)\n",
            "Requirement already satisfied: joblib==1.4.2 in /usr/local/lib/python3.10/dist-packages (from -r https://raw.githubusercontent.com/gacerioni/redis-workshop-json-search-vs/master/deps/vector-intro/requirements.txt (line 8)) (1.4.2)\n",
            "Requirement already satisfied: MarkupSafe==2.1.5 in /usr/local/lib/python3.10/dist-packages (from -r https://raw.githubusercontent.com/gacerioni/redis-workshop-json-search-vs/master/deps/vector-intro/requirements.txt (line 9)) (2.1.5)\n",
            "Requirement already satisfied: mpmath==1.3.0 in /usr/local/lib/python3.10/dist-packages (from -r https://raw.githubusercontent.com/gacerioni/redis-workshop-json-search-vs/master/deps/vector-intro/requirements.txt (line 10)) (1.3.0)\n",
            "Requirement already satisfied: networkx==3.3 in /usr/local/lib/python3.10/dist-packages (from -r https://raw.githubusercontent.com/gacerioni/redis-workshop-json-search-vs/master/deps/vector-intro/requirements.txt (line 11)) (3.3)\n",
            "Requirement already satisfied: numpy==1.26.4 in /usr/local/lib/python3.10/dist-packages (from -r https://raw.githubusercontent.com/gacerioni/redis-workshop-json-search-vs/master/deps/vector-intro/requirements.txt (line 12)) (1.26.4)\n",
            "Requirement already satisfied: packaging==24.1 in /usr/local/lib/python3.10/dist-packages (from -r https://raw.githubusercontent.com/gacerioni/redis-workshop-json-search-vs/master/deps/vector-intro/requirements.txt (line 13)) (24.1)\n",
            "Requirement already satisfied: pandas==2.2.2 in /usr/local/lib/python3.10/dist-packages (from -r https://raw.githubusercontent.com/gacerioni/redis-workshop-json-search-vs/master/deps/vector-intro/requirements.txt (line 14)) (2.2.2)\n",
            "Requirement already satisfied: pillow==10.4.0 in /usr/local/lib/python3.10/dist-packages (from -r https://raw.githubusercontent.com/gacerioni/redis-workshop-json-search-vs/master/deps/vector-intro/requirements.txt (line 15)) (10.4.0)\n",
            "Requirement already satisfied: python-dateutil==2.9.0.post0 in /usr/local/lib/python3.10/dist-packages (from -r https://raw.githubusercontent.com/gacerioni/redis-workshop-json-search-vs/master/deps/vector-intro/requirements.txt (line 16)) (2.9.0.post0)\n",
            "Requirement already satisfied: pytz==2024.1 in /usr/local/lib/python3.10/dist-packages (from -r https://raw.githubusercontent.com/gacerioni/redis-workshop-json-search-vs/master/deps/vector-intro/requirements.txt (line 17)) (2024.1)\n",
            "Requirement already satisfied: PyYAML==6.0.1 in /usr/local/lib/python3.10/dist-packages (from -r https://raw.githubusercontent.com/gacerioni/redis-workshop-json-search-vs/master/deps/vector-intro/requirements.txt (line 18)) (6.0.1)\n",
            "Requirement already satisfied: redis==5.0.7 in /usr/local/lib/python3.10/dist-packages (from -r https://raw.githubusercontent.com/gacerioni/redis-workshop-json-search-vs/master/deps/vector-intro/requirements.txt (line 19)) (5.0.7)\n",
            "Requirement already satisfied: regex==2024.5.15 in /usr/local/lib/python3.10/dist-packages (from -r https://raw.githubusercontent.com/gacerioni/redis-workshop-json-search-vs/master/deps/vector-intro/requirements.txt (line 20)) (2024.5.15)\n",
            "Requirement already satisfied: requests==2.32.3 in /usr/local/lib/python3.10/dist-packages (from -r https://raw.githubusercontent.com/gacerioni/redis-workshop-json-search-vs/master/deps/vector-intro/requirements.txt (line 21)) (2.32.3)\n",
            "Requirement already satisfied: safetensors==0.4.3 in /usr/local/lib/python3.10/dist-packages (from -r https://raw.githubusercontent.com/gacerioni/redis-workshop-json-search-vs/master/deps/vector-intro/requirements.txt (line 22)) (0.4.3)\n",
            "Requirement already satisfied: scikit-learn==1.5.1 in /usr/local/lib/python3.10/dist-packages (from -r https://raw.githubusercontent.com/gacerioni/redis-workshop-json-search-vs/master/deps/vector-intro/requirements.txt (line 23)) (1.5.1)\n",
            "Requirement already satisfied: scipy==1.14.0 in /usr/local/lib/python3.10/dist-packages (from -r https://raw.githubusercontent.com/gacerioni/redis-workshop-json-search-vs/master/deps/vector-intro/requirements.txt (line 24)) (1.14.0)\n",
            "Requirement already satisfied: sentence-transformers==3.0.1 in /usr/local/lib/python3.10/dist-packages (from -r https://raw.githubusercontent.com/gacerioni/redis-workshop-json-search-vs/master/deps/vector-intro/requirements.txt (line 25)) (3.0.1)\n",
            "Requirement already satisfied: six==1.16.0 in /usr/local/lib/python3.10/dist-packages (from -r https://raw.githubusercontent.com/gacerioni/redis-workshop-json-search-vs/master/deps/vector-intro/requirements.txt (line 26)) (1.16.0)\n",
            "Requirement already satisfied: sympy==1.12.1 in /usr/local/lib/python3.10/dist-packages (from -r https://raw.githubusercontent.com/gacerioni/redis-workshop-json-search-vs/master/deps/vector-intro/requirements.txt (line 27)) (1.12.1)\n",
            "Requirement already satisfied: tabulate==0.9.0 in /usr/local/lib/python3.10/dist-packages (from -r https://raw.githubusercontent.com/gacerioni/redis-workshop-json-search-vs/master/deps/vector-intro/requirements.txt (line 28)) (0.9.0)\n",
            "Requirement already satisfied: threadpoolctl==3.5.0 in /usr/local/lib/python3.10/dist-packages (from -r https://raw.githubusercontent.com/gacerioni/redis-workshop-json-search-vs/master/deps/vector-intro/requirements.txt (line 29)) (3.5.0)\n",
            "Requirement already satisfied: tokenizers==0.19.1 in /usr/local/lib/python3.10/dist-packages (from -r https://raw.githubusercontent.com/gacerioni/redis-workshop-json-search-vs/master/deps/vector-intro/requirements.txt (line 30)) (0.19.1)\n",
            "Requirement already satisfied: torch==2.3.1 in /usr/local/lib/python3.10/dist-packages (from -r https://raw.githubusercontent.com/gacerioni/redis-workshop-json-search-vs/master/deps/vector-intro/requirements.txt (line 31)) (2.3.1)\n",
            "Requirement already satisfied: tqdm==4.66.4 in /usr/local/lib/python3.10/dist-packages (from -r https://raw.githubusercontent.com/gacerioni/redis-workshop-json-search-vs/master/deps/vector-intro/requirements.txt (line 32)) (4.66.4)\n",
            "Requirement already satisfied: transformers==4.42.3 in /usr/local/lib/python3.10/dist-packages (from -r https://raw.githubusercontent.com/gacerioni/redis-workshop-json-search-vs/master/deps/vector-intro/requirements.txt (line 33)) (4.42.3)\n",
            "Requirement already satisfied: typing_extensions==4.12.2 in /usr/local/lib/python3.10/dist-packages (from -r https://raw.githubusercontent.com/gacerioni/redis-workshop-json-search-vs/master/deps/vector-intro/requirements.txt (line 34)) (4.12.2)\n",
            "Requirement already satisfied: tzdata==2024.1 in /usr/local/lib/python3.10/dist-packages (from -r https://raw.githubusercontent.com/gacerioni/redis-workshop-json-search-vs/master/deps/vector-intro/requirements.txt (line 35)) (2024.1)\n",
            "Requirement already satisfied: urllib3==2.2.2 in /usr/local/lib/python3.10/dist-packages (from -r https://raw.githubusercontent.com/gacerioni/redis-workshop-json-search-vs/master/deps/vector-intro/requirements.txt (line 36)) (2.2.2)\n",
            "Requirement already satisfied: async-timeout>=4.0.3 in /usr/local/lib/python3.10/dist-packages (from redis==5.0.7->-r https://raw.githubusercontent.com/gacerioni/redis-workshop-json-search-vs/master/deps/vector-intro/requirements.txt (line 19)) (4.0.3)\n",
            "Requirement already satisfied: nvidia-cuda-nvrtc-cu12==12.1.105 in /usr/local/lib/python3.10/dist-packages (from torch==2.3.1->-r https://raw.githubusercontent.com/gacerioni/redis-workshop-json-search-vs/master/deps/vector-intro/requirements.txt (line 31)) (12.1.105)\n",
            "Requirement already satisfied: nvidia-cuda-runtime-cu12==12.1.105 in /usr/local/lib/python3.10/dist-packages (from torch==2.3.1->-r https://raw.githubusercontent.com/gacerioni/redis-workshop-json-search-vs/master/deps/vector-intro/requirements.txt (line 31)) (12.1.105)\n",
            "Requirement already satisfied: nvidia-cuda-cupti-cu12==12.1.105 in /usr/local/lib/python3.10/dist-packages (from torch==2.3.1->-r https://raw.githubusercontent.com/gacerioni/redis-workshop-json-search-vs/master/deps/vector-intro/requirements.txt (line 31)) (12.1.105)\n",
            "Requirement already satisfied: nvidia-cudnn-cu12==8.9.2.26 in /usr/local/lib/python3.10/dist-packages (from torch==2.3.1->-r https://raw.githubusercontent.com/gacerioni/redis-workshop-json-search-vs/master/deps/vector-intro/requirements.txt (line 31)) (8.9.2.26)\n",
            "Requirement already satisfied: nvidia-cublas-cu12==12.1.3.1 in /usr/local/lib/python3.10/dist-packages (from torch==2.3.1->-r https://raw.githubusercontent.com/gacerioni/redis-workshop-json-search-vs/master/deps/vector-intro/requirements.txt (line 31)) (12.1.3.1)\n",
            "Requirement already satisfied: nvidia-cufft-cu12==11.0.2.54 in /usr/local/lib/python3.10/dist-packages (from torch==2.3.1->-r https://raw.githubusercontent.com/gacerioni/redis-workshop-json-search-vs/master/deps/vector-intro/requirements.txt (line 31)) (11.0.2.54)\n",
            "Requirement already satisfied: nvidia-curand-cu12==10.3.2.106 in /usr/local/lib/python3.10/dist-packages (from torch==2.3.1->-r https://raw.githubusercontent.com/gacerioni/redis-workshop-json-search-vs/master/deps/vector-intro/requirements.txt (line 31)) (10.3.2.106)\n",
            "Requirement already satisfied: nvidia-cusolver-cu12==11.4.5.107 in /usr/local/lib/python3.10/dist-packages (from torch==2.3.1->-r https://raw.githubusercontent.com/gacerioni/redis-workshop-json-search-vs/master/deps/vector-intro/requirements.txt (line 31)) (11.4.5.107)\n",
            "Requirement already satisfied: nvidia-cusparse-cu12==12.1.0.106 in /usr/local/lib/python3.10/dist-packages (from torch==2.3.1->-r https://raw.githubusercontent.com/gacerioni/redis-workshop-json-search-vs/master/deps/vector-intro/requirements.txt (line 31)) (12.1.0.106)\n",
            "Requirement already satisfied: nvidia-nccl-cu12==2.20.5 in /usr/local/lib/python3.10/dist-packages (from torch==2.3.1->-r https://raw.githubusercontent.com/gacerioni/redis-workshop-json-search-vs/master/deps/vector-intro/requirements.txt (line 31)) (2.20.5)\n",
            "Requirement already satisfied: nvidia-nvtx-cu12==12.1.105 in /usr/local/lib/python3.10/dist-packages (from torch==2.3.1->-r https://raw.githubusercontent.com/gacerioni/redis-workshop-json-search-vs/master/deps/vector-intro/requirements.txt (line 31)) (12.1.105)\n",
            "Requirement already satisfied: triton==2.3.1 in /usr/local/lib/python3.10/dist-packages (from torch==2.3.1->-r https://raw.githubusercontent.com/gacerioni/redis-workshop-json-search-vs/master/deps/vector-intro/requirements.txt (line 31)) (2.3.1)\n",
            "Requirement already satisfied: nvidia-nvjitlink-cu12 in /usr/local/lib/python3.10/dist-packages (from nvidia-cusolver-cu12==11.4.5.107->torch==2.3.1->-r https://raw.githubusercontent.com/gacerioni/redis-workshop-json-search-vs/master/deps/vector-intro/requirements.txt (line 31)) (12.5.82)\n",
            "Hit:1 https://cloud.r-project.org/bin/linux/ubuntu jammy-cran40/ InRelease\n",
            "Hit:2 https://developer.download.nvidia.com/compute/cuda/repos/ubuntu2204/x86_64  InRelease\n",
            "Hit:3 http://security.ubuntu.com/ubuntu jammy-security InRelease\n",
            "Hit:4 http://archive.ubuntu.com/ubuntu jammy InRelease\n",
            "Hit:5 http://archive.ubuntu.com/ubuntu jammy-updates InRelease\n",
            "Hit:6 http://archive.ubuntu.com/ubuntu jammy-backports InRelease\n",
            "Hit:7 https://ppa.launchpadcontent.net/c2d4u.team/c2d4u4.0+/ubuntu jammy InRelease\n",
            "Hit:8 https://ppa.launchpadcontent.net/deadsnakes/ppa/ubuntu jammy InRelease\n",
            "Hit:9 https://ppa.launchpadcontent.net/graphics-drivers/ppa/ubuntu jammy InRelease\n",
            "Hit:10 https://ppa.launchpadcontent.net/ubuntugis/ppa/ubuntu jammy InRelease\n",
            "Reading package lists... Done\n",
            "Reading package lists... Done\n",
            "Building dependency tree... Done\n",
            "Reading state information... Done\n",
            "redis-tools is already the newest version (5:6.0.16-1ubuntu1).\n",
            "0 upgraded, 0 newly installed, 0 to remove and 46 not upgraded.\n"
          ]
        }
      ],
      "source": [
        "# Instale as dependências\n",
        "!pip install -r https://raw.githubusercontent.com/gacerioni/redis-workshop-json-search-vs/master/deps/vector-intro/requirements.txt\n",
        "!apt-get update\n",
        "!apt-get install -y redis-tools\n",
        "\n",
        "# Conecte ao Redis\n",
        "import os\n",
        "import redis\n",
        "\n",
        "REDIS_HOST=\"redis-18884.c98.us-east-1-4.ec2.redns.redis-cloud.com\"\n",
        "REDIS_PORT=18884\n",
        "REDIS_PASSWORD=\"lgZgS90vZJpnS4F2Y5EJ97YJTFGUUdvF\"\n",
        "\n",
        "redis_conn = redis.Redis(\n",
        "    host=REDIS_HOST,\n",
        "    port=REDIS_PORT,\n",
        "    password=REDIS_PASSWORD,\n",
        "    decode_responses=True\n",
        ")\n",
        "\n",
        "assert redis_conn.ping()"
      ]
    },
    {
      "cell_type": "markdown",
      "metadata": {
        "id": "YhS6htjOCxr_"
      },
      "source": [
        "## Passo 2 - Carregar as Bikes e indexá-las no Redis"
      ]
    },
    {
      "cell_type": "code",
      "execution_count": 4,
      "metadata": {
        "id": "2UxA0cSkBYgo",
        "outputId": "e9e2b86c-0533-4ba2-d0ed-4f450080d3bc",
        "colab": {
          "base_uri": "https://localhost:8080/",
          "height": 428
        }
      },
      "outputs": [
        {
          "output_type": "error",
          "ename": "NameError",
          "evalue": "name 'ResponseError' is not defined",
          "traceback": [
            "\u001b[0;31m---------------------------------------------------------------------------\u001b[0m",
            "\u001b[0;31mAttributeError\u001b[0m                            Traceback (most recent call last)",
            "\u001b[0;32m<ipython-input-4-79fa6efe3259>\u001b[0m in \u001b[0;36mindex_exists\u001b[0;34m(index_name)\u001b[0m\n\u001b[1;32m     19\u001b[0m         \u001b[0;31m# Vai lancar um error se o index nao existir\u001b[0m\u001b[0;34m\u001b[0m\u001b[0;34m\u001b[0m\u001b[0m\n\u001b[0;32m---> 20\u001b[0;31m         \u001b[0mredis\u001b[0m\u001b[0;34m.\u001b[0m\u001b[0mft\u001b[0m\u001b[0;34m(\u001b[0m\u001b[0mindex_name\u001b[0m\u001b[0;34m)\u001b[0m\u001b[0;34m.\u001b[0m\u001b[0minfo\u001b[0m\u001b[0;34m(\u001b[0m\u001b[0;34m)\u001b[0m\u001b[0;34m\u001b[0m\u001b[0;34m\u001b[0m\u001b[0m\n\u001b[0m\u001b[1;32m     21\u001b[0m         \u001b[0;32mreturn\u001b[0m \u001b[0;32mTrue\u001b[0m\u001b[0;34m\u001b[0m\u001b[0;34m\u001b[0m\u001b[0m\n",
            "\u001b[0;31mAttributeError\u001b[0m: module 'redis' has no attribute 'ft'",
            "\nDuring handling of the above exception, another exception occurred:\n",
            "\u001b[0;31mNameError\u001b[0m                                 Traceback (most recent call last)",
            "\u001b[0;32m<ipython-input-4-79fa6efe3259>\u001b[0m in \u001b[0;36m<cell line: 26>\u001b[0;34m()\u001b[0m\n\u001b[1;32m     24\u001b[0m \u001b[0;34m\u001b[0m\u001b[0m\n\u001b[1;32m     25\u001b[0m \u001b[0;31m# usa a function pra garantir uma exp atomica\u001b[0m\u001b[0;34m\u001b[0m\u001b[0;34m\u001b[0m\u001b[0m\n\u001b[0;32m---> 26\u001b[0;31m \u001b[0;32mif\u001b[0m \u001b[0mindex_exists\u001b[0m\u001b[0;34m(\u001b[0m\u001b[0mindex_name\u001b[0m\u001b[0;34m)\u001b[0m\u001b[0;34m:\u001b[0m\u001b[0;34m\u001b[0m\u001b[0;34m\u001b[0m\u001b[0m\n\u001b[0m\u001b[1;32m     27\u001b[0m     \u001b[0mprint\u001b[0m\u001b[0;34m(\u001b[0m\u001b[0;34m\"Deleting older index version...\"\u001b[0m\u001b[0;34m)\u001b[0m\u001b[0;34m\u001b[0m\u001b[0;34m\u001b[0m\u001b[0m\n\u001b[1;32m     28\u001b[0m     \u001b[0mredis\u001b[0m\u001b[0;34m.\u001b[0m\u001b[0mexecute_command\u001b[0m\u001b[0;34m(\u001b[0m\u001b[0;34m\"FT.DROPINDEX\"\u001b[0m\u001b[0;34m,\u001b[0m \u001b[0mindex_name\u001b[0m\u001b[0;34m)\u001b[0m\u001b[0;34m\u001b[0m\u001b[0;34m\u001b[0m\u001b[0m\n",
            "\u001b[0;32m<ipython-input-4-79fa6efe3259>\u001b[0m in \u001b[0;36mindex_exists\u001b[0;34m(index_name)\u001b[0m\n\u001b[1;32m     20\u001b[0m         \u001b[0mredis\u001b[0m\u001b[0;34m.\u001b[0m\u001b[0mft\u001b[0m\u001b[0;34m(\u001b[0m\u001b[0mindex_name\u001b[0m\u001b[0;34m)\u001b[0m\u001b[0;34m.\u001b[0m\u001b[0minfo\u001b[0m\u001b[0;34m(\u001b[0m\u001b[0;34m)\u001b[0m\u001b[0;34m\u001b[0m\u001b[0;34m\u001b[0m\u001b[0m\n\u001b[1;32m     21\u001b[0m         \u001b[0;32mreturn\u001b[0m \u001b[0;32mTrue\u001b[0m\u001b[0;34m\u001b[0m\u001b[0;34m\u001b[0m\u001b[0m\n\u001b[0;32m---> 22\u001b[0;31m     \u001b[0;32mexcept\u001b[0m \u001b[0mResponseError\u001b[0m\u001b[0;34m:\u001b[0m\u001b[0;34m\u001b[0m\u001b[0;34m\u001b[0m\u001b[0m\n\u001b[0m\u001b[1;32m     23\u001b[0m         \u001b[0;32mreturn\u001b[0m \u001b[0;32mFalse\u001b[0m\u001b[0;34m\u001b[0m\u001b[0;34m\u001b[0m\u001b[0m\n\u001b[1;32m     24\u001b[0m \u001b[0;34m\u001b[0m\u001b[0m\n",
            "\u001b[0;31mNameError\u001b[0m: name 'ResponseError' is not defined"
          ]
        }
      ],
      "source": [
        "import requests\n",
        "\n",
        "# Carregar dados das bikes\n",
        "URL = \"https://raw.githubusercontent.com/gacerioni/redis-workshop-json-search-vs/master/deps/vector-intro/data/bikes.json\"\n",
        "bikes = requests.get(URL).json()\n",
        "index_name = \"idx:bikes_vss\"\n",
        "\n",
        "# Carregar dados no Redis\n",
        "pipeline = redis_conn.pipeline()\n",
        "for i, bike in enumerate(bikes, start=1):\n",
        "    redis_key = f\"bikes:{i:03}\"\n",
        "    pipeline.json().set(redis_key, \"$\", bike)\n",
        "pipeline.execute()\n",
        "\n",
        "\n",
        "# Function para checar se o index ja existe\n",
        "def index_exists(index_name):\n",
        "    try:\n",
        "        # Vai lancar um error se o index nao existir\n",
        "        redis.ft(index_name).info()\n",
        "        return True\n",
        "    except ResponseError:\n",
        "        return False\n",
        "\n",
        "# usa a function pra garantir uma exp atomica\n",
        "if index_exists(index_name):\n",
        "    print(\"Deleting older index version...\")\n",
        "    redis.execute_command(\"FT.DROPINDEX\", index_name)\n",
        "\n",
        "\n",
        "# Criar índice para busca vetorial\n",
        "from redis.commands.search.field import TextField, NumericField, VectorField\n",
        "from redis.commands.search.indexDefinition import IndexDefinition, IndexType\n",
        "\n",
        "VECTOR_DIMENSION = 384\n",
        "\n",
        "schema = [\n",
        "    TextField(\"$.model\", as_name=\"model\"),\n",
        "    TextField(\"$.brand\", as_name=\"brand\"),\n",
        "    NumericField(\"$.price\", as_name=\"price\"),\n",
        "    VectorField(\"$.description_embeddings\", \"FLAT\", {\"TYPE\": \"FLOAT32\", \"DIM\": VECTOR_DIMENSION, \"DISTANCE_METRIC\": \"COSINE\"}, as_name=\"vector\")\n",
        "]\n",
        "\n",
        "index_def = IndexDefinition(prefix=[\"bikes:\"], index_type=IndexType.JSON)\n",
        "redis_conn.ft(index_name).create_index(fields=schema, definition=index_def)\n"
      ]
    },
    {
      "cell_type": "code",
      "execution_count": null,
      "metadata": {
        "id": "iEIgz0Lvg9Im",
        "outputId": "240bfe88-381d-46f0-b959-8cbdc2c75aaf",
        "colab": {
          "base_uri": "https://localhost:8080/"
        }
      },
      "outputs": [
        {
          "output_type": "execute_result",
          "data": {
            "text/plain": [
              "True"
            ]
          },
          "metadata": {},
          "execution_count": 29
        }
      ],
      "source": [
        "# Testando via Python (redis-py)\n",
        "import redis\n",
        "redis = redis.Redis(\n",
        "  host=REDIS_HOST,\n",
        "  port=REDIS_PORT,\n",
        "  password=REDIS_PASSWORD)\n",
        "redis.ping()"
      ]
    },
    {
      "cell_type": "markdown",
      "source": [
        "## 1 - Importando e preparando as libs que iremos usar\n",
        "\n",
        "Este primeiro bloco vai garantir que todas as dependências estejam prontas pra gente brincar com o lab."
      ],
      "metadata": {
        "id": "NBVqcG1rhkU1"
      }
    },
    {
      "cell_type": "code",
      "execution_count": null,
      "metadata": {
        "id": "OsJLTPAb36Z3",
        "outputId": "52d7407d-73d7-4aa6-b5c1-859179691194",
        "colab": {
          "base_uri": "https://localhost:8080/"
        }
      },
      "outputs": [
        {
          "output_type": "execute_result",
          "data": {
            "text/plain": [
              "True"
            ]
          },
          "metadata": {},
          "execution_count": 30
        }
      ],
      "source": [
        "import json\n",
        "import time\n",
        "\n",
        "import numpy as np\n",
        "import pandas as pd\n",
        "import requests\n",
        "import redis\n",
        "from redis.commands.search.field import (\n",
        "    NumericField,\n",
        "    TagField,\n",
        "    TextField,\n",
        "    VectorField,\n",
        ")\n",
        "from redis.commands.search.indexDefinition import IndexDefinition, IndexType\n",
        "from redis.commands.search.query import Query\n",
        "from sentence_transformers import SentenceTransformer\n",
        "\n",
        "redis = redis.Redis(\n",
        "  host=REDIS_HOST,\n",
        "  port=REDIS_PORT,\n",
        "  password=REDIS_PASSWORD,\n",
        "  decode_responses=True)\n",
        "\n",
        "\n",
        "redis.ping()"
      ]
    },
    {
      "cell_type": "markdown",
      "source": [
        "\n",
        "## 2 - Carregando a massa de dados - Bikes\n",
        "\n",
        "Vamos ingerir uma pequena massa de dados que contém bikes e suas descrições... como um SKU da vida.\n",
        "\n",
        "\n",
        "\n"
      ],
      "metadata": {
        "id": "92yNW9uNbbI2"
      }
    },
    {
      "cell_type": "code",
      "source": [
        "URL = \"https://raw.githubusercontent.com/gacerioni/redis-workshop-json-search-vs/master/deps/vector-intro/data/bikes.json\"\n",
        "response = requests.get(URL, timeout=10)\n",
        "bikes = response.json()\n",
        "\n",
        "# vamos ver o que foi carregado\n",
        "json.dumps(bikes[0], indent=2)"
      ],
      "metadata": {
        "id": "gqjlZ2q1xQrT",
        "outputId": "a4f24cbd-53ed-4596-ec05-a9d25d7a42c4",
        "colab": {
          "base_uri": "https://localhost:8080/",
          "height": 128
        }
      },
      "execution_count": null,
      "outputs": [
        {
          "output_type": "execute_result",
          "data": {
            "text/plain": [
              "'{\\n  \"model\": \"Jigger\",\\n  \"brand\": \"Velorim\",\\n  \"price\": 270,\\n  \"type\": \"Bicicletas Infantis\",\\n  \"specs\": {\\n    \"material\": \"alum\\\\u00ednio\",\\n    \"weight\": \"10\"\\n  },\\n  \"description\": \"Pequena e poderosa, a Jigger \\\\u00e9 a melhor pedalada para os menores ciclistas! Esta \\\\u00e9 a menor bicicleta infantil com pedal no mercado dispon\\\\u00edvel sem freio de contrapedal, a Jigger \\\\u00e9 a escolha ideal para o raro pequeno tenaz pronto para partir. Dizemos raro porque esta pequena bicicleta n\\\\u00e3o \\\\u00e9 ideal para um iniciante nervoso, mas \\\\u00e9 um verdadeiro galope para um verdadeiro velocista. A Jigger \\\\u00e9 uma bicicleta infantil leve de 12 polegadas e atender\\\\u00e1 \\\\u00e0 necessidade de velocidade do seu pequeno. \\\\u00c9 uma bicicleta de uma \\\\u00fanica velocidade que torna o aprendizado a pedalar simples e intuitivo. Ela at\\\\u00e9 tem uma al\\\\u00e7a na parte inferior do selim para que voc\\\\u00ea possa ajudar seu filho facilmente durante o treinamento! A Jigger est\\\\u00e1 entre as bicicletas infantis mais leves do planeta. \\\\u00c9 projetada para que crian\\\\u00e7as de 2 a 3 anos se ajustem confortavelmente em uma posi\\\\u00e7\\\\u00e3o de pilotagem moldada que permite uma pedalada eficiente, manuseio equilibrado e agilidade. O design do quadro e as engrenagens da Jigger trabalham juntos para que seu jovem ciclista possa se levantar do selim, parar rapidamente, acelerar em trilhas e pistas de bombeamento. A Jigger \\\\u00e9 incr\\\\u00edvel em terra ou asfalto. Seu pequeno voar\\\\u00e1 pela ciclovia em pouco tempo. A Jigger ser\\\\u00e1 enviada com um freio de contrapedal. Um kit de roda livre \\\\u00e9 fornecido sem custo.\"\\n}'"
            ],
            "application/vnd.google.colaboratory.intrinsic+json": {
              "type": "string"
            }
          },
          "metadata": {},
          "execution_count": 31
        }
      ]
    },
    {
      "cell_type": "markdown",
      "metadata": {
        "id": "Gz5QOrxWCFd8"
      },
      "source": [
        "## 3 - Carregar os dados no Redis como JSON - Binary Tree (não é uma String)\n",
        "\n",
        "Vamos carregar essas bikes como documentos no Redis. Documentos JSON, claro!\n",
        "\n",
        "Vamos usar o conceito de pipeline, que pode ser muito útil com volumes maiores de dados. O Redis Cloud tem um proxy zero-latency aqui pra cuidar do multiplexing."
      ]
    },
    {
      "cell_type": "code",
      "execution_count": null,
      "metadata": {
        "id": "QEXNz8-TCEfA"
      },
      "outputs": [],
      "source": [
        "pipeline = redis.pipeline()\n",
        "for i, bike in enumerate(bikes, start=1):\n",
        "    redis_key = f\"bikes:{i:03}\"\n",
        "    pipeline.json().set(redis_key, \"$\", bike)\n",
        "res = pipeline.execute()"
      ]
    },
    {
      "cell_type": "markdown",
      "source": [
        "Com os dados carregados, podemos pegar trechos do documento JSON dessa maneira:"
      ],
      "metadata": {
        "id": "fDVJZXRSztc9"
      }
    },
    {
      "cell_type": "code",
      "source": [
        "res = redis.json().get(\"bikes:010\", \"$.model\")\n",
        "print(res)"
      ],
      "metadata": {
        "id": "_9F6gNawzy7Y",
        "outputId": "9bacd475-2237-4ef7-8309-b320d6624774",
        "colab": {
          "base_uri": "https://localhost:8080/"
        }
      },
      "execution_count": null,
      "outputs": [
        {
          "output_type": "stream",
          "name": "stdout",
          "text": [
            "['Summit']\n"
          ]
        }
      ]
    },
    {
      "cell_type": "markdown",
      "source": [
        "## 4 - Escolha um modelo de embedding que entenda o Português Brasileiro\n",
        "\n",
        "A **HuggingFace** possui um extenso catálogo de modelos de **embedding** de texto que podem ser servidos localmente através do framework **SentenceTransformers**.\n",
        "\n",
        "Os gringos costumam usar o modelo MS MARCO, amplamente utilizado em mecanismos de busca, chatbots e outras aplicações de IA.\n",
        "\n",
        "Entretanto, quero que este lab funcione com o nosso lindo idioma. Vamos fazer com `paraphrase-multilingual-MiniLM-L12-v2`"
      ],
      "metadata": {
        "id": "jgYqj5_Lz8rR"
      }
    },
    {
      "cell_type": "code",
      "source": [
        "from sentence_transformers import SentenceTransformer\n",
        "\n",
        "embedder = SentenceTransformer('sentence-transformers/paraphrase-multilingual-MiniLM-L12-v2')"
      ],
      "metadata": {
        "id": "sbqCAJWb0l9L"
      },
      "execution_count": null,
      "outputs": []
    },
    {
      "cell_type": "markdown",
      "source": [
        "## 5 - Hora do Show: Gerando os embeddings no Redis!\n",
        "\n",
        "O primeiro passo aqui é iterar e selecionar as chaves que vamos trabalhar. Neste caso, são as `bikes::`"
      ],
      "metadata": {
        "id": "xvFilp681AmO"
      }
    },
    {
      "cell_type": "code",
      "source": [
        "keys = sorted(redis.keys(\"bikes:*\"))"
      ],
      "metadata": {
        "id": "mHsq5iGH1R-3"
      },
      "execution_count": null,
      "outputs": []
    },
    {
      "cell_type": "markdown",
      "source": [
        "Agora, use as chaves como entrada para o comando `JSON.MGET`, juntamente com o campo `$.description`, para coletar as descrições em uma lista.\n",
        "\n",
        "Em seguida, passe a lista de descrições para o método `.encode()`:"
      ],
      "metadata": {
        "id": "FIF8YYro1bBs"
      }
    },
    {
      "cell_type": "code",
      "source": [
        "descriptions = redis.json().mget(keys, \"$.description\")\n",
        "\n",
        "descriptions = [item for sublist in descriptions for item in sublist]\n",
        "\n",
        "embedder = SentenceTransformer(\"sentence-transformers/paraphrase-multilingual-MiniLM-L12-v2\")\n",
        "\n",
        "embeddings = embedder.encode(descriptions).astype(np.float32).tolist()\n",
        "\n",
        "VECTOR_DIMENSION = len(embeddings[0])\n",
        "\n",
        "print(\"Gabs says: This ST creates embeddings with {0} dimensions. Redis MUST know that. :D\".format(VECTOR_DIMENSION))"
      ],
      "metadata": {
        "id": "khLoYslM1q1b",
        "outputId": "56eb62f4-a59d-4927-cfb6-b7824306caf0",
        "colab": {
          "base_uri": "https://localhost:8080/"
        }
      },
      "execution_count": null,
      "outputs": [
        {
          "output_type": "stream",
          "name": "stdout",
          "text": [
            "Gabs says: This ST creates embeddings with 384 dimensions. Redis MUST know that. :D\n"
          ]
        }
      ]
    },
    {
      "cell_type": "markdown",
      "source": [
        "Finalmente, insira as descrições vetorizadas nos documentos de bicicletas no Redis usando o comando `JSON.SET`.\n",
        "\n",
        "O seguinte comando insere um novo campo em cada um dos documentos sob o **JSONPath** `$.description_embeddings`.\n",
        "\n",
        "Mais uma vez, faça isso usando um **pipeline** para evitar viagens desnecessárias pela rede:"
      ],
      "metadata": {
        "id": "g62EnoWm2wsV"
      }
    },
    {
      "cell_type": "code",
      "source": [
        "#print(keys/embeddings)\n",
        "\n",
        "pipeline = redis.pipeline()\n",
        "for key, embedding in zip(keys, embeddings):\n",
        "    pipeline.json().set(key, \"$.description_embeddings\", embedding)\n",
        "pipeline.execute()"
      ],
      "metadata": {
        "id": "f2Va2HoB26lH",
        "outputId": "a52b2d83-d1ec-4302-ffc9-afb18d996967",
        "colab": {
          "base_uri": "https://localhost:8080/"
        }
      },
      "execution_count": null,
      "outputs": [
        {
          "output_type": "execute_result",
          "data": {
            "text/plain": [
              "[True, True, True, True, True, True, True, True, True, True, True]"
            ]
          },
          "metadata": {},
          "execution_count": 37
        }
      ]
    },
    {
      "cell_type": "markdown",
      "source": [
        "Vai ficar meio poluído aqui... mas olhem só como o dado está no Redis.\n",
        "\n",
        "Podem usar o RedisInsight também!"
      ],
      "metadata": {
        "id": "SkUTKW603XmT"
      }
    },
    {
      "cell_type": "code",
      "source": [
        "import json\n",
        "\n",
        "res = redis.json().get(\"bikes:010\")\n",
        "pretty_res = json.dumps(res, indent=4, ensure_ascii=False)\n",
        "print(pretty_res)\n"
      ],
      "metadata": {
        "id": "z3shMVt63dY1",
        "outputId": "0646ea60-6a4c-430e-c6be-d2d90c74c00b",
        "colab": {
          "base_uri": "https://localhost:8080/"
        }
      },
      "execution_count": null,
      "outputs": [
        {
          "output_type": "stream",
          "name": "stdout",
          "text": [
            "{\n",
            "    \"model\": \"Summit\",\n",
            "    \"brand\": \"nHill\",\n",
            "    \"price\": 1200,\n",
            "    \"type\": \"Bicicleta de Montanha\",\n",
            "    \"specs\": {\n",
            "        \"material\": \"liga\",\n",
            "        \"weight\": \"11.3\"\n",
            "    },\n",
            "    \"description\": \"Esta bicicleta de montanha econômica da nHill tem um bom desempenho tanto em ciclovias quanto em trilhas. O garfo com 100mm de curso absorve terrenos acidentados. Pneus largos Kenda Booster oferecem aderência em curvas e trilhas molhadas. A transmissão Shimano Tourney oferece engrenagens suficientes para encontrar um ritmo confortável para subir, e os freios a disco hidráulicos Tektro freiam suavemente. Se você quer uma bicicleta acessível que pode levar para o trabalho, mas também levar para trilhas nos fins de semana, ou está apenas atrás de uma pedalada estável e confortável na ciclovia, a Summit oferece um bom custo-benefício.\",\n",
            "    \"description_embeddings\": [\n",
            "        0.028230920433998108,\n",
            "        0.1364552080631256,\n",
            "        -0.06720077246427536,\n",
            "        -0.009281334467232227,\n",
            "        -0.0297839492559433,\n",
            "        -0.010982556268572807,\n",
            "        0.011184461414813995,\n",
            "        0.04645169526338577,\n",
            "        -0.072799451649189,\n",
            "        0.05653666704893112,\n",
            "        0.07619214802980423,\n",
            "        0.09316153824329376,\n",
            "        0.11220554262399672,\n",
            "        0.056698091328144073,\n",
            "        -0.04130023717880249,\n",
            "        -0.011682966724038124,\n",
            "        0.1695740967988968,\n",
            "        -0.04729960858821869,\n",
            "        0.1158277690410614,\n",
            "        0.042817287147045135,\n",
            "        0.00356485927477479,\n",
            "        -0.03255118429660797,\n",
            "        0.054266177117824554,\n",
            "        0.05544770509004593,\n",
            "        -0.04169517382979393,\n",
            "        -0.04137207195162773,\n",
            "        -0.11056438088417052,\n",
            "        0.13491882383823395,\n",
            "        0.00831487588584423,\n",
            "        -0.12339195609092712,\n",
            "        -0.06571592390537262,\n",
            "        0.036088600754737854,\n",
            "        -0.14750972390174866,\n",
            "        -0.051881127059459686,\n",
            "        -0.01530091930180788,\n",
            "        0.13227783143520355,\n",
            "        -0.04684579744935036,\n",
            "        -0.03445572406053543,\n",
            "        -0.10642005503177644,\n",
            "        0.06475254148244858,\n",
            "        -0.00481424480676651,\n",
            "        0.04353677481412888,\n",
            "        0.007239086553454399,\n",
            "        0.00048006291035562754,\n",
            "        0.12976187467575073,\n",
            "        0.03400333225727081,\n",
            "        0.006236526649445295,\n",
            "        0.06058528646826744,\n",
            "        -0.08861300349235535,\n",
            "        -0.02210460975766182,\n",
            "        0.0011324849911034107,\n",
            "        -0.014355246908962728,\n",
            "        0.022832777351140976,\n",
            "        -0.12128975987434389,\n",
            "        0.06082279607653618,\n",
            "        0.0007725815521553159,\n",
            "        -0.029294591397047043,\n",
            "        0.16452130675315857,\n",
            "        -0.112814761698246,\n",
            "        -0.04608693718910217,\n",
            "        0.17991003394126892,\n",
            "        -0.06469835340976715,\n",
            "        -0.021516218781471252,\n",
            "        -0.039458125829696655,\n",
            "        -0.09997941553592682,\n",
            "        -0.04481381177902222,\n",
            "        -0.04185470938682556,\n",
            "        0.04517694190144539,\n",
            "        -0.007642103359103203,\n",
            "        0.030617108568549156,\n",
            "        -0.07458069920539856,\n",
            "        -0.07455486059188843,\n",
            "        -0.04718492180109024,\n",
            "        -0.07858740538358688,\n",
            "        0.07637972384691238,\n",
            "        -0.010023577138781548,\n",
            "        -0.022396698594093323,\n",
            "        0.04504139721393585,\n",
            "        -0.14019718766212463,\n",
            "        -0.16207283735275269,\n",
            "        0.03505052253603935,\n",
            "        -0.08535797894001007,\n",
            "        -0.07634292542934418,\n",
            "        -0.11675518751144408,\n",
            "        0.07789283245801926,\n",
            "        0.05476291105151177,\n",
            "        0.10015584528446198,\n",
            "        0.0494033619761467,\n",
            "        0.01636551320552826,\n",
            "        -0.03548693656921387,\n",
            "        0.1624351441860199,\n",
            "        0.02371998131275177,\n",
            "        0.06313415616750717,\n",
            "        0.013515777885913847,\n",
            "        0.06598901748657227,\n",
            "        0.1599378138780594,\n",
            "        -0.04197291284799576,\n",
            "        -0.03593017905950546,\n",
            "        0.03878796845674515,\n",
            "        0.04313447326421738,\n",
            "        0.13034620881080627,\n",
            "        0.044610828161239624,\n",
            "        0.004174130968749523,\n",
            "        -0.007904687896370888,\n",
            "        -0.012295573018491268,\n",
            "        0.014566713012754915,\n",
            "        0.05260556563735008,\n",
            "        0.0015773221384733915,\n",
            "        -0.05736163258552551,\n",
            "        0.09380871057510376,\n",
            "        0.04268557205796242,\n",
            "        0.08436799049377441,\n",
            "        0.02035548910498619,\n",
            "        0.03927824646234512,\n",
            "        -0.0929483026266098,\n",
            "        -0.08502840995788574,\n",
            "        -0.2136412113904953,\n",
            "        0.0091767068952322,\n",
            "        -0.005343210883438587,\n",
            "        0.1306966245174408,\n",
            "        -0.13530370593070984,\n",
            "        -0.17591696977615356,\n",
            "        0.13555048406124115,\n",
            "        0.012189259752631187,\n",
            "        0.12885382771492004,\n",
            "        -0.131320983171463,\n",
            "        0.01588379591703415,\n",
            "        0.08272472769021988,\n",
            "        -0.08336745947599411,\n",
            "        0.014447563327848911,\n",
            "        0.0756986141204834,\n",
            "        -0.00389621127396822,\n",
            "        -0.05030471831560135,\n",
            "        -0.1419210433959961,\n",
            "        -0.10101128369569778,\n",
            "        -0.07914949953556061,\n",
            "        0.1056433767080307,\n",
            "        0.019182447344064713,\n",
            "        -0.1307558715343475,\n",
            "        0.11301317811012268,\n",
            "        -0.05907002463936806,\n",
            "        0.14780978858470917,\n",
            "        0.2708859443664551,\n",
            "        -0.04745626077055931,\n",
            "        -0.002950802445411682,\n",
            "        -0.004960156511515379,\n",
            "        -0.07746604084968567,\n",
            "        -0.10777778178453444,\n",
            "        0.03356839716434479,\n",
            "        -0.08367753773927689,\n",
            "        -0.005578593350946903,\n",
            "        -0.11065257340669632,\n",
            "        0.1304284930229187,\n",
            "        -0.006648961454629898,\n",
            "        0.07574836164712906,\n",
            "        0.018526237457990646,\n",
            "        -0.026483584195375443,\n",
            "        0.025709744542837143,\n",
            "        0.026867009699344635,\n",
            "        -0.07469804584980011,\n",
            "        -0.18636707961559296,\n",
            "        0.0488400012254715,\n",
            "        -0.04073483869433403,\n",
            "        0.033515702933073044,\n",
            "        -0.14924168586730957,\n",
            "        0.0006152964197099209,\n",
            "        -0.07748574018478394,\n",
            "        -0.03430800512433052,\n",
            "        -0.08522675931453705,\n",
            "        -0.11913362145423888,\n",
            "        0.011352996341884136,\n",
            "        -0.0006998698227107525,\n",
            "        0.0005813445895910263,\n",
            "        0.00745719438418746,\n",
            "        0.11461380124092102,\n",
            "        0.08660326898097992,\n",
            "        -0.2123522162437439,\n",
            "        0.07832857221364975,\n",
            "        -0.05166991055011749,\n",
            "        0.03144506365060806,\n",
            "        0.05091710388660431,\n",
            "        -0.017660684883594513,\n",
            "        -0.0008367393165826797,\n",
            "        -0.008650950156152248,\n",
            "        0.015357455238699911,\n",
            "        0.049618855118751526,\n",
            "        -0.10447591543197632,\n",
            "        0.1381313055753708,\n",
            "        0.03479577228426933,\n",
            "        -0.0023253262042999268,\n",
            "        -0.028132330626249313,\n",
            "        -0.001417418010532856,\n",
            "        0.09917300939559937,\n",
            "        0.09001944959163666,\n",
            "        -0.06125438958406448,\n",
            "        -0.007947947829961777,\n",
            "        -0.033454298973083496,\n",
            "        0.12772397696971893,\n",
            "        0.03088204935193062,\n",
            "        -0.10430089384317398,\n",
            "        -0.12351065874099731,\n",
            "        0.08624012023210526,\n",
            "        0.09196003526449203,\n",
            "        -0.06180747225880623,\n",
            "        -0.06348656117916107,\n",
            "        -0.05344792455434799,\n",
            "        0.05718693137168884,\n",
            "        -0.1224835366010666,\n",
            "        -0.07369012385606766,\n",
            "        0.10688427090644836,\n",
            "        0.055310219526290894,\n",
            "        -0.042633622884750366,\n",
            "        0.10736152529716492,\n",
            "        0.02074512280523777,\n",
            "        0.11768262088298798,\n",
            "        -0.05054232478141785,\n",
            "        0.0020840270444750786,\n",
            "        0.030778400599956512,\n",
            "        -0.1313214749097824,\n",
            "        0.04425510764122009,\n",
            "        0.017054321244359016,\n",
            "        -0.02580827847123146,\n",
            "        0.1232471615076065,\n",
            "        -0.20147716999053955,\n",
            "        -0.04733170196413994,\n",
            "        0.056292805820703506,\n",
            "        0.04416266828775406,\n",
            "        0.08283790946006775,\n",
            "        0.06730744242668152,\n",
            "        -0.08748169988393784,\n",
            "        0.006843159906566143,\n",
            "        -0.0013523362576961515,\n",
            "        -0.07297487556934357,\n",
            "        0.05675553530454635,\n",
            "        -0.20357294380664823,\n",
            "        -0.08407600969076157,\n",
            "        0.04765158891677856,\n",
            "        0.09267975389957428,\n",
            "        0.08361227810382843,\n",
            "        -0.10341346263885498,\n",
            "        0.042482368648052216,\n",
            "        -0.09457264840602876,\n",
            "        0.017295988276600838,\n",
            "        0.00874137319624424,\n",
            "        0.09051070362329484,\n",
            "        -0.04725491255521774,\n",
            "        0.010324647650122644,\n",
            "        0.03934391587972641,\n",
            "        0.06647884845733643,\n",
            "        0.1890529990196228,\n",
            "        -0.11173377931118011,\n",
            "        -0.10017731040716173,\n",
            "        -0.09606486558914185,\n",
            "        -0.034901805222034454,\n",
            "        -0.13410867750644684,\n",
            "        -0.1469537913799286,\n",
            "        0.0024464046582579613,\n",
            "        0.05257585272192955,\n",
            "        -0.17691820859909058,\n",
            "        0.11795417219400406,\n",
            "        -0.048450175672769547,\n",
            "        0.013341980054974556,\n",
            "        -0.1382441222667694,\n",
            "        -0.025001922622323036,\n",
            "        0.027274450287222866,\n",
            "        -0.11864307522773744,\n",
            "        0.020765826106071472,\n",
            "        -0.0005138330161571503,\n",
            "        0.04093572497367859,\n",
            "        -0.014926765114068983,\n",
            "        -0.033113762736320496,\n",
            "        -0.05493193492293358,\n",
            "        -0.032988086342811584,\n",
            "        -0.07618309557437897,\n",
            "        0.28584063053131104,\n",
            "        0.15650230646133423,\n",
            "        0.006984217092394829,\n",
            "        0.03770416975021362,\n",
            "        0.08354164659976959,\n",
            "        0.1122247353196144,\n",
            "        -0.013595947995781898,\n",
            "        -0.00721217505633831,\n",
            "        0.08194929361343384,\n",
            "        0.022965215146541595,\n",
            "        0.1291113793849945,\n",
            "        -0.07640819251537323,\n",
            "        -0.03744902089238167,\n",
            "        0.04459705948829651,\n",
            "        0.06903880089521408,\n",
            "        -0.13282378017902374,\n",
            "        0.04234139248728752,\n",
            "        -0.022512178868055344,\n",
            "        -0.04968299716711044,\n",
            "        0.004207736346870661,\n",
            "        -0.044175613671541214,\n",
            "        0.030780572444200516,\n",
            "        0.12607797980308533,\n",
            "        -0.038513101637363434,\n",
            "        0.10389931499958038,\n",
            "        0.01255627628415823,\n",
            "        0.10137313604354858,\n",
            "        0.08592873811721802,\n",
            "        -0.008887382224202156,\n",
            "        -0.1326238512992859,\n",
            "        -0.018409598618745804,\n",
            "        -0.0955488532781601,\n",
            "        0.06245151534676552,\n",
            "        -0.008869607001543045,\n",
            "        0.0961478278040886,\n",
            "        -0.009003221057355404,\n",
            "        -0.12020671367645264,\n",
            "        -0.11248672008514404,\n",
            "        0.02711145579814911,\n",
            "        0.12896320223808289,\n",
            "        0.17292656004428864,\n",
            "        0.111329086124897,\n",
            "        0.004309013951569796,\n",
            "        0.1630692183971405,\n",
            "        0.03664582967758179,\n",
            "        -0.20981991291046145,\n",
            "        0.05411821976304054,\n",
            "        -0.015276793390512466,\n",
            "        -0.19663292169570923,\n",
            "        0.01997695304453373,\n",
            "        0.007076469250023365,\n",
            "        0.0474478080868721,\n",
            "        0.038270123302936554,\n",
            "        -0.07466800510883331,\n",
            "        -0.00033536675618961453,\n",
            "        -0.016818467527627945,\n",
            "        0.0711108148097992,\n",
            "        0.08690077066421509,\n",
            "        0.006984148174524307,\n",
            "        0.16640928387641907,\n",
            "        -0.06977422535419464,\n",
            "        0.07971338927745819,\n",
            "        0.02136119268834591,\n",
            "        0.09538616240024568,\n",
            "        -0.11283870041370392,\n",
            "        -0.06272026896476746,\n",
            "        0.03982408717274666,\n",
            "        0.04153867810964584,\n",
            "        0.06177734583616257,\n",
            "        0.01053253747522831,\n",
            "        0.017418017610907555,\n",
            "        -0.0457470640540123,\n",
            "        -0.08475768566131592,\n",
            "        0.0001774849370121956,\n",
            "        0.12904442846775055,\n",
            "        -0.136481910943985,\n",
            "        -0.032751768827438354,\n",
            "        -0.07882745563983917,\n",
            "        -0.1488153338432312,\n",
            "        0.02247447893023491,\n",
            "        0.08717790246009827,\n",
            "        0.015695514157414436,\n",
            "        -0.15829013288021088,\n",
            "        0.18449795246124268,\n",
            "        0.027176471427083015,\n",
            "        -0.0704096257686615,\n",
            "        0.036514945328235626,\n",
            "        0.04574843496084213,\n",
            "        -0.07285697013139725,\n",
            "        0.10324202477931976,\n",
            "        0.04688366129994392,\n",
            "        -0.042939648032188416,\n",
            "        -0.22587785124778748,\n",
            "        -0.18215709924697876,\n",
            "        -0.009214084595441818,\n",
            "        0.08028947561979294,\n",
            "        0.04030897468328476,\n",
            "        -0.0994442254304886,\n",
            "        0.027397295460104942,\n",
            "        -0.022047128528356552,\n",
            "        0.10447581112384796,\n",
            "        0.09848987311124802,\n",
            "        -0.047304168343544006,\n",
            "        -0.1644785702228546,\n",
            "        -0.1437026709318161,\n",
            "        0.13661512732505798,\n",
            "        -0.002555263927206397,\n",
            "        -0.01906816102564335,\n",
            "        0.025895442813634872,\n",
            "        0.06917676329612732\n",
            "    ]\n",
            "}\n"
          ]
        }
      ]
    },
    {
      "cell_type": "markdown",
      "source": [
        "## 6 - Index e FT - Habilitando o Redis Query Engine nos dados\n",
        "\n",
        "Agora, devemos criar um **INDEX** para consultar metadados de documentos ou realizar buscas vetoriais também. Use o comando `FT.CREATE`.\n",
        "\n",
        "Aqui vai uma descrição mais completa do que estamos fazendo pro Redis entender o embedding como um vector array que pode ser usado nas consultas.\n",
        "\n",
        "Você pode encontrar mais detalhes sobre todas essas opções na documentação de referência de vetores.\n",
        "\n",
        "\n",
        "- **$.description_embeddings AS vector:** O caminho JSON do campo vetorial e seu alias de campo vector.\n",
        "- **FLAT:** Especifica o método de indexação, que pode ser um índice plano (flat index) ou um gráfico hierárquico navegável pequeno mundo (HNSW).\n",
        "- **TYPE FLOAT32:** Define a precisão de ponto flutuante de um componente do vetor, neste caso, um número de ponto flutuante de 32 bits.\n",
        "- **DIM 384:** O comprimento ou dimensão dos embeddings, determinado pelo modelo de incorporação escolhido.\n",
        "- **DISTANCE_METRIC COSINE:** A função de distância escolhida: distância cosseno.\n"
      ],
      "metadata": {
        "id": "9vbIsmbD4Bc9"
      }
    },
    {
      "cell_type": "code",
      "source": [
        "from redis.commands.search.field import (\n",
        "    NumericField,\n",
        "    TagField,\n",
        "    TextField,\n",
        "    VectorField,\n",
        ")\n",
        "from redis.commands.search.indexDefinition import IndexDefinition, IndexType\n",
        "from redis.exceptions import ResponseError\n",
        "\n",
        "# Function to check if the index exists\n",
        "def index_exists(index_name):\n",
        "    try:\n",
        "        # This will throw an error if the index does not exist\n",
        "        redis.ft(index_name).info()\n",
        "        return True\n",
        "    except ResponseError:\n",
        "        return False\n",
        "\n",
        "index_name = \"idx:bikes_vss\"\n",
        "\n",
        "# Check if the index exists and drop it if it does\n",
        "if index_exists(index_name):\n",
        "    print(\"Deleting older index version...\")\n",
        "    redis.execute_command(\"FT.DROPINDEX\", index_name)\n",
        "\n",
        "# Define the schema\n",
        "schema = (\n",
        "    TextField(\"$.model\", no_stem=True, as_name=\"model\"),\n",
        "    TextField(\"$.brand\", no_stem=True, as_name=\"brand\"),\n",
        "    NumericField(\"$.price\", as_name=\"price\"),\n",
        "    TagField(\"$.type\", as_name=\"type\"),\n",
        "    TextField(\"$.description\", as_name=\"description\"),\n",
        "    VectorField(\n",
        "        \"$.description_embeddings\",\n",
        "        \"FLAT\",\n",
        "        {\n",
        "            \"TYPE\": \"FLOAT32\",\n",
        "            \"DIM\": VECTOR_DIMENSION,\n",
        "            \"DISTANCE_METRIC\": \"COSINE\",\n",
        "        },\n",
        "        as_name=\"vector\",\n",
        "    ),\n",
        ")\n",
        "\n",
        "# Define the index definition\n",
        "definition = IndexDefinition(prefix=[\"bikes:\"], index_type=IndexType.JSON)\n",
        "\n",
        "# Create the index\n",
        "res = redis.ft(index_name).create_index(fields=schema, definition=definition)\n",
        "\n",
        "print(res)"
      ],
      "metadata": {
        "id": "EgZtslDL5ZzN",
        "outputId": "6c61655c-bfd2-4afd-b67f-3c8b2ebfaf6a",
        "colab": {
          "base_uri": "https://localhost:8080/"
        }
      },
      "execution_count": null,
      "outputs": [
        {
          "output_type": "stream",
          "name": "stdout",
          "text": [
            "OK\n"
          ]
        }
      ]
    },
    {
      "cell_type": "markdown",
      "source": [
        "Agora, vamos apenas garantir que a indexação foi tranquila... sem surpresas!"
      ],
      "metadata": {
        "id": "VRTjrTLC9n2v"
      }
    },
    {
      "cell_type": "code",
      "source": [
        "info = redis.ft(\"idx:bikes_vss\").info()\n",
        "num_docs = info[\"num_docs\"]\n",
        "indexing_failures = info[\"hash_indexing_failures\"]\n",
        "\n",
        "print(\"Documentos indexados: {0}\".format(num_docs))\n",
        "\n",
        "print(\"Falhas de Indexação: {0}\".format(indexing_failures))"
      ],
      "metadata": {
        "id": "f-j1Qc5i9rdE",
        "outputId": "3530c813-9e4a-46be-f3e2-8d43ab2194d4",
        "colab": {
          "base_uri": "https://localhost:8080/"
        }
      },
      "execution_count": null,
      "outputs": [
        {
          "output_type": "stream",
          "name": "stdout",
          "text": [
            "Documentos indexados: 11\n",
            "Falhas de Indexação: 0\n"
          ]
        }
      ]
    },
    {
      "cell_type": "markdown",
      "source": [
        "# Segunda Parte - Usando o Redis como um Vector DB pra valer\n",
        "\n",
        "Vou continuar no passo 7, pra não confundir vocês. Agora, vamos começar a brincar com os dados que estão lá no Redis.\n",
        "\n",
        "Acredito que o caminho mais racional e simples será fazer o embedding das queries que clientes fariam normalmente.\n",
        "\n",
        "Na minha humilde opinião, é o primeiro passo pra usar o Redis numa arquitetura RAG: vetores.\n",
        "\n",
        "## 7 - Carregando algumas queries no Python"
      ],
      "metadata": {
        "id": "nUcwBEdC-cwk"
      }
    },
    {
      "cell_type": "code",
      "source": [
        "queries = [\n",
        "           \"Bicicleta para crianças pequenas\",\n",
        "           \"Melhores bicicletas de montanha para crianças\",\n",
        "           \"Bicicleta de montanha barata para crianças\",\n",
        "           \"Bicicleta de montanha específica para mulheres\",\n",
        "           \"Bicicleta de estrada para iniciantes\",\n",
        "           \"Bicicleta de comutação para pessoas com mais de 60 anos\",\n",
        "           \"Bicicleta de comutação confortável\",\n",
        "           \"Boa bicicleta para estudantes universitários\",\n",
        "           \"Bicicleta de montanha para iniciantes\",\n",
        "           \"Bicicleta vintage\",\n",
        "           \"Bicicleta confortável para a cidade\"\n",
        "           ]\n"
      ],
      "metadata": {
        "id": "yWg2QVYf_S0a"
      },
      "execution_count": null,
      "outputs": []
    },
    {
      "cell_type": "markdown",
      "source": [
        "Vamos fazer o embedding de cada uma dessas queries... jogo rápido!"
      ],
      "metadata": {
        "id": "dIfhlXv2_hrH"
      }
    },
    {
      "cell_type": "code",
      "source": [
        "encoded_queries = embedder.encode(queries)\n",
        "len(encoded_queries)\n",
        "\n",
        "print(encoded_queries)"
      ],
      "metadata": {
        "id": "EdhXedRI_nvF",
        "outputId": "7185dade-7c90-4da3-a815-ec09099033d2",
        "colab": {
          "base_uri": "https://localhost:8080/"
        }
      },
      "execution_count": null,
      "outputs": [
        {
          "output_type": "stream",
          "name": "stdout",
          "text": [
            "[[ 0.02001647  0.737069   -0.16359873 ...  0.22224252  0.13291176\n",
            "   0.1805346 ]\n",
            " [-0.11804421  0.6186317   0.02967137 ... -0.06789754  0.01700302\n",
            "   0.14308521]\n",
            " [-0.07540765  0.7579044  -0.174123   ... -0.10637357 -0.18678775\n",
            "   0.04395986]\n",
            " ...\n",
            " [-0.09652202  0.41005573 -0.2518025  ... -0.05905791 -0.03811348\n",
            "  -0.12661776]\n",
            " [-0.14603637  0.73481745 -0.09919461 ... -0.27685368  0.26435688\n",
            "   0.16712727]\n",
            " [ 0.51777124  0.49398148 -0.26587296 ...  0.13598055 -0.13339096\n",
            "   0.14764398]]\n"
          ]
        }
      ]
    },
    {
      "cell_type": "markdown",
      "source": [
        "## 8 - Busca K-nearest neighbors (KNN)\n",
        "\n",
        "O algoritmo **KNN** calcula a distância entre o vetor de consulta e cada vetor no Redis com base na função de distância escolhida. Cosine, no nosso caso.\n",
        "\n",
        "Em seguida, retorna os **top K** itens com as menores distâncias ao vetor de consulta. *Estes são os itens mais semanticamente similares.*\n",
        "\n",
        "**Agora, construa uma consulta para fazer exatamente isso:**"
      ],
      "metadata": {
        "id": "5V441bYv_wMD"
      }
    },
    {
      "cell_type": "code",
      "source": [
        "query = (\n",
        "    Query('(*)=>[KNN 3 @vector $query_vector AS vector_score]')\n",
        "     .sort_by('vector_score')\n",
        "     .return_fields('vector_score', 'id', 'brand', 'model', 'description')\n",
        "     .dialect(2)\n",
        ")"
      ],
      "metadata": {
        "id": "gElYhYXsAFJc"
      },
      "execution_count": null,
      "outputs": []
    },
    {
      "cell_type": "markdown",
      "source": [
        "**Permita-me explicar aqui:**\n",
        "\n",
        "- A expressão de filtro (*) significa todos. Em outras palavras, nenhum filtro foi aplicado. Você pode substituí-la por uma expressão que filtre por metadados adicionais. Inclusive GeoLocation.\n",
        "\n",
        "- A parte **KNN** da consulta procura os 3 vizinhos mais próximos.\n",
        "- O vetor de consulta deve ser passado como o parâmetro `query_vector`.\n",
        "- A distância ao vetor de consulta é retornada como `vector_score`.\n",
        "- Os resultados são classificados por este `vector_score`.\n",
        "- Por fim, retorna os campos `vector_score, id, brand, model e description` para cada resultado."
      ],
      "metadata": {
        "id": "z0N7lD8gATu2"
      }
    },
    {
      "cell_type": "markdown",
      "source": [
        "\n",
        "## 9 - Como usar a query contra o Redis?\n",
        "\n",
        "**Agora, você deve passar a consulta vetorizada como um array de bytes com o nome do parâmetro query_vector.**\\\n",
        "O código a seguir cria um array **NumPy** em Python a partir do vetor de consulta e o converte em uma representação compacta em nível de byte que pode ser passada como um parâmetro para a consulta:\n",
        "\n",
        "```\n",
        "redis.ft('idx:bikes_vss').search(\n",
        "    query,\n",
        "    {\n",
        "      'query_vector': np.array(encoded_query, dtype=np.float32).tobytes()\n",
        "    }\n",
        ").docs\n",
        "```\n",
        "\n",
        "Com o template para a consulta pronto, você pode executar todas as consultas em um loop. Observe que o script calcula o vector_score para cada resultado como 1 - doc.vector_score. Como a distância cosseno é usada como a métrica, os itens com a menor distância estão mais próximos e, portanto, são mais similares à consulta.\n",
        "\n",
        "Em seguida, faça um loop sobre os documentos correspondentes e crie uma lista de resultados que pode ser convertida em uma tabela Pandas para visualizar os resultados:"
      ],
      "metadata": {
        "id": "E5CRd3mHBoPq"
      }
    },
    {
      "cell_type": "code",
      "source": [
        "def create_query_table(query, queries, encoded_queries, extra_params=None):\n",
        "    \"\"\"\n",
        "    Creates a query table.\n",
        "    \"\"\"\n",
        "    results_list = []\n",
        "    for i, encoded_query in enumerate(encoded_queries):\n",
        "        result_docs = (\n",
        "            redis.ft(\"idx:bikes_vss\")\n",
        "            .search(\n",
        "                query,\n",
        "                {\"query_vector\": np.array(encoded_query, dtype=np.float32).tobytes()}\n",
        "                | (extra_params if extra_params else {}),\n",
        "            )\n",
        "            .docs\n",
        "        )\n",
        "        for doc in result_docs:\n",
        "            vector_score = round(1 - float(doc.vector_score), 2)\n",
        "            results_list.append(\n",
        "                {\n",
        "                    \"query\": queries[i],\n",
        "                    \"score\": vector_score,\n",
        "                    \"id\": doc.id,\n",
        "                    \"brand\": doc.brand,\n",
        "                    \"model\": doc.model,\n",
        "                    \"description\": doc.description,\n",
        "                }\n",
        "            )\n",
        "\n",
        "    # Optional: convert the table to Markdown using Pandas\n",
        "    queries_table = pd.DataFrame(results_list)\n",
        "    queries_table.sort_values(\n",
        "        by=[\"query\", \"score\"], ascending=[True, False], inplace=True\n",
        "    )\n",
        "    queries_table[\"query\"] = queries_table.groupby(\"query\")[\"query\"].transform(\n",
        "        lambda x: [x.iloc[0]] + [\"\"] * (len(x) - 1)\n",
        "    )\n",
        "    queries_table[\"description\"] = queries_table[\"description\"].apply(\n",
        "        lambda x: (x[:497] + \"...\") if len(x) > 500 else x\n",
        "    )\n",
        "    return queries_table.to_markdown(index=False)"
      ],
      "metadata": {
        "id": "wEQG-XFsBuEr"
      },
      "execution_count": null,
      "outputs": []
    },
    {
      "cell_type": "markdown",
      "source": [
        "Os resultados da consulta mostram as três melhores correspondências (nosso parâmetro K) de cada consulta individual, juntamente com o id, a marca e o modelo da bicicleta para cada consulta.\n",
        "\n",
        "Por exemplo, para a consulta \"Melhores bicicletas de montanha para crianças\", a maior pontuação de similaridade (>0.60) e, portanto, a correspondência mais próxima foi a bicicleta da marca 'Nord' modelo 'Chook air 5', descrita como:\n",
        "\n",
        "\n",
        "\n",
        "> A Chook Air 5 oferece às crianças a partir de seis anos uma bicicleta de montanha durável e superleve para sua primeira experiência em trilhas e cruzeiros fáceis por florestas e campos. O tubo superior mais baixo facilita montar e desmontar em qualquer situação, proporcionando mais segurança para seus filhos nas trilhas. A Chook Air 5 é a introdução perfeita ao mountain biking.\n",
        "\n",
        "Pela descrição, esta bicicleta é uma excelente escolha para crianças mais novas, e os embeddings capturaram com precisão a semântica da descrição.\n",
        "\n"
      ],
      "metadata": {
        "id": "4FTQfqg0CAs6"
      }
    },
    {
      "cell_type": "code",
      "source": [
        "query = (\n",
        "    Query(\"(*)=>[KNN 3 @vector $query_vector AS vector_score]\")\n",
        "    .sort_by(\"vector_score\")\n",
        "    .return_fields(\"vector_score\", \"id\", \"brand\", \"model\", \"description\")\n",
        "    .dialect(2)\n",
        ")\n",
        "\n",
        "table = create_query_table(query, queries, encoded_queries)\n",
        "print(table)"
      ],
      "metadata": {
        "id": "MFyOXkysCaMI",
        "outputId": "89ba5c84-1d14-4c1a-af96-c225369dfebd",
        "colab": {
          "base_uri": "https://localhost:8080/"
        }
      },
      "execution_count": null,
      "outputs": [
        {
          "output_type": "stream",
          "name": "stdout",
          "text": [
            "| query                                                   |   score | id        | brand      | model         | description                                                                                                                                                                                                                                                                                                                                                                                                                                                                                                          |\n",
            "|:--------------------------------------------------------|--------:|:----------|:-----------|:--------------|:---------------------------------------------------------------------------------------------------------------------------------------------------------------------------------------------------------------------------------------------------------------------------------------------------------------------------------------------------------------------------------------------------------------------------------------------------------------------------------------------------------------------|\n",
            "| Bicicleta confortável para a cidade                     |    0.68 | bikes:011 | BikeShind  | ThrillCycle   | Uma bicicleta artística, inspirada no estilo retrô, que é tão funcional quanto bonita: O quadro de aço da ThrillCycle oferece uma pedalada suave. Uma transmissão de 9 velocidades tem marchas suficientes para deslizar pela cidade, mas não sugerimos levá-la para as montanhas. Os para-lamas protegem contra lama, e uma cesta traseira permite transportar mantimentos, flores e livros. A ThrillCycle vem com uma garantia limitada vitalícia, então essa pequena durará muito além da formatura.              |\n",
            "|                                                         |    0.68 | bikes:009 | Peaknetic  | Secto         | Se você tem dificuldades com dedos rígidos ou pescoço ou costas travadas após alguns minutos na estrada, esta bicicleta leve de alumínio alivia esses problemas e permite que você desfrute da pedalada. Desde os manetes ergonômicos até a posição do assento com suporte lombar, a Roll Low-Entry oferece um conforto incrível. O tubo de assento inclinado para trás facilita a estabilidade, permitindo que você coloque um pé no chão para se equilibrar ao parar, e o quadro de entrada baixa torna acessív... |\n",
            "|                                                         |    0.57 | bikes:010 | nHill      | Summit        | Esta bicicleta de montanha econômica da nHill tem um bom desempenho tanto em ciclovias quanto em trilhas. O garfo com 100mm de curso absorve terrenos acidentados. Pneus largos Kenda Booster oferecem aderência em curvas e trilhas molhadas. A transmissão Shimano Tourney oferece engrenagens suficientes para encontrar um ritmo confortável para subir, e os freios a disco hidráulicos Tektro freiam suavemente. Se você quer uma bicicleta acessível que pode levar para o trabalho, mas também levar para... |\n",
            "| Bicicleta de comutação confortável                      |    0.75 | bikes:009 | Peaknetic  | Secto         | Se você tem dificuldades com dedos rígidos ou pescoço ou costas travadas após alguns minutos na estrada, esta bicicleta leve de alumínio alivia esses problemas e permite que você desfrute da pedalada. Desde os manetes ergonômicos até a posição do assento com suporte lombar, a Roll Low-Entry oferece um conforto incrível. O tubo de assento inclinado para trás facilita a estabilidade, permitindo que você coloque um pé no chão para se equilibrar ao parar, e o quadro de entrada baixa torna acessív... |\n",
            "|                                                         |    0.72 | bikes:011 | BikeShind  | ThrillCycle   | Uma bicicleta artística, inspirada no estilo retrô, que é tão funcional quanto bonita: O quadro de aço da ThrillCycle oferece uma pedalada suave. Uma transmissão de 9 velocidades tem marchas suficientes para deslizar pela cidade, mas não sugerimos levá-la para as montanhas. Os para-lamas protegem contra lama, e uma cesta traseira permite transportar mantimentos, flores e livros. A ThrillCycle vem com uma garantia limitada vitalícia, então essa pequena durará muito além da formatura.              |\n",
            "|                                                         |    0.69 | bikes:006 | Breakout   | XBN 2.1 Alloy | A XBN 2.1 Alloy é nossa bicicleta de estrada de nível básico – mas isso não significa que seja uma máquina básica. Com um quadro de alumínio soldado internamente, um garfo totalmente em carbono e as engrenagens Claris de mudança suave da Shimano, esta é uma bicicleta que não custa uma fortuna e oferece o desempenho desejado. O quadro de liga 6061 é triplo rebitado, o que garante um peso mais leve e uma pedalada mais suave. E é confortável com estais de assento rebaixados e o garfo de carbono.... |\n",
            "| Bicicleta de comutação para pessoas com mais de 60 anos |    0.64 | bikes:009 | Peaknetic  | Secto         | Se você tem dificuldades com dedos rígidos ou pescoço ou costas travadas após alguns minutos na estrada, esta bicicleta leve de alumínio alivia esses problemas e permite que você desfrute da pedalada. Desde os manetes ergonômicos até a posição do assento com suporte lombar, a Roll Low-Entry oferece um conforto incrível. O tubo de assento inclinado para trás facilita a estabilidade, permitindo que você coloque um pé no chão para se equilibrar ao parar, e o quadro de entrada baixa torna acessív... |\n",
            "|                                                         |    0.61 | bikes:004 | Eva        | Eva 291       | A empresa irmã da Nord, a Eva foi lançada em 2005 como a primeira e única marca de bicicletas dedicada às mulheres. Projetadas por mulheres para mulheres, todas as bicicletas Eva são otimizadas para o físico feminino usando análises de um banco de dados de métricas corporais. Se você gosta de 29ers, experimente a Eva 291. É uma bicicleta totalmente nova para 2022. Esta bicicleta de suspensão total para cross-country foi projetada para velocidade. A 291 tem 100mm de curso dianteiro e traseiro,... |\n",
            "|                                                         |    0.61 | bikes:011 | BikeShind  | ThrillCycle   | Uma bicicleta artística, inspirada no estilo retrô, que é tão funcional quanto bonita: O quadro de aço da ThrillCycle oferece uma pedalada suave. Uma transmissão de 9 velocidades tem marchas suficientes para deslizar pela cidade, mas não sugerimos levá-la para as montanhas. Os para-lamas protegem contra lama, e uma cesta traseira permite transportar mantimentos, flores e livros. A ThrillCycle vem com uma garantia limitada vitalícia, então essa pequena durará muito além da formatura.              |\n",
            "| Bicicleta de estrada para iniciantes                    |    0.7  | bikes:011 | BikeShind  | ThrillCycle   | Uma bicicleta artística, inspirada no estilo retrô, que é tão funcional quanto bonita: O quadro de aço da ThrillCycle oferece uma pedalada suave. Uma transmissão de 9 velocidades tem marchas suficientes para deslizar pela cidade, mas não sugerimos levá-la para as montanhas. Os para-lamas protegem contra lama, e uma cesta traseira permite transportar mantimentos, flores e livros. A ThrillCycle vem com uma garantia limitada vitalícia, então essa pequena durará muito além da formatura.              |\n",
            "|                                                         |    0.69 | bikes:009 | Peaknetic  | Secto         | Se você tem dificuldades com dedos rígidos ou pescoço ou costas travadas após alguns minutos na estrada, esta bicicleta leve de alumínio alivia esses problemas e permite que você desfrute da pedalada. Desde os manetes ergonômicos até a posição do assento com suporte lombar, a Roll Low-Entry oferece um conforto incrível. O tubo de assento inclinado para trás facilita a estabilidade, permitindo que você coloque um pé no chão para se equilibrar ao parar, e o quadro de entrada baixa torna acessív... |\n",
            "|                                                         |    0.69 | bikes:010 | nHill      | Summit        | Esta bicicleta de montanha econômica da nHill tem um bom desempenho tanto em ciclovias quanto em trilhas. O garfo com 100mm de curso absorve terrenos acidentados. Pneus largos Kenda Booster oferecem aderência em curvas e trilhas molhadas. A transmissão Shimano Tourney oferece engrenagens suficientes para encontrar um ritmo confortável para subir, e os freios a disco hidráulicos Tektro freiam suavemente. Se você quer uma bicicleta acessível que pode levar para o trabalho, mas também levar para... |\n",
            "| Bicicleta de montanha barata para crianças              |    0.67 | bikes:003 | Nord       | Chook air 5   | A Chook Air 5 oferece às crianças com seis anos ou mais uma bicicleta de montanha durável e superleve para sua primeira experiência em trilhas e cruzeiros fáceis através de florestas e campos. O tubo superior mais baixo facilita montar e desmontar em qualquer situação, proporcionando mais segurança nas trilhas. A Chook Air 5 é a introdução perfeita ao mountain biking.                                                                                                                                   |\n",
            "|                                                         |    0.67 | bikes:001 | Velorim    | Jigger        | Pequena e poderosa, a Jigger é a melhor pedalada para os menores ciclistas! Esta é a menor bicicleta infantil com pedal no mercado disponível sem freio de contrapedal, a Jigger é a escolha ideal para o raro pequeno tenaz pronto para partir. Dizemos raro porque esta pequena bicicleta não é ideal para um iniciante nervoso, mas é um verdadeiro galope para um verdadeiro velocista. A Jigger é uma bicicleta infantil leve de 12 polegadas e atenderá à necessidade de velocidade do seu pequeno. É uma b... |\n",
            "|                                                         |    0.67 | bikes:002 | Bicyk      | Hillcraft     | Crianças querem pedalar com o mínimo de peso possível. Especialmente em uma subida! Eles podem estar na idade em que uma bicicleta com roda de 27,5\" é simplesmente muito desajeitada ao sair de uma bicicleta de 24\". A Hillcraft 26 é exatamente a solução que eles precisam! Imagine 120mm de curso. Boost dianteiro/traseiro. Você não tem NADA para ajustar porque é fácil de montar diretamente da caixa. A Hillcraft 26 é uma máquina eficiente de trilhas. Subir ou descer não importa - domine as trilha... |\n",
            "| Bicicleta de montanha específica para mulheres          |    0.73 | bikes:005 | Noka Bikes | Kahuna        | Seja você querendo experimentar corridas de XC ou procurando uma bicicleta de trilha animada que seja tão inspiradora nas subidas quanto é no terreno acidentado, a Wilder é uma bicicleta incrível construída especificamente para mulheres baixas. Tanto os quadros quanto os componentes foram ajustados para incluir um selim feminino, guidões diferentes e uma paleta de cores única.                                                                                                                          |\n",
            "|                                                         |    0.71 | bikes:004 | Eva        | Eva 291       | A empresa irmã da Nord, a Eva foi lançada em 2005 como a primeira e única marca de bicicletas dedicada às mulheres. Projetadas por mulheres para mulheres, todas as bicicletas Eva são otimizadas para o físico feminino usando análises de um banco de dados de métricas corporais. Se você gosta de 29ers, experimente a Eva 291. É uma bicicleta totalmente nova para 2022. Esta bicicleta de suspensão total para cross-country foi projetada para velocidade. A 291 tem 100mm de curso dianteiro e traseiro,... |\n",
            "|                                                         |    0.63 | bikes:009 | Peaknetic  | Secto         | Se você tem dificuldades com dedos rígidos ou pescoço ou costas travadas após alguns minutos na estrada, esta bicicleta leve de alumínio alivia esses problemas e permite que você desfrute da pedalada. Desde os manetes ergonômicos até a posição do assento com suporte lombar, a Roll Low-Entry oferece um conforto incrível. O tubo de assento inclinado para trás facilita a estabilidade, permitindo que você coloque um pé no chão para se equilibrar ao parar, e o quadro de entrada baixa torna acessív... |\n",
            "| Bicicleta de montanha para iniciantes                   |    0.74 | bikes:010 | nHill      | Summit        | Esta bicicleta de montanha econômica da nHill tem um bom desempenho tanto em ciclovias quanto em trilhas. O garfo com 100mm de curso absorve terrenos acidentados. Pneus largos Kenda Booster oferecem aderência em curvas e trilhas molhadas. A transmissão Shimano Tourney oferece engrenagens suficientes para encontrar um ritmo confortável para subir, e os freios a disco hidráulicos Tektro freiam suavemente. Se você quer uma bicicleta acessível que pode levar para o trabalho, mas também levar para... |\n",
            "|                                                         |    0.71 | bikes:011 | BikeShind  | ThrillCycle   | Uma bicicleta artística, inspirada no estilo retrô, que é tão funcional quanto bonita: O quadro de aço da ThrillCycle oferece uma pedalada suave. Uma transmissão de 9 velocidades tem marchas suficientes para deslizar pela cidade, mas não sugerimos levá-la para as montanhas. Os para-lamas protegem contra lama, e uma cesta traseira permite transportar mantimentos, flores e livros. A ThrillCycle vem com uma garantia limitada vitalícia, então essa pequena durará muito além da formatura.              |\n",
            "|                                                         |    0.66 | bikes:009 | Peaknetic  | Secto         | Se você tem dificuldades com dedos rígidos ou pescoço ou costas travadas após alguns minutos na estrada, esta bicicleta leve de alumínio alivia esses problemas e permite que você desfrute da pedalada. Desde os manetes ergonômicos até a posição do assento com suporte lombar, a Roll Low-Entry oferece um conforto incrível. O tubo de assento inclinado para trás facilita a estabilidade, permitindo que você coloque um pé no chão para se equilibrar ao parar, e o quadro de entrada baixa torna acessív... |\n",
            "| Bicicleta para crianças pequenas                        |    0.67 | bikes:001 | Velorim    | Jigger        | Pequena e poderosa, a Jigger é a melhor pedalada para os menores ciclistas! Esta é a menor bicicleta infantil com pedal no mercado disponível sem freio de contrapedal, a Jigger é a escolha ideal para o raro pequeno tenaz pronto para partir. Dizemos raro porque esta pequena bicicleta não é ideal para um iniciante nervoso, mas é um verdadeiro galope para um verdadeiro velocista. A Jigger é uma bicicleta infantil leve de 12 polegadas e atenderá à necessidade de velocidade do seu pequeno. É uma b... |\n",
            "|                                                         |    0.61 | bikes:009 | Peaknetic  | Secto         | Se você tem dificuldades com dedos rígidos ou pescoço ou costas travadas após alguns minutos na estrada, esta bicicleta leve de alumínio alivia esses problemas e permite que você desfrute da pedalada. Desde os manetes ergonômicos até a posição do assento com suporte lombar, a Roll Low-Entry oferece um conforto incrível. O tubo de assento inclinado para trás facilita a estabilidade, permitindo que você coloque um pé no chão para se equilibrar ao parar, e o quadro de entrada baixa torna acessív... |\n",
            "|                                                         |    0.6  | bikes:003 | Nord       | Chook air 5   | A Chook Air 5 oferece às crianças com seis anos ou mais uma bicicleta de montanha durável e superleve para sua primeira experiência em trilhas e cruzeiros fáceis através de florestas e campos. O tubo superior mais baixo facilita montar e desmontar em qualquer situação, proporcionando mais segurança nas trilhas. A Chook Air 5 é a introdução perfeita ao mountain biking.                                                                                                                                   |\n",
            "| Bicicleta vintage                                       |    0.57 | bikes:004 | Eva        | Eva 291       | A empresa irmã da Nord, a Eva foi lançada em 2005 como a primeira e única marca de bicicletas dedicada às mulheres. Projetadas por mulheres para mulheres, todas as bicicletas Eva são otimizadas para o físico feminino usando análises de um banco de dados de métricas corporais. Se você gosta de 29ers, experimente a Eva 291. É uma bicicleta totalmente nova para 2022. Esta bicicleta de suspensão total para cross-country foi projetada para velocidade. A 291 tem 100mm de curso dianteiro e traseiro,... |\n",
            "|                                                         |    0.53 | bikes:005 | Noka Bikes | Kahuna        | Seja você querendo experimentar corridas de XC ou procurando uma bicicleta de trilha animada que seja tão inspiradora nas subidas quanto é no terreno acidentado, a Wilder é uma bicicleta incrível construída especificamente para mulheres baixas. Tanto os quadros quanto os componentes foram ajustados para incluir um selim feminino, guidões diferentes e uma paleta de cores única.                                                                                                                          |\n",
            "|                                                         |    0.49 | bikes:011 | BikeShind  | ThrillCycle   | Uma bicicleta artística, inspirada no estilo retrô, que é tão funcional quanto bonita: O quadro de aço da ThrillCycle oferece uma pedalada suave. Uma transmissão de 9 velocidades tem marchas suficientes para deslizar pela cidade, mas não sugerimos levá-la para as montanhas. Os para-lamas protegem contra lama, e uma cesta traseira permite transportar mantimentos, flores e livros. A ThrillCycle vem com uma garantia limitada vitalícia, então essa pequena durará muito além da formatura.              |\n",
            "| Boa bicicleta para estudantes universitários            |    0.58 | bikes:005 | Noka Bikes | Kahuna        | Seja você querendo experimentar corridas de XC ou procurando uma bicicleta de trilha animada que seja tão inspiradora nas subidas quanto é no terreno acidentado, a Wilder é uma bicicleta incrível construída especificamente para mulheres baixas. Tanto os quadros quanto os componentes foram ajustados para incluir um selim feminino, guidões diferentes e uma paleta de cores única.                                                                                                                          |\n",
            "|                                                         |    0.57 | bikes:009 | Peaknetic  | Secto         | Se você tem dificuldades com dedos rígidos ou pescoço ou costas travadas após alguns minutos na estrada, esta bicicleta leve de alumínio alivia esses problemas e permite que você desfrute da pedalada. Desde os manetes ergonômicos até a posição do assento com suporte lombar, a Roll Low-Entry oferece um conforto incrível. O tubo de assento inclinado para trás facilita a estabilidade, permitindo que você coloque um pé no chão para se equilibrar ao parar, e o quadro de entrada baixa torna acessív... |\n",
            "|                                                         |    0.56 | bikes:004 | Eva        | Eva 291       | A empresa irmã da Nord, a Eva foi lançada em 2005 como a primeira e única marca de bicicletas dedicada às mulheres. Projetadas por mulheres para mulheres, todas as bicicletas Eva são otimizadas para o físico feminino usando análises de um banco de dados de métricas corporais. Se você gosta de 29ers, experimente a Eva 291. É uma bicicleta totalmente nova para 2022. Esta bicicleta de suspensão total para cross-country foi projetada para velocidade. A 291 tem 100mm de curso dianteiro e traseiro,... |\n",
            "| Melhores bicicletas de montanha para crianças           |    0.66 | bikes:003 | Nord       | Chook air 5   | A Chook Air 5 oferece às crianças com seis anos ou mais uma bicicleta de montanha durável e superleve para sua primeira experiência em trilhas e cruzeiros fáceis através de florestas e campos. O tubo superior mais baixo facilita montar e desmontar em qualquer situação, proporcionando mais segurança nas trilhas. A Chook Air 5 é a introdução perfeita ao mountain biking.                                                                                                                                   |\n",
            "|                                                         |    0.63 | bikes:001 | Velorim    | Jigger        | Pequena e poderosa, a Jigger é a melhor pedalada para os menores ciclistas! Esta é a menor bicicleta infantil com pedal no mercado disponível sem freio de contrapedal, a Jigger é a escolha ideal para o raro pequeno tenaz pronto para partir. Dizemos raro porque esta pequena bicicleta não é ideal para um iniciante nervoso, mas é um verdadeiro galope para um verdadeiro velocista. A Jigger é uma bicicleta infantil leve de 12 polegadas e atenderá à necessidade de velocidade do seu pequeno. É uma b... |\n",
            "|                                                         |    0.63 | bikes:002 | Bicyk      | Hillcraft     | Crianças querem pedalar com o mínimo de peso possível. Especialmente em uma subida! Eles podem estar na idade em que uma bicicleta com roda de 27,5\" é simplesmente muito desajeitada ao sair de uma bicicleta de 24\". A Hillcraft 26 é exatamente a solução que eles precisam! Imagine 120mm de curso. Boost dianteiro/traseiro. Você não tem NADA para ajustar porque é fácil de montar diretamente da caixa. A Hillcraft 26 é uma máquina eficiente de trilhas. Subir ou descer não importa - domine as trilha... |\n"
          ]
        }
      ]
    }
  ],
  "metadata": {
    "accelerator": "GPU",
    "colab": {
      "provenance": [],
      "include_colab_link": true
    },
    "gpuClass": "standard",
    "kernelspec": {
      "display_name": "Python 3",
      "name": "python3"
    },
    "language_info": {
      "name": "python",
      "version": "3.9.6"
    }
  },
  "nbformat": 4,
  "nbformat_minor": 0
}