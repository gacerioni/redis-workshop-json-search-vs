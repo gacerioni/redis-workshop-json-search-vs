{
  "cells": [
    {
      "cell_type": "markdown",
      "metadata": {
        "id": "view-in-github",
        "colab_type": "text"
      },
      "source": [
        "<a href=\"https://colab.research.google.com/github/gacerioni/redis-workshop-json-search-vs/blob/master/redis_workshop_vector_intro_pt_br_gabs.ipynb\" target=\"_parent\"><img src=\"https://colab.research.google.com/assets/colab-badge.svg\" alt=\"Open In Colab\"/></a>"
      ]
    },
    {
      "cell_type": "markdown",
      "metadata": {
        "id": "tRlp93K0C1q8"
      },
      "source": [
        "# Workshop - Redis como VectorDB - INTRO (TEM OUTROS!)\n",
        "\n",
        "## Vector Searches & Large Language Models\n",
        "\n",
        "![Redis](https://redis.io/wp-content/uploads/2024/04/Logotype.svg?auto=webp&quality=85,75&width=120)\n",
        "\n",
        "\n",
        "Bem-vind[ao]s ao Workshop! Vamos ter uma experiência hands-on sobre alguns temas centrais do Redis, bem além do Caching.\n",
        "\n",
        "\n",
        "Para uma experiência premium, como a que eu quero que vocês tenham, recomendo MUITO utilizar o Redis Insight (App ou Web) pra apoiar na visualização dos dados.\n",
        "\n",
        "https://redis.com/redis-enterprise/redis-insight/\n",
        "\n",
        "---\n",
        "\n",
        "Novamente, vamos direto ao ponto. Para pegar o fio da meada, passando pela introdução, veja este outro notebook [aqui](https://colab.research.google.com/github/gacerioni/redis-workshop-json-search-vs/blob/master/redis-workshop-vector-similarity-search.ipynb).\n",
        "\n",
        "---\n",
        "\n",
        "## Objetivos do Workshop\n",
        "\n",
        "Este Notebook é uma pequena demonstração do Redis como um Vector DB. Depois, vamos ver uma implementação de RAG e Semantic/LLM Caching.\n",
        "\n",
        "\n",
        "Espero que gostem! 🖖\n",
        "\n",
        "\n",
        "## Conceito - Bancos de dados de vetores\n",
        "\n",
        "Os dados são frequentemente não estruturados, o que significa que não são descritos por um esquema bem definido. Exemplos de dados não estruturados incluem trechos de texto, imagens, vídeos ou áudio. Uma abordagem para armazenar e pesquisar dados não estruturados é usar embeddings de vetores.\n",
        "\n",
        "**O que são vetores?**\\\n",
        "Em aprendizado de máquina e IA, vetores são sequências de números que representam dados. Eles são as entradas e saídas dos modelos, encapsulando informações subjacentes em uma forma numérica. Vetores transformam dados não estruturados, como textos, imagens, vídeos e áudios, em um formato que os modelos de aprendizado de máquina podem processar.\n",
        "\n",
        "**Por que eles são importantes?**\\\n",
        "Vetores capturam padrões complexos e significados semânticos inerentes aos dados, tornando-os ferramentas poderosas para uma variedade de aplicações. Eles permitem que modelos de aprendizado de máquina compreendam e manipulem dados não estruturados de forma mais eficaz.\n",
        "\n",
        "**Melhorando a busca tradicional.**\\\n",
        "A busca tradicional por palavras-chave ou lexical depende de correspondências exatas de palavras ou frases, o que pode ser limitante. Em contraste, a busca vetorial, ou busca semântica, aproveita a rica informação capturada nos embeddings de vetores. Ao mapear dados em um espaço vetorial, itens semelhantes são posicionados próximos uns dos outros com base em seu significado. Essa abordagem permite resultados de busca mais precisos e significativos, pois considera o contexto e o conteúdo semântico da consulta, e não apenas as palavras exatas usadas."
      ]
    },
    {
      "cell_type": "markdown",
      "source": [
        "# Passo 1 - Criar uma conta Free no Redis Cloud\n",
        "\n",
        "Basta seguir o passo a passo [aqui](https://colab.research.google.com/github/gacerioni/redis-workshop-notebook-validator/blob/master/redis-workshop-setup-notebook-validator.ipynb)!"
      ],
      "metadata": {
        "id": "EAWGcj0DqKBR"
      }
    },
    {
      "cell_type": "markdown",
      "source": [
        "# Passo 2 - Setup Rápido\n",
        "\n",
        "## Instalaçao das libs do Python e redis-cli"
      ],
      "metadata": {
        "id": "tW9m9pffaMl-"
      }
    },
    {
      "cell_type": "code",
      "execution_count": null,
      "metadata": {
        "id": "H-9YfABV3_1z"
      },
      "outputs": [],
      "source": [
        "# Instale as deps, como redis, sentence transformers, etc\n",
        "# equivale a\n",
        "# pip install redis pandas sentence-transformers tabulate numpy requests\n",
        "!pip install -r https://raw.githubusercontent.com/gacerioni/redis-workshop-json-search-vs/master/deps/vector-intro/requirements.txt\n",
        "\n",
        "# E instalar a CLI, via redis-tools, que inclui a famosa redis-cli\n",
        "!apt-get update\n",
        "!apt-get install -y redis-tools"
      ]
    },
    {
      "cell_type": "markdown",
      "metadata": {
        "id": "YhS6htjOCxr_"
      },
      "source": [
        "# Iniciando os trabalhos - All hands on deck!\n",
        "\n",
        "## Conectando com o Redis server"
      ]
    },
    {
      "cell_type": "code",
      "execution_count": null,
      "metadata": {
        "id": "2UxA0cSkBYgo"
      },
      "outputs": [],
      "source": [
        "import os\n",
        "\n",
        "# Coloque aqui os dados do seu DB do Redis Cloud\n",
        "REDIS_HOST=\"redis-18884.c98.us-east-1-4.ec2.redns.redis-cloud.com\"\n",
        "REDIS_PORT=18884\n",
        "REDIS_PASSWORD=\"lgZgS90vZJpnS4F2Y5EJ97YJTFGUUdvF\"\n",
        "\n",
        "# Caso o SSL esteja ativo pro endpoint, adicione --tls\n",
        "# Recomendo não misturar lé com cré aqui, visto que não vamos ter nenhuma informação sensível passando pelo fio.\n",
        "if REDIS_PASSWORD!=\"\":\n",
        "  os.environ[\"REDIS_CONN\"]=f\"-h {REDIS_HOST} -p {REDIS_PORT} -a {REDIS_PASSWORD} --no-auth-warning\"\n",
        "else:\n",
        "  os.environ[\"REDIS_CONN\"]=f\"-h {REDIS_HOST} -p {REDIS_PORT}\"\n",
        "\n",
        "# Caso o SSL esteja ativo pro endpoint, use rediss:// como o URL prefix\n",
        "REDIS_URL = f\"redis://:{REDIS_PASSWORD}@{REDIS_HOST}:{REDIS_PORT}\"\n",
        "INDEX_NAME = f\"qna:idx\"\n",
        "\n",
        "# Teste a Redis connection\n",
        "!redis-cli $REDIS_CONN PING"
      ]
    },
    {
      "cell_type": "code",
      "execution_count": null,
      "metadata": {
        "id": "iEIgz0Lvg9Im"
      },
      "outputs": [],
      "source": [
        "# Testando via Python (redis-py)\n",
        "import redis\n",
        "redis = redis.Redis(\n",
        "  host=REDIS_HOST,\n",
        "  port=REDIS_PORT,\n",
        "  password=REDIS_PASSWORD)\n",
        "redis.ping()"
      ]
    },
    {
      "cell_type": "markdown",
      "source": [
        "## 1 - Importando e preparando as libs que iremos usar\n",
        "\n",
        "Este primeiro bloco vai garantir que todas as dependências estejam prontas pra gente brincar com o lab."
      ],
      "metadata": {
        "id": "NBVqcG1rhkU1"
      }
    },
    {
      "cell_type": "code",
      "execution_count": null,
      "metadata": {
        "id": "OsJLTPAb36Z3"
      },
      "outputs": [],
      "source": [
        "import json\n",
        "import time\n",
        "\n",
        "import numpy as np\n",
        "import pandas as pd\n",
        "import requests\n",
        "import redis\n",
        "from redis.commands.search.field import (\n",
        "    NumericField,\n",
        "    TagField,\n",
        "    TextField,\n",
        "    VectorField,\n",
        ")\n",
        "from redis.commands.search.indexDefinition import IndexDefinition, IndexType\n",
        "from redis.commands.search.query import Query\n",
        "from sentence_transformers import SentenceTransformer\n",
        "\n",
        "redis = redis.Redis(\n",
        "  host=REDIS_HOST,\n",
        "  port=REDIS_PORT,\n",
        "  password=REDIS_PASSWORD,\n",
        "  decode_responses=True)\n",
        "\n",
        "\n",
        "redis.ping()"
      ]
    },
    {
      "cell_type": "markdown",
      "source": [
        "\n",
        "## 2 - Carregando a massa de dados - Bikes\n",
        "\n",
        "Vamos ingerir uma pequena massa de dados que contém bikes e suas descrições... como um SKU da vida.\n",
        "\n",
        "\n",
        "\n"
      ],
      "metadata": {
        "id": "92yNW9uNbbI2"
      }
    },
    {
      "cell_type": "code",
      "source": [
        "URL = \"https://raw.githubusercontent.com/gacerioni/redis-workshop-json-search-vs/master/deps/vector-intro/data/bikes.json\"\n",
        "response = requests.get(URL, timeout=10)\n",
        "bikes = response.json()\n",
        "\n",
        "# vamos ver o que foi carregado\n",
        "json.dumps(bikes[0], indent=2)"
      ],
      "metadata": {
        "id": "gqjlZ2q1xQrT"
      },
      "execution_count": null,
      "outputs": []
    },
    {
      "cell_type": "markdown",
      "metadata": {
        "id": "Gz5QOrxWCFd8"
      },
      "source": [
        "## 3 - Carregar os dados no Redis como JSON - Binary Tree (não é uma String)\n",
        "\n",
        "Vamos carregar essas bikes como documentos no Redis. Documentos JSON, claro!\n",
        "\n",
        "Vamos usar o conceito de pipeline, que pode ser muito útil com volumes maiores de dados. O Redis Cloud tem um proxy zero-latency aqui pra cuidar do multiplexing."
      ]
    },
    {
      "cell_type": "code",
      "execution_count": null,
      "metadata": {
        "id": "QEXNz8-TCEfA"
      },
      "outputs": [],
      "source": [
        "pipeline = redis.pipeline()\n",
        "for i, bike in enumerate(bikes, start=1):\n",
        "    redis_key = f\"bikes:{i:03}\"\n",
        "    pipeline.json().set(redis_key, \"$\", bike)\n",
        "res = pipeline.execute()"
      ]
    },
    {
      "cell_type": "markdown",
      "source": [
        "Com os dados carregados, podemos pegar trechos do documento JSON dessa maneira:"
      ],
      "metadata": {
        "id": "fDVJZXRSztc9"
      }
    },
    {
      "cell_type": "code",
      "source": [
        "res = redis.json().get(\"bikes:010\", \"$.model\")\n",
        "print(res)"
      ],
      "metadata": {
        "id": "_9F6gNawzy7Y"
      },
      "execution_count": null,
      "outputs": []
    },
    {
      "cell_type": "markdown",
      "source": [
        "## 4 - Escolha um modelo de embedding que entenda o Português Brasileiro\n",
        "\n",
        "A **HuggingFace** possui um extenso catálogo de modelos de **embedding** de texto que podem ser servidos localmente através do framework **SentenceTransformers**.\n",
        "\n",
        "Os gringos costumam usar o modelo MS MARCO, amplamente utilizado em mecanismos de busca, chatbots e outras aplicações de IA.\n",
        "\n",
        "Entretanto, quero que este lab funcione com o nosso lindo idioma. Vamos fazer com `paraphrase-multilingual-MiniLM-L12-v2`"
      ],
      "metadata": {
        "id": "jgYqj5_Lz8rR"
      }
    },
    {
      "cell_type": "code",
      "source": [
        "from sentence_transformers import SentenceTransformer\n",
        "\n",
        "embedder = SentenceTransformer('sentence-transformers/paraphrase-multilingual-MiniLM-L12-v2')"
      ],
      "metadata": {
        "id": "sbqCAJWb0l9L"
      },
      "execution_count": null,
      "outputs": []
    },
    {
      "cell_type": "markdown",
      "source": [
        "## 5 - Hora do Show: Gerando os embeddings no Redis!\n",
        "\n",
        "O primeiro passo aqui é iterar e selecionar as chaves que vamos trabalhar. Neste caso, são as `bikes::`"
      ],
      "metadata": {
        "id": "xvFilp681AmO"
      }
    },
    {
      "cell_type": "code",
      "source": [
        "keys = sorted(redis.keys(\"bikes:*\"))"
      ],
      "metadata": {
        "id": "mHsq5iGH1R-3"
      },
      "execution_count": null,
      "outputs": []
    },
    {
      "cell_type": "markdown",
      "source": [
        "Agora, use as chaves como entrada para o comando `JSON.MGET`, juntamente com o campo `$.description`, para coletar as descrições em uma lista.\n",
        "\n",
        "Em seguida, passe a lista de descrições para o método `.encode()`:"
      ],
      "metadata": {
        "id": "FIF8YYro1bBs"
      }
    },
    {
      "cell_type": "code",
      "source": [
        "descriptions = redis.json().mget(keys, \"$.description\")\n",
        "\n",
        "descriptions = [item for sublist in descriptions for item in sublist]\n",
        "\n",
        "embedder = SentenceTransformer(\"sentence-transformers/paraphrase-multilingual-MiniLM-L12-v2\")\n",
        "\n",
        "embeddings = embedder.encode(descriptions).astype(np.float32).tolist()\n",
        "\n",
        "VECTOR_DIMENSION = len(embeddings[0])\n",
        "\n",
        "print(\"Gabs says: This ST creates embeddings with {0} dimensions. Redis MUST know that. :D\".format(VECTOR_DIMENSION))"
      ],
      "metadata": {
        "id": "khLoYslM1q1b"
      },
      "execution_count": null,
      "outputs": []
    },
    {
      "cell_type": "markdown",
      "source": [
        "Finalmente, insira as descrições vetorizadas nos documentos de bicicletas no Redis usando o comando `JSON.SET`.\n",
        "\n",
        "O seguinte comando insere um novo campo em cada um dos documentos sob o **JSONPath** `$.description_embeddings`.\n",
        "\n",
        "Mais uma vez, faça isso usando um **pipeline** para evitar viagens desnecessárias pela rede:"
      ],
      "metadata": {
        "id": "g62EnoWm2wsV"
      }
    },
    {
      "cell_type": "code",
      "source": [
        "#print(keys/embeddings)\n",
        "\n",
        "pipeline = redis.pipeline()\n",
        "for key, embedding in zip(keys, embeddings):\n",
        "    pipeline.json().set(key, \"$.description_embeddings\", embedding)\n",
        "pipeline.execute()"
      ],
      "metadata": {
        "id": "f2Va2HoB26lH"
      },
      "execution_count": null,
      "outputs": []
    },
    {
      "cell_type": "markdown",
      "source": [
        "Vai ficar meio poluído aqui... mas olhem só como o dado está no Redis.\n",
        "\n",
        "Podem usar o RedisInsight também!"
      ],
      "metadata": {
        "id": "SkUTKW603XmT"
      }
    },
    {
      "cell_type": "code",
      "source": [
        "import json\n",
        "\n",
        "res = redis.json().get(\"bikes:010\")\n",
        "pretty_res = json.dumps(res, indent=4, ensure_ascii=False)\n",
        "print(pretty_res)\n"
      ],
      "metadata": {
        "id": "z3shMVt63dY1"
      },
      "execution_count": null,
      "outputs": []
    },
    {
      "cell_type": "markdown",
      "source": [
        "## 6 - Index e FT - Habilitando o Redis Query Engine nos dados\n",
        "\n",
        "Agora, devemos criar um **INDEX** para consultar metadados de documentos ou realizar buscas vetoriais também. Use o comando `FT.CREATE`.\n",
        "\n",
        "Aqui vai uma descrição mais completa do que estamos fazendo pro Redis entender o embedding como um vector array que pode ser usado nas consultas.\n",
        "\n",
        "Você pode encontrar mais detalhes sobre todas essas opções na documentação de referência de vetores.\n",
        "\n",
        "\n",
        "- **$.description_embeddings AS vector:** O caminho JSON do campo vetorial e seu alias de campo vector.\n",
        "- **FLAT:** Especifica o método de indexação, que pode ser um índice plano (flat index) ou um gráfico hierárquico navegável pequeno mundo (HNSW).\n",
        "- **TYPE FLOAT32:** Define a precisão de ponto flutuante de um componente do vetor, neste caso, um número de ponto flutuante de 32 bits.\n",
        "- **DIM 384:** O comprimento ou dimensão dos embeddings, determinado pelo modelo de incorporação escolhido.\n",
        "- **DISTANCE_METRIC COSINE:** A função de distância escolhida: distância cosseno.\n"
      ],
      "metadata": {
        "id": "9vbIsmbD4Bc9"
      }
    },
    {
      "cell_type": "code",
      "source": [
        "from redis.commands.search.field import (\n",
        "    NumericField,\n",
        "    TagField,\n",
        "    TextField,\n",
        "    VectorField,\n",
        ")\n",
        "from redis.commands.search.indexDefinition import IndexDefinition, IndexType\n",
        "from redis.exceptions import ResponseError\n",
        "\n",
        "# Function to check if the index exists\n",
        "def index_exists(index_name):\n",
        "    try:\n",
        "        # This will throw an error if the index does not exist\n",
        "        redis.ft(index_name).info()\n",
        "        return True\n",
        "    except ResponseError:\n",
        "        return False\n",
        "\n",
        "index_name = \"idx:bikes_vss\"\n",
        "\n",
        "# Check if the index exists and drop it if it does\n",
        "if index_exists(index_name):\n",
        "    print(\"Deleting older index version...\")\n",
        "    redis.execute_command(\"FT.DROPINDEX\", index_name)\n",
        "\n",
        "# Define the schema\n",
        "schema = (\n",
        "    TextField(\"$.model\", no_stem=True, as_name=\"model\"),\n",
        "    TextField(\"$.brand\", no_stem=True, as_name=\"brand\"),\n",
        "    NumericField(\"$.price\", as_name=\"price\"),\n",
        "    TagField(\"$.type\", as_name=\"type\"),\n",
        "    TextField(\"$.description\", as_name=\"description\"),\n",
        "    VectorField(\n",
        "        \"$.description_embeddings\",\n",
        "        \"FLAT\",\n",
        "        {\n",
        "            \"TYPE\": \"FLOAT32\",\n",
        "            \"DIM\": VECTOR_DIMENSION,\n",
        "            \"DISTANCE_METRIC\": \"COSINE\",\n",
        "        },\n",
        "        as_name=\"vector\",\n",
        "    ),\n",
        ")\n",
        "\n",
        "# Define the index definition\n",
        "definition = IndexDefinition(prefix=[\"bikes:\"], index_type=IndexType.JSON)\n",
        "\n",
        "# Create the index\n",
        "res = redis.ft(index_name).create_index(fields=schema, definition=definition)\n",
        "\n",
        "print(res)"
      ],
      "metadata": {
        "id": "EgZtslDL5ZzN"
      },
      "execution_count": null,
      "outputs": []
    },
    {
      "cell_type": "markdown",
      "source": [
        "Agora, vamos apenas garantir que a indexação foi tranquila... sem surpresas!"
      ],
      "metadata": {
        "id": "VRTjrTLC9n2v"
      }
    },
    {
      "cell_type": "code",
      "source": [
        "info = redis.ft(\"idx:bikes_vss\").info()\n",
        "num_docs = info[\"num_docs\"]\n",
        "indexing_failures = info[\"hash_indexing_failures\"]\n",
        "\n",
        "print(\"Documentos indexados: {0}\".format(num_docs))\n",
        "\n",
        "print(\"Falhas de Indexação: {0}\".format(indexing_failures))"
      ],
      "metadata": {
        "id": "f-j1Qc5i9rdE"
      },
      "execution_count": null,
      "outputs": []
    },
    {
      "cell_type": "markdown",
      "source": [
        "# Segunda Parte - Usando o Redis como um Vector DB pra valer\n",
        "\n",
        "Vou continuar no passo 7, pra não confundir vocês. Agora, vamos começar a brincar com os dados que estão lá no Redis.\n",
        "\n",
        "Acredito que o caminho mais racional e simples será fazer o embedding das queries que clientes fariam normalmente.\n",
        "\n",
        "Na minha humilde opinião, é o primeiro passo pra usar o Redis numa arquitetura RAG: vetores.\n",
        "\n",
        "## 7 - Carregando algumas queries no Python"
      ],
      "metadata": {
        "id": "nUcwBEdC-cwk"
      }
    },
    {
      "cell_type": "code",
      "source": [
        "queries = [\n",
        "           \"Bicicleta para crianças pequenas\",\n",
        "           \"Melhores bicicletas de montanha para crianças\",\n",
        "           \"Bicicleta de montanha barata para crianças\",\n",
        "           \"Bicicleta de montanha específica para mulheres\",\n",
        "           \"Bicicleta de estrada para iniciantes\",\n",
        "           \"Bicicleta de comutação para pessoas com mais de 60 anos\",\n",
        "           \"Bicicleta de comutação confortável\",\n",
        "           \"Boa bicicleta para estudantes universitários\",\n",
        "           \"Bicicleta de montanha para iniciantes\",\n",
        "           \"Bicicleta vintage\",\n",
        "           \"Bicicleta confortável para a cidade\"\n",
        "           ]\n"
      ],
      "metadata": {
        "id": "yWg2QVYf_S0a"
      },
      "execution_count": null,
      "outputs": []
    },
    {
      "cell_type": "markdown",
      "source": [
        "Vamos fazer o embedding de cada uma dessas queries... jogo rápido!"
      ],
      "metadata": {
        "id": "dIfhlXv2_hrH"
      }
    },
    {
      "cell_type": "code",
      "source": [
        "encoded_queries = embedder.encode(queries)\n",
        "len(encoded_queries)\n",
        "\n",
        "print(encoded_queries)"
      ],
      "metadata": {
        "id": "EdhXedRI_nvF"
      },
      "execution_count": null,
      "outputs": []
    },
    {
      "cell_type": "markdown",
      "source": [
        "## 8 - Busca K-nearest neighbors (KNN)\n",
        "\n",
        "O algoritmo **KNN** calcula a distância entre o vetor de consulta e cada vetor no Redis com base na função de distância escolhida. Cosine, no nosso caso.\n",
        "\n",
        "Em seguida, retorna os **top K** itens com as menores distâncias ao vetor de consulta. *Estes são os itens mais semanticamente similares.*\n",
        "\n",
        "**Agora, construa uma consulta para fazer exatamente isso:**"
      ],
      "metadata": {
        "id": "5V441bYv_wMD"
      }
    },
    {
      "cell_type": "code",
      "source": [
        "query = (\n",
        "    Query('(*)=>[KNN 3 @vector $query_vector AS vector_score]')\n",
        "     .sort_by('vector_score')\n",
        "     .return_fields('vector_score', 'id', 'brand', 'model', 'description')\n",
        "     .dialect(2)\n",
        ")"
      ],
      "metadata": {
        "id": "gElYhYXsAFJc"
      },
      "execution_count": null,
      "outputs": []
    },
    {
      "cell_type": "markdown",
      "source": [
        "**Permita-me explicar aqui:**\n",
        "\n",
        "- A expressão de filtro (*) significa todos. Em outras palavras, nenhum filtro foi aplicado. Você pode substituí-la por uma expressão que filtre por metadados adicionais. Inclusive GeoLocation.\n",
        "\n",
        "- A parte **KNN** da consulta procura os 3 vizinhos mais próximos.\n",
        "- O vetor de consulta deve ser passado como o parâmetro `query_vector`.\n",
        "- A distância ao vetor de consulta é retornada como `vector_score`.\n",
        "- Os resultados são classificados por este `vector_score`.\n",
        "- Por fim, retorna os campos `vector_score, id, brand, model e description` para cada resultado."
      ],
      "metadata": {
        "id": "z0N7lD8gATu2"
      }
    },
    {
      "cell_type": "markdown",
      "source": [
        "\n",
        "## 9 - Como usar a query contra o Redis?\n",
        "\n",
        "**Agora, você deve passar a consulta vetorizada como um array de bytes com o nome do parâmetro query_vector.**\\\n",
        "O código a seguir cria um array **NumPy** em Python a partir do vetor de consulta e o converte em uma representação compacta em nível de byte que pode ser passada como um parâmetro para a consulta:\n",
        "\n",
        "```\n",
        "redis.ft('idx:bikes_vss').search(\n",
        "    query,\n",
        "    {\n",
        "      'query_vector': np.array(encoded_query, dtype=np.float32).tobytes()\n",
        "    }\n",
        ").docs\n",
        "```\n",
        "\n",
        "Com o template para a consulta pronto, você pode executar todas as consultas em um loop. Observe que o script calcula o vector_score para cada resultado como 1 - doc.vector_score. Como a distância cosseno é usada como a métrica, os itens com a menor distância estão mais próximos e, portanto, são mais similares à consulta.\n",
        "\n",
        "Em seguida, faça um loop sobre os documentos correspondentes e crie uma lista de resultados que pode ser convertida em uma tabela Pandas para visualizar os resultados:"
      ],
      "metadata": {
        "id": "E5CRd3mHBoPq"
      }
    },
    {
      "cell_type": "code",
      "source": [
        "def create_query_table(query, queries, encoded_queries, extra_params=None):\n",
        "    \"\"\"\n",
        "    Creates a query table.\n",
        "    \"\"\"\n",
        "    results_list = []\n",
        "    for i, encoded_query in enumerate(encoded_queries):\n",
        "        result_docs = (\n",
        "            redis.ft(\"idx:bikes_vss\")\n",
        "            .search(\n",
        "                query,\n",
        "                {\"query_vector\": np.array(encoded_query, dtype=np.float32).tobytes()}\n",
        "                | (extra_params if extra_params else {}),\n",
        "            )\n",
        "            .docs\n",
        "        )\n",
        "        for doc in result_docs:\n",
        "            vector_score = round(1 - float(doc.vector_score), 2)\n",
        "            results_list.append(\n",
        "                {\n",
        "                    \"query\": queries[i],\n",
        "                    \"score\": vector_score,\n",
        "                    \"id\": doc.id,\n",
        "                    \"brand\": doc.brand,\n",
        "                    \"model\": doc.model,\n",
        "                    \"description\": doc.description,\n",
        "                }\n",
        "            )\n",
        "\n",
        "    # Optional: convert the table to Markdown using Pandas\n",
        "    queries_table = pd.DataFrame(results_list)\n",
        "    queries_table.sort_values(\n",
        "        by=[\"query\", \"score\"], ascending=[True, False], inplace=True\n",
        "    )\n",
        "    queries_table[\"query\"] = queries_table.groupby(\"query\")[\"query\"].transform(\n",
        "        lambda x: [x.iloc[0]] + [\"\"] * (len(x) - 1)\n",
        "    )\n",
        "    queries_table[\"description\"] = queries_table[\"description\"].apply(\n",
        "        lambda x: (x[:497] + \"...\") if len(x) > 500 else x\n",
        "    )\n",
        "    return queries_table.to_markdown(index=False)"
      ],
      "metadata": {
        "id": "wEQG-XFsBuEr"
      },
      "execution_count": null,
      "outputs": []
    },
    {
      "cell_type": "markdown",
      "source": [
        "Os resultados da consulta mostram as três melhores correspondências (nosso parâmetro K) de cada consulta individual, juntamente com o id, a marca e o modelo da bicicleta para cada consulta.\n",
        "\n",
        "Por exemplo, para a consulta \"Melhores bicicletas de montanha para crianças\", a maior pontuação de similaridade (>0.60) e, portanto, a correspondência mais próxima foi a bicicleta da marca 'Nord' modelo 'Chook air 5', descrita como:\n",
        "\n",
        "\n",
        "\n",
        "> A Chook Air 5 oferece às crianças a partir de seis anos uma bicicleta de montanha durável e superleve para sua primeira experiência em trilhas e cruzeiros fáceis por florestas e campos. O tubo superior mais baixo facilita montar e desmontar em qualquer situação, proporcionando mais segurança para seus filhos nas trilhas. A Chook Air 5 é a introdução perfeita ao mountain biking.\n",
        "\n",
        "Pela descrição, esta bicicleta é uma excelente escolha para crianças mais novas, e os embeddings capturaram com precisão a semântica da descrição.\n",
        "\n"
      ],
      "metadata": {
        "id": "4FTQfqg0CAs6"
      }
    },
    {
      "cell_type": "code",
      "source": [
        "query = (\n",
        "    Query(\"(*)=>[KNN 3 @vector $query_vector AS vector_score]\")\n",
        "    .sort_by(\"vector_score\")\n",
        "    .return_fields(\"vector_score\", \"id\", \"brand\", \"model\", \"description\")\n",
        "    .dialect(2)\n",
        ")\n",
        "\n",
        "table = create_query_table(query, queries, encoded_queries)\n",
        "print(table)"
      ],
      "metadata": {
        "id": "MFyOXkysCaMI"
      },
      "execution_count": null,
      "outputs": []
    }
  ],
  "metadata": {
    "accelerator": "GPU",
    "colab": {
      "provenance": [],
      "include_colab_link": true
    },
    "gpuClass": "standard",
    "kernelspec": {
      "display_name": "Python 3",
      "name": "python3"
    },
    "language_info": {
      "name": "python",
      "version": "3.9.6"
    }
  },
  "nbformat": 4,
  "nbformat_minor": 0
}